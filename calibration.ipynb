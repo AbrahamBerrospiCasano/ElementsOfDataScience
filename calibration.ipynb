{
 "cells": [
  {
   "cell_type": "markdown",
   "metadata": {},
   "source": [
    "# Calibration\n",
    "\n",
    "Elements of Data Science\n",
    "\n",
    "by [Allen Downey](https://allendowney.com)\n",
    "\n",
    "[MIT License](https://opensource.org/licenses/MIT)\n",
    "\n",
    "### Goals\n",
    "\n",
    "In the previous notebook...\n",
    "\n",
    "The primary goal of this notebook is to review ways to evaluate binary classification algorithms.  We'll start with the confusion matrix and the metrics that are derived from it, including accuracy, sensitivity, specificity, predictive value, false positive rate, and false negative rate.\n",
    "\n",
    "In this notebook..."
   ]
  },
  {
   "cell_type": "markdown",
   "metadata": {},
   "source": [
    "Here are the libraries and functions I'll use for my analysis."
   ]
  },
  {
   "cell_type": "code",
   "execution_count": 1,
   "metadata": {},
   "outputs": [],
   "source": [
    "import pandas as pd\n",
    "import numpy as np\n",
    "import matplotlib.pyplot as plt"
   ]
  },
  {
   "cell_type": "code",
   "execution_count": 2,
   "metadata": {},
   "outputs": [],
   "source": [
    "def decorate(**options):\n",
    "    \"\"\"Decorate the current axes.\n",
    "    \n",
    "    Call decorate with keyword arguments like\n",
    "    decorate(title='Title',\n",
    "             xlabel='x',\n",
    "             ylabel='y')\n",
    "             \n",
    "    The keyword arguments can be any of the axis properties\n",
    "    https://matplotlib.org/api/axes_api.html\n",
    "    \"\"\"\n",
    "    plt.gca().set(**options)\n",
    "    plt.tight_layout()"
   ]
  },
  {
   "cell_type": "code",
   "execution_count": 3,
   "metadata": {},
   "outputs": [],
   "source": [
    "def values(series):\n",
    "    \"\"\"Count the values and sort.\n",
    "    \n",
    "    series: pd.Series\n",
    "    \n",
    "    returns: series mapping from values to frequencies\n",
    "    \"\"\"\n",
    "    return series.value_counts(dropna=False).sort_index()"
   ]
  },
  {
   "cell_type": "markdown",
   "metadata": {},
   "source": [
    "## Data\n",
    "\n",
    "[This repository](https://github.com/propublica/compas-analysis) the data and analysis pipeline described on [this web page](https://www.propublica.org/article/how-we-analyzed-the-compas-recidivism-algorithm).\n",
    "\n",
    "The terms of use for the data [are here](https://www.propublica.org/datastore/terms).  In compliance with those terms, I am not redistributing the data.\n",
    "\n",
    "The following cell downloads the data file we'll use directly from their repository."
   ]
  },
  {
   "cell_type": "code",
   "execution_count": 4,
   "metadata": {},
   "outputs": [],
   "source": [
    "import os\n",
    "\n",
    "if not os.path.exists('compas-scores-two-years.csv'):\n",
    "    !wget https://github.com/propublica/compas-analysis/raw/master/compas-scores-two-years.csv"
   ]
  },
  {
   "cell_type": "markdown",
   "metadata": {},
   "source": [
    "The following cell read the data file:"
   ]
  },
  {
   "cell_type": "code",
   "execution_count": 5,
   "metadata": {},
   "outputs": [
    {
     "data": {
      "text/plain": [
       "(7214, 53)"
      ]
     },
     "execution_count": 5,
     "metadata": {},
     "output_type": "execute_result"
    }
   ],
   "source": [
    "cp = pd.read_csv(\"compas-scores-two-years.csv\")\n",
    "cp.shape"
   ]
  },
  {
   "cell_type": "markdown",
   "metadata": {},
   "source": [
    "The dataset includes 7214 rows, one for each defendant, and 53 columns."
   ]
  },
  {
   "cell_type": "markdown",
   "metadata": {},
   "source": [
    "## Code\n",
    "\n",
    "The following are functions from the previous notebook we will need again."
   ]
  },
  {
   "cell_type": "code",
   "execution_count": 6,
   "metadata": {},
   "outputs": [],
   "source": [
    "def make_matrix(cp, subgroup, threshold=4):\n",
    "    \"\"\"Make a confusion matrix.\n",
    "    \n",
    "    cp: DataFrame\n",
    "    subgroup: Boolean Series\n",
    "    \n",
    "    returns: DataFrame containing the confusion matrix\n",
    "    \"\"\"\n",
    "    a = np.where(cp['decile_score'] > threshold, \n",
    "                 'Positive', \n",
    "                 'Negative')\n",
    "    high_risk = pd.Series(a, name='Predicted')\n",
    "    \n",
    "    a = np.where(cp['two_year_recid'] == 1, \n",
    "                 'Condition', \n",
    "                 'No Condition')\n",
    "    new_charge_2 = pd.Series(a, name='Actual')\n",
    "\n",
    "    matrix = pd.crosstab(high_risk[subgroup], new_charge_2[subgroup])\n",
    "    matrix.sort_index(axis=0, ascending=False, inplace=True)\n",
    "    \n",
    "    return matrix"
   ]
  },
  {
   "cell_type": "code",
   "execution_count": 7,
   "metadata": {},
   "outputs": [],
   "source": [
    "def percent(x, y):\n",
    "    \"\"\"Compute the percentage `x/(x+y)*100`.\n",
    "    \"\"\"\n",
    "    return x / (x+y) * 100"
   ]
  },
  {
   "cell_type": "code",
   "execution_count": 8,
   "metadata": {},
   "outputs": [],
   "source": [
    "def predictive_value(m):\n",
    "    \"\"\"Compute positive and negative predictive value.\n",
    "    \n",
    "    m: confusion matrix\n",
    "    \"\"\"\n",
    "    tp, fp, fn, tn = m.to_numpy().flatten()\n",
    "    ppv = percent(tp, fp)\n",
    "    npv = percent(tn, fn)\n",
    "    return ppv, npv"
   ]
  },
  {
   "cell_type": "code",
   "execution_count": 9,
   "metadata": {},
   "outputs": [],
   "source": [
    "def sens_spec(m):\n",
    "    \"\"\"Compute sensitivity and specificity.\n",
    "    \n",
    "    m: confusion matrix\n",
    "    \"\"\"\n",
    "    tp, fp, fn, tn = m.to_numpy().flatten()\n",
    "    sens = percent(tp, fn)\n",
    "    spec = percent(tn, fp)\n",
    "    return sens, spec"
   ]
  },
  {
   "cell_type": "code",
   "execution_count": 10,
   "metadata": {},
   "outputs": [],
   "source": [
    "def error_rates(m):\n",
    "    \"\"\"Compute false positive and false negative rate.\n",
    "    \n",
    "    m: confusion matrix\n",
    "    \"\"\"\n",
    "    tp, fp, fn, tn = m.to_numpy().flatten()\n",
    "    fpr = percent(fp, tn)\n",
    "    fnr = percent(fn, tp)\n",
    "    return fpr, fnr"
   ]
  },
  {
   "cell_type": "code",
   "execution_count": 11,
   "metadata": {},
   "outputs": [],
   "source": [
    "def prevalence(df):\n",
    "    \"\"\"Compute prevalence.\n",
    "    \n",
    "    m: confusion matrix\n",
    "    \"\"\"\n",
    "    tp, fp, fn, tn = df.to_numpy().flatten()\n",
    "    prevalence = percent(tp+fn, tn+fp)\n",
    "    return prevalence"
   ]
  },
  {
   "cell_type": "code",
   "execution_count": 12,
   "metadata": {},
   "outputs": [],
   "source": [
    "def compute_metrics(m, name=''):\n",
    "    \"\"\"Compute all metrics.\n",
    "    \n",
    "    m: confusion matrix\n",
    "    \n",
    "    returns: DataFrame\n",
    "    \"\"\"\n",
    "    fpr, fnr = error_rates(m)\n",
    "    ppv, npv = predictive_value(m)\n",
    "    prev = prevalence(m)\n",
    "    \n",
    "    index = ['FP rate', 'FN rate', 'PPV', 'NPV', 'Prevalence']\n",
    "    df = pd.DataFrame(index=index, columns=['Percent'])\n",
    "    df.Percent = fpr, fnr, ppv, npv, prev\n",
    "    df.index.name = name\n",
    "    return df"
   ]
  },
  {
   "cell_type": "markdown",
   "metadata": {},
   "source": [
    "## The WaPo response\n",
    "\n",
    "After the ProPublica article, the Washington Post (WaPo) published a response by Sam Corbett-Davies, Emma Pierson, Avi Feller and Sharad Goel: \"[A computer program used for bail and sentencing decisions was labeled biased against blacks. It’s actually not that clear.](https://www.washingtonpost.com/news/monkey-cage/wp/2016/10/17/can-an-algorithm-be-racist-our-analysis-is-more-cautious-than-propublicas/)\"\n",
    "\n",
    "The WaPo article summarizes the ProPublica article and the response from Northpointe, the company that makes COMPAS.  \n",
    "\n",
    "* ProPublica claims that COMPAS is unfair because \"among defendants who ultimately did not reoffend, blacks were more than twice as likely as whites to be classified as medium or high risk.\"\n",
    "\n",
    "* Northpoint claims that COMPAS is fair because \"scores mean essentially the same thing regardless of the defendant’s race. For example, among defendants who scored a seven on the COMPAS scale, 60 percent of white defendants reoffended, which is nearly identical to the 61 percent of black defendants who reoffended.\"\n",
    "\n",
    "So ProPublica and Northpoint are invoking different definitions of \"fair\".\n",
    "\n",
    "In the previous notebook we explored the first definition of \"fair\" by computing error rates (false positive and false negative) for white and black defendants.\n",
    "\n",
    "In this notebook, we'll explore the second definition, which is called \"calibration\"."
   ]
  },
  {
   "cell_type": "markdown",
   "metadata": {},
   "source": [
    "## Calibration\n",
    "\n",
    "The WaPo article includes this figure, which shows \"white and black defendants with the same risk score are roughly equally likely to reoffend.\"\n",
    "\n",
    "<img width=90%, src='https://raw.githubusercontent.com/AllenDowney/ElementsOfDataScience/master/calibration1.png'>"
   ]
  },
  {
   "cell_type": "markdown",
   "metadata": {},
   "source": [
    "To understand this figure, let's start by replicating it.\n",
    "\n",
    "The following function groups defendants by decile score and computes recidivism rate in each group."
   ]
  },
  {
   "cell_type": "code",
   "execution_count": 13,
   "metadata": {},
   "outputs": [],
   "source": [
    "def calibration_curve(df):\n",
    "    \"\"\"Compute probability of recidivism by decile score.\n",
    "    \n",
    "    df: DataFrame\n",
    "    \n",
    "    returns: Series\n",
    "    \"\"\"\n",
    "    grouped = df.groupby('decile_score')\n",
    "    return grouped['two_year_recid'].mean()"
   ]
  },
  {
   "cell_type": "markdown",
   "metadata": {},
   "source": [
    "The following figure shows this calibration curve for all defendants and broken down by race."
   ]
  },
  {
   "cell_type": "code",
   "execution_count": 14,
   "metadata": {},
   "outputs": [
    {
     "data": {
      "text/plain": [
       "False    4760\n",
       "True     2454\n",
       "Name: white, dtype: int64"
      ]
     },
     "execution_count": 14,
     "metadata": {},
     "output_type": "execute_result"
    }
   ],
   "source": [
    "white = (cp['race'] == 'Caucasian')\n",
    "white.name = 'white'\n",
    "values(white)"
   ]
  },
  {
   "cell_type": "code",
   "execution_count": 15,
   "metadata": {},
   "outputs": [
    {
     "data": {
      "text/plain": [
       "False    3518\n",
       "True     3696\n",
       "Name: black, dtype: int64"
      ]
     },
     "execution_count": 15,
     "metadata": {},
     "output_type": "execute_result"
    }
   ],
   "source": [
    "black = (cp['race'] == 'African-American')\n",
    "black.name = 'black'\n",
    "values(black)"
   ]
  },
  {
   "cell_type": "code",
   "execution_count": 16,
   "metadata": {},
   "outputs": [
    {
     "data": {
      "image/png": "[encoded data removed]",
      "text/plain": [
       "<Figure size 432x288 with 1 Axes>"
      ]
     },
     "metadata": {
      "needs_background": "light"
     },
     "output_type": "display_data"
    }
   ],
   "source": [
    "cal_all = calibration_curve(cp)\n",
    "cal_all.plot(linestyle='dotted', \n",
    "              color='gray',\n",
    "              label='All defendants')\n",
    "\n",
    "cal_white = calibration_curve(cp[white])\n",
    "cal_white.plot(label='White')\n",
    "\n",
    "cal_white = calibration_curve(cp[black])\n",
    "cal_white.plot(label='Black')\n",
    "\n",
    "decorate(xlabel='Risk score',\n",
    "         ylabel='Prob recidivism',\n",
    "         title='Recivism vs decile score, grouped by race')\n",
    "plt.legend();"
   ]
  },
  {
   "cell_type": "markdown",
   "metadata": {},
   "source": [
    "This figure shows that people with higher scores have higher probabilities of recidivism.  In that sense COMPAS works as intended; people with higher risk scores are substantially more likely to be arrested again.\n",
    "\n",
    "Furthermore, the test is equally calibrated for black and white defendants; in each risk group, the probability of recidivism is about the same for black and white defendants.\n",
    "\n",
    "The WaPo article explains why this is important:\n",
    "\n",
    "> A risk score of seven for black defendants should mean the same thing as a score of seven for white defendants. Imagine if that were not so, and we systematically assigned whites higher risk scores than equally risky black defendants with the goal of mitigating ProPublica’s criticism. We would consider that a violation of the fundamental tenet of equal treatment.\n",
    "\n",
    "So we want a test that has the same predictive value for all groups, and we want a test that has the same error rates for all groups.  \n",
    "\n",
    "But there's the problem: as the WaPo article explains, it is mathematically impossible to be fair, by both definitions, at the same time.\n",
    "\n",
    "To see why, let's go back to the confusion matrix."
   ]
  },
  {
   "cell_type": "markdown",
   "metadata": {},
   "source": [
    "## Matrices and metrics"
   ]
  },
  {
   "cell_type": "markdown",
   "metadata": {},
   "source": [
    "As we saw in the previous notebook, here are the confusion matrices for white and black defendants."
   ]
  },
  {
   "cell_type": "code",
   "execution_count": 17,
   "metadata": {},
   "outputs": [
    {
     "data": {
      "text/html": [
       "<div>\n",
       "<style scoped>\n",
       "    .dataframe tbody tr th:only-of-type {\n",
       "        vertical-align: middle;\n",
       "    }\n",
       "\n",
       "    .dataframe tbody tr th {\n",
       "        vertical-align: top;\n",
       "    }\n",
       "\n",
       "    .dataframe thead th {\n",
       "        text-align: right;\n",
       "    }\n",
       "</style>\n",
       "<table border=\"1\" class=\"dataframe\">\n",
       "  <thead>\n",
       "    <tr style=\"text-align: right;\">\n",
       "      <th>Actual</th>\n",
       "      <th>Condition</th>\n",
       "      <th>No Condition</th>\n",
       "    </tr>\n",
       "    <tr>\n",
       "      <th>Predicted</th>\n",
       "      <th></th>\n",
       "      <th></th>\n",
       "    </tr>\n",
       "  </thead>\n",
       "  <tbody>\n",
       "    <tr>\n",
       "      <th>Positive</th>\n",
       "      <td>505</td>\n",
       "      <td>349</td>\n",
       "    </tr>\n",
       "    <tr>\n",
       "      <th>Negative</th>\n",
       "      <td>461</td>\n",
       "      <td>1139</td>\n",
       "    </tr>\n",
       "  </tbody>\n",
       "</table>\n",
       "</div>"
      ],
      "text/plain": [
       "Actual     Condition  No Condition\n",
       "Predicted                         \n",
       "Positive         505           349\n",
       "Negative         461          1139"
      ]
     },
     "execution_count": 17,
     "metadata": {},
     "output_type": "execute_result"
    }
   ],
   "source": [
    "matrix_white = make_matrix(cp, white)\n",
    "matrix_white"
   ]
  },
  {
   "cell_type": "code",
   "execution_count": 18,
   "metadata": {
    "scrolled": true
   },
   "outputs": [
    {
     "data": {
      "text/html": [
       "<div>\n",
       "<style scoped>\n",
       "    .dataframe tbody tr th:only-of-type {\n",
       "        vertical-align: middle;\n",
       "    }\n",
       "\n",
       "    .dataframe tbody tr th {\n",
       "        vertical-align: top;\n",
       "    }\n",
       "\n",
       "    .dataframe thead th {\n",
       "        text-align: right;\n",
       "    }\n",
       "</style>\n",
       "<table border=\"1\" class=\"dataframe\">\n",
       "  <thead>\n",
       "    <tr style=\"text-align: right;\">\n",
       "      <th>Actual</th>\n",
       "      <th>Condition</th>\n",
       "      <th>No Condition</th>\n",
       "    </tr>\n",
       "    <tr>\n",
       "      <th>Predicted</th>\n",
       "      <th></th>\n",
       "      <th></th>\n",
       "    </tr>\n",
       "  </thead>\n",
       "  <tbody>\n",
       "    <tr>\n",
       "      <th>Positive</th>\n",
       "      <td>1369</td>\n",
       "      <td>805</td>\n",
       "    </tr>\n",
       "    <tr>\n",
       "      <th>Negative</th>\n",
       "      <td>532</td>\n",
       "      <td>990</td>\n",
       "    </tr>\n",
       "  </tbody>\n",
       "</table>\n",
       "</div>"
      ],
      "text/plain": [
       "Actual     Condition  No Condition\n",
       "Predicted                         \n",
       "Positive        1369           805\n",
       "Negative         532           990"
      ]
     },
     "execution_count": 18,
     "metadata": {},
     "output_type": "execute_result"
    }
   ],
   "source": [
    "matrix_black = make_matrix(cp, black)\n",
    "matrix_black"
   ]
  },
  {
   "cell_type": "markdown",
   "metadata": {},
   "source": [
    "And here are the metrics we computed from the confusion matrices:"
   ]
  },
  {
   "cell_type": "code",
   "execution_count": 19,
   "metadata": {
    "scrolled": true
   },
   "outputs": [
    {
     "data": {
      "text/html": [
       "<div>\n",
       "<style scoped>\n",
       "    .dataframe tbody tr th:only-of-type {\n",
       "        vertical-align: middle;\n",
       "    }\n",
       "\n",
       "    .dataframe tbody tr th {\n",
       "        vertical-align: top;\n",
       "    }\n",
       "\n",
       "    .dataframe thead th {\n",
       "        text-align: right;\n",
       "    }\n",
       "</style>\n",
       "<table border=\"1\" class=\"dataframe\">\n",
       "  <thead>\n",
       "    <tr style=\"text-align: right;\">\n",
       "      <th></th>\n",
       "      <th>Percent</th>\n",
       "    </tr>\n",
       "    <tr>\n",
       "      <th>White defendants</th>\n",
       "      <th></th>\n",
       "    </tr>\n",
       "  </thead>\n",
       "  <tbody>\n",
       "    <tr>\n",
       "      <th>FP rate</th>\n",
       "      <td>23.454301</td>\n",
       "    </tr>\n",
       "    <tr>\n",
       "      <th>FN rate</th>\n",
       "      <td>47.722567</td>\n",
       "    </tr>\n",
       "    <tr>\n",
       "      <th>PPV</th>\n",
       "      <td>59.133489</td>\n",
       "    </tr>\n",
       "    <tr>\n",
       "      <th>NPV</th>\n",
       "      <td>71.187500</td>\n",
       "    </tr>\n",
       "    <tr>\n",
       "      <th>Prevalence</th>\n",
       "      <td>39.364303</td>\n",
       "    </tr>\n",
       "  </tbody>\n",
       "</table>\n",
       "</div>"
      ],
      "text/plain": [
       "                    Percent\n",
       "White defendants           \n",
       "FP rate           23.454301\n",
       "FN rate           47.722567\n",
       "PPV               59.133489\n",
       "NPV               71.187500\n",
       "Prevalence        39.364303"
      ]
     },
     "execution_count": 19,
     "metadata": {},
     "output_type": "execute_result"
    }
   ],
   "source": [
    "metrics_white = compute_metrics(matrix_white, \n",
    "                                'White defendants')\n",
    "metrics_white"
   ]
  },
  {
   "cell_type": "code",
   "execution_count": 20,
   "metadata": {},
   "outputs": [
    {
     "data": {
      "text/html": [
       "<div>\n",
       "<style scoped>\n",
       "    .dataframe tbody tr th:only-of-type {\n",
       "        vertical-align: middle;\n",
       "    }\n",
       "\n",
       "    .dataframe tbody tr th {\n",
       "        vertical-align: top;\n",
       "    }\n",
       "\n",
       "    .dataframe thead th {\n",
       "        text-align: right;\n",
       "    }\n",
       "</style>\n",
       "<table border=\"1\" class=\"dataframe\">\n",
       "  <thead>\n",
       "    <tr style=\"text-align: right;\">\n",
       "      <th></th>\n",
       "      <th>Percent</th>\n",
       "    </tr>\n",
       "    <tr>\n",
       "      <th>Black defendants</th>\n",
       "      <th></th>\n",
       "    </tr>\n",
       "  </thead>\n",
       "  <tbody>\n",
       "    <tr>\n",
       "      <th>FP rate</th>\n",
       "      <td>44.846797</td>\n",
       "    </tr>\n",
       "    <tr>\n",
       "      <th>FN rate</th>\n",
       "      <td>27.985271</td>\n",
       "    </tr>\n",
       "    <tr>\n",
       "      <th>PPV</th>\n",
       "      <td>62.971481</td>\n",
       "    </tr>\n",
       "    <tr>\n",
       "      <th>NPV</th>\n",
       "      <td>65.045992</td>\n",
       "    </tr>\n",
       "    <tr>\n",
       "      <th>Prevalence</th>\n",
       "      <td>51.433983</td>\n",
       "    </tr>\n",
       "  </tbody>\n",
       "</table>\n",
       "</div>"
      ],
      "text/plain": [
       "                    Percent\n",
       "Black defendants           \n",
       "FP rate           44.846797\n",
       "FN rate           27.985271\n",
       "PPV               62.971481\n",
       "NPV               65.045992\n",
       "Prevalence        51.433983"
      ]
     },
     "execution_count": 20,
     "metadata": {},
     "output_type": "execute_result"
    }
   ],
   "source": [
    "metrics_black = compute_metrics(matrix_black, \n",
    "                                'Black defendants')\n",
    "metrics_black"
   ]
  },
  {
   "cell_type": "markdown",
   "metadata": {},
   "source": [
    "If we look at the error rates , it seems like COMPAS is biased against black defendants:\n",
    "\n",
    "* Their false positive rate is higher (45% vs 23%): among people who will not recidivate, black defendants are more likely to be classified high risk.\n",
    "\n",
    "* Their false negative rate is lower (28% vs 48%): among people who *will* recidivate, black defendants are less likely to be classified low risk.\n",
    "\n",
    "But if we look at the the predictive values (PPV and NPV) it seems like COMPAS is biased in favor of black defendants:\n",
    "\n",
    "* Among people in the high risk group, black defendants are more likely to be arrested again (63% vs 59%).\n",
    "\n",
    "* Among people in the low risk group, black defendants are less likely to \"survive\" two years without being arrested again (65% vs 71%).\n",
    "\n",
    "It seems like we should be able to fix these problems, but it turns out that we can't.  \n",
    "\n",
    "* If we make the error rates more equal, we make the predictive values more unfair, and the other way around; \n",
    "\n",
    "* If we make the predictive values more equal, we make the error rates more unfair."
   ]
  },
  {
   "cell_type": "markdown",
   "metadata": {},
   "source": [
    "Fundamentally, the problem is that the prevalence of recidivism is different in the two groups: about 39% of white defendants were arrested again, compared to 51% of black defendants.\n",
    "\n",
    "As long as that's the case (for any two groups) the predictive values and error rates can't be \"fair\" at the same time.\n",
    "\n",
    "To see why, consider this: the confusion matrix has four numbers in it, but they have to add up to 100%, so if you give me any three elements of the matrix, I can compute the fourth.\n",
    "\n",
    "In the same way, if you provide any three (independent) metrics, I can compute the elements of the matrix, and any other metrics.  Specifically:\n",
    "\n",
    "* Given prevalence, PPV and NPV, we can compute the confusion matrix and the error rates.\n",
    "\n",
    "* Given prevalence, FPR and FNR, we can compute the confusion matrix and the predictive values.\n",
    "\n",
    "We could do the algebra by hand, but it is easier (and probably more reliable) to use SymPy.\n",
    "\n",
    "Here are the symbols we'll use:"
   ]
  },
  {
   "cell_type": "code",
   "execution_count": 21,
   "metadata": {},
   "outputs": [],
   "source": [
    "from sympy import symbols, Eq, solve\n",
    "\n",
    "tn, fp, fn, tp = symbols('tn, fp, fn, tp')\n",
    "ppv, npv, prev = symbols('ppv, npv, prev')\n",
    "fpr, fnr = symbols('fpr, fnr')"
   ]
  },
  {
   "cell_type": "markdown",
   "metadata": {},
   "source": [
    "And here are the equations that relate the metrics to the elements of the confusion matrix."
   ]
  },
  {
   "cell_type": "code",
   "execution_count": 22,
   "metadata": {},
   "outputs": [],
   "source": [
    "eq1 = Eq(prev, tp+fn)\n",
    "eq2 = Eq(fpr, fp / (fp+tn))\n",
    "eq3 = Eq(fnr, fn / (fn+tp))\n",
    "eq4 = Eq(ppv, tp / (tp+fp))\n",
    "eq5 = Eq(npv, tn / (tn+fn))\n",
    "eq6 = Eq(tn+fp+fn+tp, 1)"
   ]
  },
  {
   "cell_type": "markdown",
   "metadata": {},
   "source": [
    "We can use `solve` to get expressions for the elements of the confusion matrix in terms of `ppv`, `npv`, and `prev`:"
   ]
  },
  {
   "cell_type": "code",
   "execution_count": 23,
   "metadata": {},
   "outputs": [
    {
     "data": {
      "text/plain": [
       "(ppv*(npv + prev - 1)/(npv + ppv - 1),\n",
       " -(ppv - 1)*(npv + prev - 1)/(npv + ppv - 1),\n",
       " -(npv - 1)*(ppv - prev)/(npv + ppv - 1),\n",
       " npv*(ppv - prev)/(npv + ppv - 1),\n",
       " (ppv - 1)*(npv + prev - 1)/((prev - 1)*(npv + ppv - 1)),\n",
       " -(npv - 1)*(ppv - prev)/(prev*(npv + ppv - 1)))"
      ]
     },
     "execution_count": 23,
     "metadata": {},
     "output_type": "execute_result"
    }
   ],
   "source": [
    "soln1 = solve([eq1, eq2, eq3, eq4, eq5, eq6], \n",
    "              [tp, fp, fn, tn, fpr, fnr])\n",
    "soln1[0]"
   ]
  },
  {
   "cell_type": "markdown",
   "metadata": {},
   "source": [
    "We can also solve for the elements of the confusion matrix in terms of `fpr`, `fnr`, and `prev`:"
   ]
  },
  {
   "cell_type": "code",
   "execution_count": 24,
   "metadata": {},
   "outputs": [
    {
     "data": {
      "text/plain": [
       "(prev*(1 - fnr),\n",
       " fpr*(1 - prev),\n",
       " fnr*prev,\n",
       " (fpr - 1)*(prev - 1),\n",
       " prev*(fnr - 1)/(fnr*prev + fpr*prev - fpr - prev),\n",
       " (fpr - 1)*(prev - 1)/(fnr*prev + fpr*prev - fpr - prev + 1))"
      ]
     },
     "execution_count": 24,
     "metadata": {},
     "output_type": "execute_result"
    }
   ],
   "source": [
    "soln2 = solve([eq1, eq2, eq3, eq4, eq5, eq6], \n",
    "              [tp, fp, fn, tn, ppv, npv])\n",
    "\n",
    "soln2[0]"
   ]
  },
  {
   "cell_type": "markdown",
   "metadata": {},
   "source": [
    "The following function takes `ppv`, `npv`, and `prev` and uses the expressions from `soln1` to compute a confusion matrix with those metrics."
   ]
  },
  {
   "cell_type": "code",
   "execution_count": 25,
   "metadata": {},
   "outputs": [],
   "source": [
    "def constant_predictive_value(ppv, npv, prev):\n",
    "    \"\"\"Make a confusion matrix with given metrics.\n",
    "    \n",
    "    ppv: positive predictive value\n",
    "    npv: negative predictive value\n",
    "    prev: prevalence\n",
    "    \n",
    "    returns: confusion matrix\n",
    "    \"\"\"\n",
    "    ppv /= 100\n",
    "    npv /= 100\n",
    "    prev /= 100\n",
    "    a = np.array((ppv*(npv + prev - 1)/(npv + ppv - 1),\n",
    "                -(ppv - 1)*(npv + prev - 1)/(npv + ppv - 1),\n",
    "                -(npv - 1)*(ppv - prev)/(npv + ppv - 1),\n",
    "                npv*(ppv - prev)/(npv + ppv - 1)))\n",
    "    \n",
    "    return pd.DataFrame(a.reshape((2, 2)))"
   ]
  },
  {
   "cell_type": "markdown",
   "metadata": {},
   "source": [
    "To test it, I'll use metrics from the confusion matrix for all defendants."
   ]
  },
  {
   "cell_type": "code",
   "execution_count": 26,
   "metadata": {},
   "outputs": [
    {
     "data": {
      "text/html": [
       "<div>\n",
       "<style scoped>\n",
       "    .dataframe tbody tr th:only-of-type {\n",
       "        vertical-align: middle;\n",
       "    }\n",
       "\n",
       "    .dataframe tbody tr th {\n",
       "        vertical-align: top;\n",
       "    }\n",
       "\n",
       "    .dataframe thead th {\n",
       "        text-align: right;\n",
       "    }\n",
       "</style>\n",
       "<table border=\"1\" class=\"dataframe\">\n",
       "  <thead>\n",
       "    <tr style=\"text-align: right;\">\n",
       "      <th></th>\n",
       "      <th>Percent</th>\n",
       "    </tr>\n",
       "    <tr>\n",
       "      <th>All defendants</th>\n",
       "      <th></th>\n",
       "    </tr>\n",
       "  </thead>\n",
       "  <tbody>\n",
       "    <tr>\n",
       "      <th>FP rate</th>\n",
       "      <td>32.349230</td>\n",
       "    </tr>\n",
       "    <tr>\n",
       "      <th>FN rate</th>\n",
       "      <td>37.403876</td>\n",
       "    </tr>\n",
       "    <tr>\n",
       "      <th>PPV</th>\n",
       "      <td>61.350618</td>\n",
       "    </tr>\n",
       "    <tr>\n",
       "      <th>NPV</th>\n",
       "      <td>68.796510</td>\n",
       "    </tr>\n",
       "    <tr>\n",
       "      <th>Prevalence</th>\n",
       "      <td>45.065151</td>\n",
       "    </tr>\n",
       "  </tbody>\n",
       "</table>\n",
       "</div>"
      ],
      "text/plain": [
       "                  Percent\n",
       "All defendants           \n",
       "FP rate         32.349230\n",
       "FN rate         37.403876\n",
       "PPV             61.350618\n",
       "NPV             68.796510\n",
       "Prevalence      45.065151"
      ]
     },
     "execution_count": 26,
     "metadata": {},
     "output_type": "execute_result"
    }
   ],
   "source": [
    "all_defendants = np.ones_like(white)\n",
    "matrix_all = make_matrix(cp, all_defendants)\n",
    "metrics_all = compute_metrics(matrix_all, 'All defendants')\n",
    "metrics_all"
   ]
  },
  {
   "cell_type": "markdown",
   "metadata": {},
   "source": [
    "I'll extract PPV, NPV, and prevalence."
   ]
  },
  {
   "cell_type": "code",
   "execution_count": 27,
   "metadata": {},
   "outputs": [],
   "source": [
    "ppv, npv = predictive_value(matrix_all)\n",
    "prev = prevalence(matrix_all)"
   ]
  },
  {
   "cell_type": "markdown",
   "metadata": {},
   "source": [
    "Given those values, we can reconstruct the confusion matrix and compute the metrics again."
   ]
  },
  {
   "cell_type": "code",
   "execution_count": 28,
   "metadata": {},
   "outputs": [
    {
     "data": {
      "text/html": [
       "<div>\n",
       "<style scoped>\n",
       "    .dataframe tbody tr th:only-of-type {\n",
       "        vertical-align: middle;\n",
       "    }\n",
       "\n",
       "    .dataframe tbody tr th {\n",
       "        vertical-align: top;\n",
       "    }\n",
       "\n",
       "    .dataframe thead th {\n",
       "        text-align: right;\n",
       "    }\n",
       "</style>\n",
       "<table border=\"1\" class=\"dataframe\">\n",
       "  <thead>\n",
       "    <tr style=\"text-align: right;\">\n",
       "      <th></th>\n",
       "      <th>Percent</th>\n",
       "    </tr>\n",
       "    <tr>\n",
       "      <th></th>\n",
       "      <th></th>\n",
       "    </tr>\n",
       "  </thead>\n",
       "  <tbody>\n",
       "    <tr>\n",
       "      <th>FP rate</th>\n",
       "      <td>32.349230</td>\n",
       "    </tr>\n",
       "    <tr>\n",
       "      <th>FN rate</th>\n",
       "      <td>37.403876</td>\n",
       "    </tr>\n",
       "    <tr>\n",
       "      <th>PPV</th>\n",
       "      <td>61.350618</td>\n",
       "    </tr>\n",
       "    <tr>\n",
       "      <th>NPV</th>\n",
       "      <td>68.796510</td>\n",
       "    </tr>\n",
       "    <tr>\n",
       "      <th>Prevalence</th>\n",
       "      <td>45.065151</td>\n",
       "    </tr>\n",
       "  </tbody>\n",
       "</table>\n",
       "</div>"
      ],
      "text/plain": [
       "              Percent\n",
       "                     \n",
       "FP rate     32.349230\n",
       "FN rate     37.403876\n",
       "PPV         61.350618\n",
       "NPV         68.796510\n",
       "Prevalence  45.065151"
      ]
     },
     "execution_count": 28,
     "metadata": {},
     "output_type": "execute_result"
    }
   ],
   "source": [
    "matrix = constant_predictive_value(ppv, npv, prev)\n",
    "metrics_pred = compute_metrics(matrix)\n",
    "metrics_pred"
   ]
  },
  {
   "cell_type": "markdown",
   "metadata": {},
   "source": [
    "These \"predicted metrics\" are the same as the actual metrics, except for small errors due to floating-point error."
   ]
  },
  {
   "cell_type": "code",
   "execution_count": 29,
   "metadata": {},
   "outputs": [
    {
     "data": {
      "text/html": [
       "<div>\n",
       "<style scoped>\n",
       "    .dataframe tbody tr th:only-of-type {\n",
       "        vertical-align: middle;\n",
       "    }\n",
       "\n",
       "    .dataframe tbody tr th {\n",
       "        vertical-align: top;\n",
       "    }\n",
       "\n",
       "    .dataframe thead th {\n",
       "        text-align: right;\n",
       "    }\n",
       "</style>\n",
       "<table border=\"1\" class=\"dataframe\">\n",
       "  <thead>\n",
       "    <tr style=\"text-align: right;\">\n",
       "      <th></th>\n",
       "      <th>Percent</th>\n",
       "    </tr>\n",
       "    <tr>\n",
       "      <th></th>\n",
       "      <th></th>\n",
       "    </tr>\n",
       "  </thead>\n",
       "  <tbody>\n",
       "    <tr>\n",
       "      <th>FP rate</th>\n",
       "      <td>0.000000e+00</td>\n",
       "    </tr>\n",
       "    <tr>\n",
       "      <th>FN rate</th>\n",
       "      <td>0.000000e+00</td>\n",
       "    </tr>\n",
       "    <tr>\n",
       "      <th>PPV</th>\n",
       "      <td>0.000000e+00</td>\n",
       "    </tr>\n",
       "    <tr>\n",
       "      <th>NPV</th>\n",
       "      <td>-1.421085e-14</td>\n",
       "    </tr>\n",
       "    <tr>\n",
       "      <th>Prevalence</th>\n",
       "      <td>0.000000e+00</td>\n",
       "    </tr>\n",
       "  </tbody>\n",
       "</table>\n",
       "</div>"
      ],
      "text/plain": [
       "                 Percent\n",
       "                        \n",
       "FP rate     0.000000e+00\n",
       "FN rate     0.000000e+00\n",
       "PPV         0.000000e+00\n",
       "NPV        -1.421085e-14\n",
       "Prevalence  0.000000e+00"
      ]
     },
     "execution_count": 29,
     "metadata": {},
     "output_type": "execute_result"
    }
   ],
   "source": [
    "metrics_pred - metrics_all"
   ]
  },
  {
   "cell_type": "markdown",
   "metadata": {},
   "source": [
    "So that confirms that we can use PPV, NPV and prevalence to compute FPR and FNR.\n",
    "\n",
    "Now let's see what happens if we hold PPV and NPV constant, and vary prevalence.  First I'll extract the prevalence of recidivism for black defendants:"
   ]
  },
  {
   "cell_type": "code",
   "execution_count": 30,
   "metadata": {},
   "outputs": [
    {
     "data": {
      "text/plain": [
       "51.433982683982684"
      ]
     },
     "execution_count": 30,
     "metadata": {},
     "output_type": "execute_result"
    }
   ],
   "source": [
    "prev = metrics_black['Percent']['Prevalence']\n",
    "prev"
   ]
  },
  {
   "cell_type": "markdown",
   "metadata": {},
   "source": [
    "Using this prevalence, and holding PPV and NPV constant, we can compute error rates:"
   ]
  },
  {
   "cell_type": "code",
   "execution_count": 31,
   "metadata": {},
   "outputs": [
    {
     "data": {
      "text/plain": [
       "(53.40360542740529, 19.955904234916293)"
      ]
     },
     "execution_count": 31,
     "metadata": {},
     "output_type": "execute_result"
    }
   ],
   "source": [
    "matrix = constant_predictive_value(ppv, npv, prev)\n",
    "error_rates(matrix)"
   ]
  },
  {
   "cell_type": "markdown",
   "metadata": {},
   "source": [
    "FPR is substantially higher, and FNR substantially lower, compared to the error rates with lower prevalence.\n",
    "\n",
    "We can do the same analysis for white defendants."
   ]
  },
  {
   "cell_type": "code",
   "execution_count": 32,
   "metadata": {},
   "outputs": [],
   "source": [
    "prev = metrics_white['Percent']['Prevalence']"
   ]
  },
  {
   "cell_type": "code",
   "execution_count": 33,
   "metadata": {},
   "outputs": [
    {
     "data": {
      "text/plain": [
       "(17.254472103643895, 57.81054940714234)"
      ]
     },
     "execution_count": 33,
     "metadata": {},
     "output_type": "execute_result"
    }
   ],
   "source": [
    "matrix = constant_predictive_value(ppv, npv, prev)\n",
    "error_rates(matrix)"
   ]
  },
  {
   "cell_type": "markdown",
   "metadata": {},
   "source": [
    "When prevalence is lower, the false positive rate is higher and the false negative rate lower."
   ]
  },
  {
   "cell_type": "markdown",
   "metadata": {},
   "source": [
    "## The constant predictive value model\n",
    "\n",
    "To show these effects more clearly, I'll sweep through a range of prevalences, from 30% to 60%, and plot the error rates we get if we hold predictive values constant."
   ]
  },
  {
   "cell_type": "code",
   "execution_count": 34,
   "metadata": {},
   "outputs": [
    {
     "data": {
      "text/html": [
       "<div>\n",
       "<style scoped>\n",
       "    .dataframe tbody tr th:only-of-type {\n",
       "        vertical-align: middle;\n",
       "    }\n",
       "\n",
       "    .dataframe tbody tr th {\n",
       "        vertical-align: top;\n",
       "    }\n",
       "\n",
       "    .dataframe thead th {\n",
       "        text-align: right;\n",
       "    }\n",
       "</style>\n",
       "<table border=\"1\" class=\"dataframe\">\n",
       "  <thead>\n",
       "    <tr style=\"text-align: right;\">\n",
       "      <th></th>\n",
       "      <th>fpr</th>\n",
       "      <th>fnr</th>\n",
       "    </tr>\n",
       "  </thead>\n",
       "  <tbody>\n",
       "    <tr>\n",
       "      <th>35.0</th>\n",
       "      <td>7.488034</td>\n",
       "      <td>77.925569</td>\n",
       "    </tr>\n",
       "    <tr>\n",
       "      <th>37.0</th>\n",
       "      <td>11.795671</td>\n",
       "      <td>68.118564</td>\n",
       "    </tr>\n",
       "    <tr>\n",
       "      <th>39.0</th>\n",
       "      <td>16.385776</td>\n",
       "      <td>59.317406</td>\n",
       "    </tr>\n",
       "    <tr>\n",
       "      <th>41.0</th>\n",
       "      <td>21.287075</td>\n",
       "      <td>51.374897</td>\n",
       "    </tr>\n",
       "    <tr>\n",
       "      <th>43.0</th>\n",
       "      <td>26.532324</td>\n",
       "      <td>44.171227</td>\n",
       "    </tr>\n",
       "    <tr>\n",
       "      <th>45.0</th>\n",
       "      <td>32.159046</td>\n",
       "      <td>37.607882</td>\n",
       "    </tr>\n",
       "    <tr>\n",
       "      <th>47.0</th>\n",
       "      <td>38.210427</td>\n",
       "      <td>31.603121</td>\n",
       "    </tr>\n",
       "    <tr>\n",
       "      <th>49.0</th>\n",
       "      <td>44.736425</td>\n",
       "      <td>26.088543</td>\n",
       "    </tr>\n",
       "    <tr>\n",
       "      <th>51.0</th>\n",
       "      <td>51.795158</td>\n",
       "      <td>21.006482</td>\n",
       "    </tr>\n",
       "    <tr>\n",
       "      <th>53.0</th>\n",
       "      <td>59.454634</td>\n",
       "      <td>16.307973</td>\n",
       "    </tr>\n",
       "    <tr>\n",
       "      <th>55.0</th>\n",
       "      <td>67.794953</td>\n",
       "      <td>11.951173</td>\n",
       "    </tr>\n",
       "  </tbody>\n",
       "</table>\n",
       "</div>"
      ],
      "text/plain": [
       "            fpr        fnr\n",
       "35.0   7.488034  77.925569\n",
       "37.0  11.795671  68.118564\n",
       "39.0  16.385776  59.317406\n",
       "41.0  21.287075  51.374897\n",
       "43.0  26.532324  44.171227\n",
       "45.0  32.159046  37.607882\n",
       "47.0  38.210427  31.603121\n",
       "49.0  44.736425  26.088543\n",
       "51.0  51.795158  21.006482\n",
       "53.0  59.454634  16.307973\n",
       "55.0  67.794953  11.951173"
      ]
     },
     "execution_count": 34,
     "metadata": {},
     "output_type": "execute_result"
    }
   ],
   "source": [
    "ppv, npv = predictive_value(matrix_all)\n",
    "prevalences = np.linspace(35, 55, 11)\n",
    "\n",
    "pred_er = pd.DataFrame(columns=['fpr', 'fnr'])\n",
    "\n",
    "for prev in prevalences:\n",
    "    m = constant_predictive_value(ppv, npv, prev)\n",
    "    pred_er.loc[prev] = error_rates(m)\n",
    "    \n",
    "pred_er"
   ]
  },
  {
   "cell_type": "markdown",
   "metadata": {},
   "source": [
    "The following figure shows the error rates we would expect from a test with equal predictive value for all groups, regardless of prevalence."
   ]
  },
  {
   "cell_type": "code",
   "execution_count": 35,
   "metadata": {},
   "outputs": [],
   "source": [
    "def plot_cpv_model(pred_er):\n",
    "    \"\"\"Plot error rates with constant predictive values.\n",
    "    \n",
    "    pred_er: DataFrame of predicted error rates\n",
    "    \"\"\"\n",
    "    pred_er['fpr'].plot(label='Predicted FPR', color='C2')\n",
    "    pred_er['fnr'].plot(label='Predicted FNR', color='C4')\n",
    "    decorate(xlabel='Prevalence', ylabel='Percent',\n",
    "             title='Error rates, constant predictive value')"
   ]
  },
  {
   "cell_type": "code",
   "execution_count": 36,
   "metadata": {},
   "outputs": [
    {
     "data": {
      "image/png": "[encoded data removed]",
      "text/plain": [
       "<Figure size 432x288 with 1 Axes>"
      ]
     },
     "metadata": {
      "needs_background": "light"
     },
     "output_type": "display_data"
    }
   ],
   "source": [
    "plot_cpv_model(pred_er)\n",
    "plt.legend();"
   ]
  },
  {
   "cell_type": "markdown",
   "metadata": {},
   "source": [
    "As prevalence increases, false positive rates increase quickly.  Note the vertical scale: the difference in error rates between a low-prevalence group and a high-prevalence group is dramatic!\n",
    "\n",
    "For the COMPAS test, the effect is not as extreme.  The following figure shows the constant prediction model again, including data points for the white defendants (left), all defendants (middle), and black defendants (right)."
   ]
  },
  {
   "cell_type": "code",
   "execution_count": 37,
   "metadata": {},
   "outputs": [
    {
     "data": {
      "text/html": [
       "<div>\n",
       "<style scoped>\n",
       "    .dataframe tbody tr th:only-of-type {\n",
       "        vertical-align: middle;\n",
       "    }\n",
       "\n",
       "    .dataframe tbody tr th {\n",
       "        vertical-align: top;\n",
       "    }\n",
       "\n",
       "    .dataframe thead th {\n",
       "        text-align: right;\n",
       "    }\n",
       "</style>\n",
       "<table border=\"1\" class=\"dataframe\">\n",
       "  <thead>\n",
       "    <tr style=\"text-align: right;\">\n",
       "      <th></th>\n",
       "      <th>fpr</th>\n",
       "      <th>fnr</th>\n",
       "    </tr>\n",
       "  </thead>\n",
       "  <tbody>\n",
       "    <tr>\n",
       "      <th>39.364303</th>\n",
       "      <td>23.454301</td>\n",
       "      <td>47.722567</td>\n",
       "    </tr>\n",
       "    <tr>\n",
       "      <th>45.065151</th>\n",
       "      <td>32.349230</td>\n",
       "      <td>37.403876</td>\n",
       "    </tr>\n",
       "    <tr>\n",
       "      <th>51.433983</th>\n",
       "      <td>44.846797</td>\n",
       "      <td>27.985271</td>\n",
       "    </tr>\n",
       "  </tbody>\n",
       "</table>\n",
       "</div>"
      ],
      "text/plain": [
       "                 fpr        fnr\n",
       "39.364303  23.454301  47.722567\n",
       "45.065151  32.349230  37.403876\n",
       "51.433983  44.846797  27.985271"
      ]
     },
     "execution_count": 37,
     "metadata": {},
     "output_type": "execute_result"
    }
   ],
   "source": [
    "actual_er = pd.DataFrame(columns=['fpr', 'fnr'])\n",
    "\n",
    "for m in (matrix_white, matrix_all, matrix_black):\n",
    "    prev = prevalence(m)\n",
    "    actual_er.loc[prev] = error_rates(m)\n",
    "    \n",
    "actual_er"
   ]
  },
  {
   "cell_type": "code",
   "execution_count": 38,
   "metadata": {},
   "outputs": [
    {
     "data": {
      "image/png": "[encoded data removed]",
      "text/plain": [
       "<Figure size 432x288 with 1 Axes>"
      ]
     },
     "metadata": {
      "needs_background": "light"
     },
     "output_type": "display_data"
    }
   ],
   "source": [
    "plot_cpv_model(pred_er)\n",
    "\n",
    "actual_er['fpr'].plot(marker='o', linestyle='dotted', color='C2',\n",
    "                      label='COMPAS FPR')\n",
    "\n",
    "actual_er['fnr'].plot(marker='o', linestyle='dotted', color='C4',\n",
    "                      label='COMPAS FNR')\n",
    "\n",
    "plt.legend();"
   ]
  },
  {
   "cell_type": "markdown",
   "metadata": {},
   "source": [
    "For higher-prevalence groups:\n",
    "\n",
    "* The actual false positive rate is lower that what we would expect if the test had the same predictive value for all groups.\n",
    "\n",
    "* The actual false negative rate is higher than expected.\n",
    "\n",
    "For lower-prevalence groups:\n",
    "\n",
    "* The actual false positive rate is higher than what we would expect if the test had the same predictive value for all groups.\n",
    "\n",
    "* The actual false negative rate is lower than expected.\n",
    "\n",
    "Relative to the CPV model, the COMPAS test is what I will call \"tempered\", that is, less sensitive to variation in prevalence between groups.\n"
   ]
  },
  {
   "cell_type": "markdown",
   "metadata": {},
   "source": [
    "## Constant error rate model\n",
    "\n",
    "In the previous section we held predictive value constant and computed the effect on error rates.  In this section we'll go the other way: if we hold error rates constant for all groups, what effect does that have on predictive value?\n",
    "\n",
    "The following function takes prevalence and error rates and returns a confusion matrix.\n",
    "\n"
   ]
  },
  {
   "cell_type": "code",
   "execution_count": 39,
   "metadata": {},
   "outputs": [],
   "source": [
    "def constant_error_rates(fpr, fnr, prev):\n",
    "    \"\"\"Make a confusion matrix with given metrics.\n",
    "    \n",
    "    fpr: false positive rate\n",
    "    fnr: false negative rate\n",
    "    prev: prevalence\n",
    "    \n",
    "    returns: confusion matrix\n",
    "    \"\"\"\n",
    "    prev /= 100\n",
    "    fpr /= 100\n",
    "    fnr /= 100\n",
    "    a = [[prev*(1 - fnr),  fpr*(1 - prev)],\n",
    "         [fnr*prev,       (fpr - 1)*(prev - 1)]]\n",
    "    \n",
    "    return pd.DataFrame(a)"
   ]
  },
  {
   "cell_type": "markdown",
   "metadata": {},
   "source": [
    "To test it, we can extract metrics for all defendants:"
   ]
  },
  {
   "cell_type": "code",
   "execution_count": 40,
   "metadata": {},
   "outputs": [],
   "source": [
    "fpr, fnr = error_rates(matrix_all)\n",
    "prev = prevalence(matrix_all)"
   ]
  },
  {
   "cell_type": "markdown",
   "metadata": {},
   "source": [
    "And use them to compute the other metrics:"
   ]
  },
  {
   "cell_type": "code",
   "execution_count": 41,
   "metadata": {},
   "outputs": [
    {
     "data": {
      "text/html": [
       "<div>\n",
       "<style scoped>\n",
       "    .dataframe tbody tr th:only-of-type {\n",
       "        vertical-align: middle;\n",
       "    }\n",
       "\n",
       "    .dataframe tbody tr th {\n",
       "        vertical-align: top;\n",
       "    }\n",
       "\n",
       "    .dataframe thead th {\n",
       "        text-align: right;\n",
       "    }\n",
       "</style>\n",
       "<table border=\"1\" class=\"dataframe\">\n",
       "  <thead>\n",
       "    <tr style=\"text-align: right;\">\n",
       "      <th></th>\n",
       "      <th>Percent</th>\n",
       "    </tr>\n",
       "    <tr>\n",
       "      <th></th>\n",
       "      <th></th>\n",
       "    </tr>\n",
       "  </thead>\n",
       "  <tbody>\n",
       "    <tr>\n",
       "      <th>FP rate</th>\n",
       "      <td>32.349230</td>\n",
       "    </tr>\n",
       "    <tr>\n",
       "      <th>FN rate</th>\n",
       "      <td>37.403876</td>\n",
       "    </tr>\n",
       "    <tr>\n",
       "      <th>PPV</th>\n",
       "      <td>61.350618</td>\n",
       "    </tr>\n",
       "    <tr>\n",
       "      <th>NPV</th>\n",
       "      <td>68.796510</td>\n",
       "    </tr>\n",
       "    <tr>\n",
       "      <th>Prevalence</th>\n",
       "      <td>45.065151</td>\n",
       "    </tr>\n",
       "  </tbody>\n",
       "</table>\n",
       "</div>"
      ],
      "text/plain": [
       "              Percent\n",
       "                     \n",
       "FP rate     32.349230\n",
       "FN rate     37.403876\n",
       "PPV         61.350618\n",
       "NPV         68.796510\n",
       "Prevalence  45.065151"
      ]
     },
     "execution_count": 41,
     "metadata": {},
     "output_type": "execute_result"
    }
   ],
   "source": [
    "matrix = constant_error_rates(fpr, fnr, prev)\n",
    "metrics_pred = compute_metrics(matrix)\n",
    "metrics_pred"
   ]
  },
  {
   "cell_type": "markdown",
   "metadata": {},
   "source": [
    "And use the confusion matrix to compute the other metrics."
   ]
  },
  {
   "cell_type": "code",
   "execution_count": 42,
   "metadata": {},
   "outputs": [
    {
     "data": {
      "text/html": [
       "<div>\n",
       "<style scoped>\n",
       "    .dataframe tbody tr th:only-of-type {\n",
       "        vertical-align: middle;\n",
       "    }\n",
       "\n",
       "    .dataframe tbody tr th {\n",
       "        vertical-align: top;\n",
       "    }\n",
       "\n",
       "    .dataframe thead th {\n",
       "        text-align: right;\n",
       "    }\n",
       "</style>\n",
       "<table border=\"1\" class=\"dataframe\">\n",
       "  <thead>\n",
       "    <tr style=\"text-align: right;\">\n",
       "      <th></th>\n",
       "      <th>Percent</th>\n",
       "    </tr>\n",
       "    <tr>\n",
       "      <th></th>\n",
       "      <th></th>\n",
       "    </tr>\n",
       "  </thead>\n",
       "  <tbody>\n",
       "    <tr>\n",
       "      <th>FP rate</th>\n",
       "      <td>0.000000e+00</td>\n",
       "    </tr>\n",
       "    <tr>\n",
       "      <th>FN rate</th>\n",
       "      <td>0.000000e+00</td>\n",
       "    </tr>\n",
       "    <tr>\n",
       "      <th>PPV</th>\n",
       "      <td>-7.105427e-15</td>\n",
       "    </tr>\n",
       "    <tr>\n",
       "      <th>NPV</th>\n",
       "      <td>1.421085e-14</td>\n",
       "    </tr>\n",
       "    <tr>\n",
       "      <th>Prevalence</th>\n",
       "      <td>0.000000e+00</td>\n",
       "    </tr>\n",
       "  </tbody>\n",
       "</table>\n",
       "</div>"
      ],
      "text/plain": [
       "                 Percent\n",
       "                        \n",
       "FP rate     0.000000e+00\n",
       "FN rate     0.000000e+00\n",
       "PPV        -7.105427e-15\n",
       "NPV         1.421085e-14\n",
       "Prevalence  0.000000e+00"
      ]
     },
     "execution_count": 42,
     "metadata": {},
     "output_type": "execute_result"
    }
   ],
   "source": [
    "metrics_pred - metrics_all"
   ]
  },
  {
   "cell_type": "markdown",
   "metadata": {},
   "source": [
    "Now we can see how predictive value depends on prevalence (with error rates held constant)."
   ]
  },
  {
   "cell_type": "code",
   "execution_count": 43,
   "metadata": {},
   "outputs": [
    {
     "data": {
      "text/html": [
       "<div>\n",
       "<style scoped>\n",
       "    .dataframe tbody tr th:only-of-type {\n",
       "        vertical-align: middle;\n",
       "    }\n",
       "\n",
       "    .dataframe tbody tr th {\n",
       "        vertical-align: top;\n",
       "    }\n",
       "\n",
       "    .dataframe thead th {\n",
       "        text-align: right;\n",
       "    }\n",
       "</style>\n",
       "<table border=\"1\" class=\"dataframe\">\n",
       "  <thead>\n",
       "    <tr style=\"text-align: right;\">\n",
       "      <th></th>\n",
       "      <th>ppv</th>\n",
       "      <th>npv</th>\n",
       "    </tr>\n",
       "  </thead>\n",
       "  <tbody>\n",
       "    <tr>\n",
       "      <th>35.0</th>\n",
       "      <td>51.026704</td>\n",
       "      <td>77.058610</td>\n",
       "    </tr>\n",
       "    <tr>\n",
       "      <th>38.0</th>\n",
       "      <td>54.253815</td>\n",
       "      <td>74.689735</td>\n",
       "    </tr>\n",
       "    <tr>\n",
       "      <th>41.0</th>\n",
       "      <td>57.350053</td>\n",
       "      <td>72.243048</td>\n",
       "    </tr>\n",
       "    <tr>\n",
       "      <th>44.0</th>\n",
       "      <td>60.323222</td>\n",
       "      <td>69.714652</td>\n",
       "    </tr>\n",
       "    <tr>\n",
       "      <th>47.0</th>\n",
       "      <td>63.180516</td>\n",
       "      <td>67.100383</td>\n",
       "    </tr>\n",
       "    <tr>\n",
       "      <th>50.0</th>\n",
       "      <td>65.928580</td>\n",
       "      <td>64.395791</td>\n",
       "    </tr>\n",
       "    <tr>\n",
       "      <th>53.0</th>\n",
       "      <td>68.573560</td>\n",
       "      <td>61.596113</td>\n",
       "    </tr>\n",
       "    <tr>\n",
       "      <th>56.0</th>\n",
       "      <td>71.121148</td>\n",
       "      <td>58.696245</td>\n",
       "    </tr>\n",
       "    <tr>\n",
       "      <th>59.0</th>\n",
       "      <td>73.576628</td>\n",
       "      <td>55.690711</td>\n",
       "    </tr>\n",
       "    <tr>\n",
       "      <th>62.0</th>\n",
       "      <td>75.944906</td>\n",
       "      <td>52.573628</td>\n",
       "    </tr>\n",
       "    <tr>\n",
       "      <th>65.0</th>\n",
       "      <td>78.230545</td>\n",
       "      <td>49.338668</td>\n",
       "    </tr>\n",
       "  </tbody>\n",
       "</table>\n",
       "</div>"
      ],
      "text/plain": [
       "            ppv        npv\n",
       "35.0  51.026704  77.058610\n",
       "38.0  54.253815  74.689735\n",
       "41.0  57.350053  72.243048\n",
       "44.0  60.323222  69.714652\n",
       "47.0  63.180516  67.100383\n",
       "50.0  65.928580  64.395791\n",
       "53.0  68.573560  61.596113\n",
       "56.0  71.121148  58.696245\n",
       "59.0  73.576628  55.690711\n",
       "62.0  75.944906  52.573628\n",
       "65.0  78.230545  49.338668"
      ]
     },
     "execution_count": 43,
     "metadata": {},
     "output_type": "execute_result"
    }
   ],
   "source": [
    "fpr, fnr = error_rates(matrix_all)\n",
    "prevalences = np.linspace(35, 65, 11)\n",
    "\n",
    "pred_pv = pd.DataFrame(columns=['ppv', 'npv'])\n",
    "\n",
    "for prev in prevalences:\n",
    "    m = constant_error_rates(fpr, fnr, prev)\n",
    "    pred_pv.loc[prev] = predictive_value(m)\n",
    "    \n",
    "pred_pv"
   ]
  },
  {
   "cell_type": "markdown",
   "metadata": {},
   "source": [
    "The following function plots the results."
   ]
  },
  {
   "cell_type": "code",
   "execution_count": 44,
   "metadata": {},
   "outputs": [],
   "source": [
    "def plot_cer_model(pred_pv):\n",
    "    \"\"\"Plot error rates with constant predictive values.\n",
    "    \n",
    "    pred_er: DataFrame of predicted error rates\n",
    "    \"\"\"\n",
    "    pred_pv['ppv'].plot(label='Predicted PPV', color='C3')\n",
    "    pred_pv['npv'].plot(label='Predicted NPV', color='C9')\n",
    "    decorate(xlabel='Prevalence', ylabel='Percent',\n",
    "             title='Predictive value, constant error rates')"
   ]
  },
  {
   "cell_type": "code",
   "execution_count": 45,
   "metadata": {},
   "outputs": [
    {
     "data": {
      "image/png": "[encoded data removed]",
      "text/plain": [
       "<Figure size 432x288 with 1 Axes>"
      ]
     },
     "metadata": {
      "needs_background": "light"
     },
     "output_type": "display_data"
    }
   ],
   "source": [
    "plot_cer_model(pred_pv)\n",
    "plt.legend();"
   ]
  },
  {
   "cell_type": "markdown",
   "metadata": {},
   "source": [
    "If we hold error rates constant and increase prevalence, PPV increases and NPV decreases.\n",
    "\n",
    "For the COMPAS test, the effect is not as extreme.  The following figure shows the constant error rate model again, along with actual predictive values for white defendants (left), all defendants (middle), and black defendants (right)."
   ]
  },
  {
   "cell_type": "code",
   "execution_count": 46,
   "metadata": {},
   "outputs": [
    {
     "data": {
      "text/html": [
       "<div>\n",
       "<style scoped>\n",
       "    .dataframe tbody tr th:only-of-type {\n",
       "        vertical-align: middle;\n",
       "    }\n",
       "\n",
       "    .dataframe tbody tr th {\n",
       "        vertical-align: top;\n",
       "    }\n",
       "\n",
       "    .dataframe thead th {\n",
       "        text-align: right;\n",
       "    }\n",
       "</style>\n",
       "<table border=\"1\" class=\"dataframe\">\n",
       "  <thead>\n",
       "    <tr style=\"text-align: right;\">\n",
       "      <th></th>\n",
       "      <th>ppv</th>\n",
       "      <th>npv</th>\n",
       "    </tr>\n",
       "  </thead>\n",
       "  <tbody>\n",
       "    <tr>\n",
       "      <th>39.364303</th>\n",
       "      <td>59.133489</td>\n",
       "      <td>71.187500</td>\n",
       "    </tr>\n",
       "    <tr>\n",
       "      <th>45.065151</th>\n",
       "      <td>61.350618</td>\n",
       "      <td>68.796510</td>\n",
       "    </tr>\n",
       "    <tr>\n",
       "      <th>51.433983</th>\n",
       "      <td>62.971481</td>\n",
       "      <td>65.045992</td>\n",
       "    </tr>\n",
       "  </tbody>\n",
       "</table>\n",
       "</div>"
      ],
      "text/plain": [
       "                 ppv        npv\n",
       "39.364303  59.133489  71.187500\n",
       "45.065151  61.350618  68.796510\n",
       "51.433983  62.971481  65.045992"
      ]
     },
     "execution_count": 46,
     "metadata": {},
     "output_type": "execute_result"
    }
   ],
   "source": [
    "actual_pv = pd.DataFrame(columns=['ppv', 'npv'])\n",
    "\n",
    "for m in (matrix_white, matrix_all, matrix_black):\n",
    "    prev = prevalence(m)\n",
    "    actual_pv.loc[prev] = predictive_value(m)\n",
    "    \n",
    "actual_pv"
   ]
  },
  {
   "cell_type": "code",
   "execution_count": 47,
   "metadata": {},
   "outputs": [
    {
     "data": {
      "image/png": "[encoded data removed]",
      "text/plain": [
       "<Figure size 432x288 with 1 Axes>"
      ]
     },
     "metadata": {
      "needs_background": "light"
     },
     "output_type": "display_data"
    }
   ],
   "source": [
    "plot_cer_model(pred_pv)\n",
    "\n",
    "actual_pv['ppv'].plot(marker='o', linestyle='dotted', color='C3',\n",
    "                      label='COMPAS PPV')\n",
    "\n",
    "actual_pv['npv'].plot(marker='o', linestyle='dotted', color='C9',\n",
    "                      label='COMPAS NPV')\n",
    "\n",
    "plt.legend();"
   ]
  },
  {
   "cell_type": "markdown",
   "metadata": {},
   "source": [
    "Again, the test is less sensitive to differences in prevalence between groups than we would expect from the constant error rate model.\n",
    "\n"
   ]
  },
  {
   "cell_type": "markdown",
   "metadata": {},
   "source": [
    "## Summary\n",
    "\n",
    "An ideal test should have equal predictive value in all groups; that is, two people with the same risk score should have the same probability of recidivism, regardless of what group they are in.\n",
    "\n",
    "An ideal test should also have the same error rates for all groups; that is, two non-recidivists should have the same probability of being classified as high risk.\n",
    "\n",
    "Unfortunately, these two goals are in conflict:\n",
    "\n",
    "* If you design a test to achieve equal predictive value across groups with different prevalence, you will find that error rates depend on prevalence.  Specifically, false positive rates will be higher in groups with higher rates of recividism.\n",
    "\n",
    "* If you design a test to achieve equal error rates across groups, you will find that predictive value depends on prevalence.  Specifically, positive predictive value will be lower in groups with lower rates of recidivism.\n",
    "\n",
    "Our analysis so far suggests that COMPAS was designed to achieve some balance between predictive values and error rates.\n",
    "\n",
    "In groups with high prevalence:\n",
    "\n",
    "* FPR is lower than we would expect if the test had the same predictive value in all groups.\n",
    "\n",
    "* As a result, PPV is lower than we would expect if error rates were the same in all groups.\n",
    "\n",
    "In summary, this notebook explored two claims reported in the WaPo article:\n",
    "\n",
    "* COMPAS is calibrated; that it, the risk scores it assigns correspond to the same probability of recidivism for black and white defendants.\n",
    "\n",
    "* In groups with different prevalence, it is not possible to have the same predictive values and the same error rates.\n",
    "\n",
    "We found that these claims are substantially correct; additionally, we found that COMPAS achieves some balance between predictive value and error rates, which may or may not be deliberate.\n",
    "\n"
   ]
  },
  {
   "cell_type": "markdown",
   "metadata": {},
   "source": [
    "## Calibration for male and female defendants\n",
    "\n",
    "In a previous section we saw that COMPAS is nearly calibrated for white and black defendants; that is, the risk scores it assigns correspond to the same probability of recidivism in both groups.\n",
    "\n",
    "As it turns out the same it not true if we group defendants by sex.\n",
    "\n",
    "First I'll compute Boolean Series that select male and female defendants:"
   ]
  },
  {
   "cell_type": "code",
   "execution_count": 48,
   "metadata": {},
   "outputs": [
    {
     "data": {
      "text/plain": [
       "0.8066260049902967"
      ]
     },
     "execution_count": 48,
     "metadata": {},
     "output_type": "execute_result"
    }
   ],
   "source": [
    "male = (cp['sex'] == 'Male')\n",
    "male.mean()"
   ]
  },
  {
   "cell_type": "code",
   "execution_count": 49,
   "metadata": {},
   "outputs": [
    {
     "data": {
      "text/plain": [
       "0.19337399500970334"
      ]
     },
     "execution_count": 49,
     "metadata": {},
     "output_type": "execute_result"
    }
   ],
   "source": [
    "female = (cp['sex'] == 'Female')\n",
    "female.mean()"
   ]
  },
  {
   "cell_type": "markdown",
   "metadata": {},
   "source": [
    "Next I'll plot calibration curves for these groups:"
   ]
  },
  {
   "cell_type": "code",
   "execution_count": 50,
   "metadata": {},
   "outputs": [
    {
     "data": {
      "image/png": "[encoded data removed]",
      "text/plain": [
       "<Figure size 432x288 with 1 Axes>"
      ]
     },
     "metadata": {
      "needs_background": "light"
     },
     "output_type": "display_data"
    }
   ],
   "source": [
    "cal_all = calibration_curve(cp)\n",
    "cal_all.plot(linestyle='dotted', \n",
    "              color='gray',\n",
    "              label='All defendants')\n",
    "\n",
    "cal_male = calibration_curve(cp[male])\n",
    "cal_male.plot(label='Male')\n",
    "\n",
    "cal_female = calibration_curve(cp[female])\n",
    "cal_female.plot(label='Female')\n",
    "\n",
    "decorate(xlabel='Risk score',\n",
    "         ylabel='Prob recidivism',\n",
    "         title='Recivism vs decile score, grouped by sex')\n",
    "plt.legend();"
   ]
  },
  {
   "cell_type": "markdown",
   "metadata": {},
   "source": [
    "For all risk scores, female defendants are substantially less likely to recidivate than male defendants.\n",
    "\n",
    "Or, reading the graph the other way, female defendants are given decile scores 1-2 points higher than male defendants with the same actual risk of recidivism."
   ]
  },
  {
   "cell_type": "code",
   "execution_count": 51,
   "metadata": {},
   "outputs": [
    {
     "data": {
      "text/html": [
       "<div>\n",
       "<style scoped>\n",
       "    .dataframe tbody tr th:only-of-type {\n",
       "        vertical-align: middle;\n",
       "    }\n",
       "\n",
       "    .dataframe tbody tr th {\n",
       "        vertical-align: top;\n",
       "    }\n",
       "\n",
       "    .dataframe thead th {\n",
       "        text-align: right;\n",
       "    }\n",
       "</style>\n",
       "<table border=\"1\" class=\"dataframe\">\n",
       "  <thead>\n",
       "    <tr style=\"text-align: right;\">\n",
       "      <th>Actual</th>\n",
       "      <th>Condition</th>\n",
       "      <th>No Condition</th>\n",
       "    </tr>\n",
       "    <tr>\n",
       "      <th>Predicted</th>\n",
       "      <th></th>\n",
       "      <th></th>\n",
       "    </tr>\n",
       "  </thead>\n",
       "  <tbody>\n",
       "    <tr>\n",
       "      <th>Positive</th>\n",
       "      <td>1732</td>\n",
       "      <td>994</td>\n",
       "    </tr>\n",
       "    <tr>\n",
       "      <th>Negative</th>\n",
       "      <td>1021</td>\n",
       "      <td>2072</td>\n",
       "    </tr>\n",
       "  </tbody>\n",
       "</table>\n",
       "</div>"
      ],
      "text/plain": [
       "Actual     Condition  No Condition\n",
       "Predicted                         \n",
       "Positive        1732           994\n",
       "Negative        1021          2072"
      ]
     },
     "execution_count": 51,
     "metadata": {},
     "output_type": "execute_result"
    }
   ],
   "source": [
    "matrix_male = make_matrix(cp, male)\n",
    "matrix_male"
   ]
  },
  {
   "cell_type": "code",
   "execution_count": 52,
   "metadata": {
    "scrolled": true
   },
   "outputs": [
    {
     "data": {
      "text/html": [
       "<div>\n",
       "<style scoped>\n",
       "    .dataframe tbody tr th:only-of-type {\n",
       "        vertical-align: middle;\n",
       "    }\n",
       "\n",
       "    .dataframe tbody tr th {\n",
       "        vertical-align: top;\n",
       "    }\n",
       "\n",
       "    .dataframe thead th {\n",
       "        text-align: right;\n",
       "    }\n",
       "</style>\n",
       "<table border=\"1\" class=\"dataframe\">\n",
       "  <thead>\n",
       "    <tr style=\"text-align: right;\">\n",
       "      <th>Actual</th>\n",
       "      <th>Condition</th>\n",
       "      <th>No Condition</th>\n",
       "    </tr>\n",
       "    <tr>\n",
       "      <th>Predicted</th>\n",
       "      <th></th>\n",
       "      <th></th>\n",
       "    </tr>\n",
       "  </thead>\n",
       "  <tbody>\n",
       "    <tr>\n",
       "      <th>Positive</th>\n",
       "      <td>303</td>\n",
       "      <td>288</td>\n",
       "    </tr>\n",
       "    <tr>\n",
       "      <th>Negative</th>\n",
       "      <td>195</td>\n",
       "      <td>609</td>\n",
       "    </tr>\n",
       "  </tbody>\n",
       "</table>\n",
       "</div>"
      ],
      "text/plain": [
       "Actual     Condition  No Condition\n",
       "Predicted                         \n",
       "Positive         303           288\n",
       "Negative         195           609"
      ]
     },
     "execution_count": 52,
     "metadata": {},
     "output_type": "execute_result"
    }
   ],
   "source": [
    "matrix_female = make_matrix(cp, female)\n",
    "matrix_female"
   ]
  },
  {
   "cell_type": "markdown",
   "metadata": {},
   "source": [
    "And here are the metrics we computed from the confusion matrices:"
   ]
  },
  {
   "cell_type": "code",
   "execution_count": 53,
   "metadata": {
    "scrolled": true
   },
   "outputs": [
    {
     "data": {
      "text/html": [
       "<div>\n",
       "<style scoped>\n",
       "    .dataframe tbody tr th:only-of-type {\n",
       "        vertical-align: middle;\n",
       "    }\n",
       "\n",
       "    .dataframe tbody tr th {\n",
       "        vertical-align: top;\n",
       "    }\n",
       "\n",
       "    .dataframe thead th {\n",
       "        text-align: right;\n",
       "    }\n",
       "</style>\n",
       "<table border=\"1\" class=\"dataframe\">\n",
       "  <thead>\n",
       "    <tr style=\"text-align: right;\">\n",
       "      <th></th>\n",
       "      <th>Percent</th>\n",
       "    </tr>\n",
       "    <tr>\n",
       "      <th>Male defendants</th>\n",
       "      <th></th>\n",
       "    </tr>\n",
       "  </thead>\n",
       "  <tbody>\n",
       "    <tr>\n",
       "      <th>FP rate</th>\n",
       "      <td>32.420091</td>\n",
       "    </tr>\n",
       "    <tr>\n",
       "      <th>FN rate</th>\n",
       "      <td>37.086814</td>\n",
       "    </tr>\n",
       "    <tr>\n",
       "      <th>PPV</th>\n",
       "      <td>63.536317</td>\n",
       "    </tr>\n",
       "    <tr>\n",
       "      <th>NPV</th>\n",
       "      <td>66.989977</td>\n",
       "    </tr>\n",
       "    <tr>\n",
       "      <th>Prevalence</th>\n",
       "      <td>47.310534</td>\n",
       "    </tr>\n",
       "  </tbody>\n",
       "</table>\n",
       "</div>"
      ],
      "text/plain": [
       "                   Percent\n",
       "Male defendants           \n",
       "FP rate          32.420091\n",
       "FN rate          37.086814\n",
       "PPV              63.536317\n",
       "NPV              66.989977\n",
       "Prevalence       47.310534"
      ]
     },
     "execution_count": 53,
     "metadata": {},
     "output_type": "execute_result"
    }
   ],
   "source": [
    "metrics_male = compute_metrics(matrix_male, \n",
    "                                'Male defendants')\n",
    "metrics_male"
   ]
  },
  {
   "cell_type": "code",
   "execution_count": 54,
   "metadata": {},
   "outputs": [
    {
     "data": {
      "text/html": [
       "<div>\n",
       "<style scoped>\n",
       "    .dataframe tbody tr th:only-of-type {\n",
       "        vertical-align: middle;\n",
       "    }\n",
       "\n",
       "    .dataframe tbody tr th {\n",
       "        vertical-align: top;\n",
       "    }\n",
       "\n",
       "    .dataframe thead th {\n",
       "        text-align: right;\n",
       "    }\n",
       "</style>\n",
       "<table border=\"1\" class=\"dataframe\">\n",
       "  <thead>\n",
       "    <tr style=\"text-align: right;\">\n",
       "      <th></th>\n",
       "      <th>Percent</th>\n",
       "    </tr>\n",
       "    <tr>\n",
       "      <th>Female defendants</th>\n",
       "      <th></th>\n",
       "    </tr>\n",
       "  </thead>\n",
       "  <tbody>\n",
       "    <tr>\n",
       "      <th>FP rate</th>\n",
       "      <td>32.107023</td>\n",
       "    </tr>\n",
       "    <tr>\n",
       "      <th>FN rate</th>\n",
       "      <td>39.156627</td>\n",
       "    </tr>\n",
       "    <tr>\n",
       "      <th>PPV</th>\n",
       "      <td>51.269036</td>\n",
       "    </tr>\n",
       "    <tr>\n",
       "      <th>NPV</th>\n",
       "      <td>75.746269</td>\n",
       "    </tr>\n",
       "    <tr>\n",
       "      <th>Prevalence</th>\n",
       "      <td>35.698925</td>\n",
       "    </tr>\n",
       "  </tbody>\n",
       "</table>\n",
       "</div>"
      ],
      "text/plain": [
       "                     Percent\n",
       "Female defendants           \n",
       "FP rate            32.107023\n",
       "FN rate            39.156627\n",
       "PPV                51.269036\n",
       "NPV                75.746269\n",
       "Prevalence         35.698925"
      ]
     },
     "execution_count": 54,
     "metadata": {},
     "output_type": "execute_result"
    }
   ],
   "source": [
    "metrics_female = compute_metrics(matrix_female, \n",
    "                                'Female defendants')\n",
    "metrics_female"
   ]
  },
  {
   "cell_type": "markdown",
   "metadata": {},
   "source": [
    "The rate of recidivism (prevalence) is substantially higher for male defendants.\n",
    "\n",
    "Nevertheless, the error rates for the two groups are about the same.\n",
    "\n",
    "As a result, the predictive values for the two groups are substantially different:\n",
    "\n",
    "* PPV: Women classified as high risk are less likely to be arrested again, compared to high-risk men (51% vs 64%).\n",
    "\n",
    "* NPV: Women classified as low risk are more likely to \"survive\" two years without arrest, compared to low-risk men (76% vs 67%).\n",
    "\n",
    "To the degree that COMPAS scores are used to decide which defendants are incarcerated, those decisions \n",
    "\n",
    "* Are unfair to women.\n",
    "\n",
    "* Are less effective than they could be, if they incarcerate lower-risk women while allowing higher-risk men to go free."
   ]
  },
  {
   "cell_type": "markdown",
   "metadata": {},
   "source": [
    "## AUC\n",
    "\n",
    "From [How We Analyzed the COMPAS Recidivism Algorithm](https://www.propublica.org/article/how-we-analyzed-the-compas-recidivism-algorithm)\n",
    "\n",
    "> Both results are lower than what Northpointe describes as a threshold for reliability. “A rule of thumb according to several recent articles is that AUCs of .70 or above typically indicate satisfactory predictive accuracy, and measures between .60 and .70 suggest low to moderate predictive accuracy,” the company says in its study."
   ]
  },
  {
   "cell_type": "markdown",
   "metadata": {},
   "source": [
    "## ROC\n",
    "\n",
    "One way to do that is to adjust the threshold so the error rates are the same in both groups.\n",
    "\n",
    "The following function loops through the possible threshold for the low and high risk groups.  For each threshold, it makes the confusion matrix and computes sensitivity and specificity."
   ]
  },
  {
   "cell_type": "code",
   "execution_count": 55,
   "metadata": {},
   "outputs": [
    {
     "name": "stdout",
     "output_type": "stream",
     "text": [
      "1 (85.30020703933747, 36.223118279569896)\n",
      "2 (73.6024844720497, 52.88978494623656)\n",
      "3 (63.975155279503106, 64.98655913978494)\n",
      "4 (52.27743271221532, 76.54569892473118)\n",
      "5 (40.78674948240166, 85.28225806451613)\n",
      "6 (29.296066252587995, 90.86021505376344)\n",
      "7 (20.18633540372671, 94.55645161290323)\n",
      "8 (11.697722567287784, 96.70698924731182)\n",
      "9 (4.658385093167702, 98.72311827956989)\n"
     ]
    }
   ],
   "source": [
    "thresholds = range(1, 10)\n",
    "for threshold in thresholds:\n",
    "    matrix = make_matrix(cp, white, threshold)\n",
    "    t = sens_spec(matrix)\n",
    "    print(threshold, t)"
   ]
  },
  {
   "cell_type": "markdown",
   "metadata": {},
   "source": [
    "When the threshold is low, almost everyone is in the high risk group; in that case:\n",
    "\n",
    "* Sensitivity is high because most recidivists are in the high risk group, but \n",
    "\n",
    "* Specificity is low because most non-recidivists are *also* in the high risk group.\n",
    "\n",
    "When the threshold is high, almost everyone is in the low risk group, and the metrics are the other way around:\n",
    "\n",
    "* Sensitivity is low because most recidivists are in the low risk group, but\n",
    "\n",
    "* Specificity is high because most non-recidivists are *also* in the low risk group.\n",
    "\n",
    "One way to visualize these results is to plot sensitivity versus FPR (which is the complement of specificity) for a range of thresholds.  For historical reasons, the result is called a [receiver operating characteristic (ROC) curve](https://en.wikipedia.org/wiki/Receiver_operating_characteristic).\n",
    "\n",
    "The following function computes the ROC curve for a given subset of the data:"
   ]
  },
  {
   "cell_type": "code",
   "execution_count": 56,
   "metadata": {},
   "outputs": [],
   "source": [
    "def make_roc(cp, group):\n",
    "\n",
    "    thresholds = range(1, 10)\n",
    "    roc = pd.DataFrame(index=thresholds, \n",
    "                   columns=['sens', 'spec'])\n",
    "\n",
    "    for threshold in thresholds:\n",
    "        matrix = make_matrix(cp, group, threshold)\n",
    "        roc.loc[threshold] = sens_spec(matrix)\n",
    "    \n",
    "    roc['fpr'] = 100 - roc['spec']\n",
    "    \n",
    "    return roc"
   ]
  },
  {
   "cell_type": "code",
   "execution_count": 57,
   "metadata": {},
   "outputs": [
    {
     "data": {
      "text/html": [
       "<div>\n",
       "<style scoped>\n",
       "    .dataframe tbody tr th:only-of-type {\n",
       "        vertical-align: middle;\n",
       "    }\n",
       "\n",
       "    .dataframe tbody tr th {\n",
       "        vertical-align: top;\n",
       "    }\n",
       "\n",
       "    .dataframe thead th {\n",
       "        text-align: right;\n",
       "    }\n",
       "</style>\n",
       "<table border=\"1\" class=\"dataframe\">\n",
       "  <thead>\n",
       "    <tr style=\"text-align: right;\">\n",
       "      <th></th>\n",
       "      <th>sens</th>\n",
       "      <th>spec</th>\n",
       "      <th>fpr</th>\n",
       "    </tr>\n",
       "  </thead>\n",
       "  <tbody>\n",
       "    <tr>\n",
       "      <th>1</th>\n",
       "      <td>85.3002</td>\n",
       "      <td>36.2231</td>\n",
       "      <td>63.7769</td>\n",
       "    </tr>\n",
       "    <tr>\n",
       "      <th>2</th>\n",
       "      <td>73.6025</td>\n",
       "      <td>52.8898</td>\n",
       "      <td>47.1102</td>\n",
       "    </tr>\n",
       "    <tr>\n",
       "      <th>3</th>\n",
       "      <td>63.9752</td>\n",
       "      <td>64.9866</td>\n",
       "      <td>35.0134</td>\n",
       "    </tr>\n",
       "    <tr>\n",
       "      <th>4</th>\n",
       "      <td>52.2774</td>\n",
       "      <td>76.5457</td>\n",
       "      <td>23.4543</td>\n",
       "    </tr>\n",
       "    <tr>\n",
       "      <th>5</th>\n",
       "      <td>40.7867</td>\n",
       "      <td>85.2823</td>\n",
       "      <td>14.7177</td>\n",
       "    </tr>\n",
       "    <tr>\n",
       "      <th>6</th>\n",
       "      <td>29.2961</td>\n",
       "      <td>90.8602</td>\n",
       "      <td>9.13978</td>\n",
       "    </tr>\n",
       "    <tr>\n",
       "      <th>7</th>\n",
       "      <td>20.1863</td>\n",
       "      <td>94.5565</td>\n",
       "      <td>5.44355</td>\n",
       "    </tr>\n",
       "    <tr>\n",
       "      <th>8</th>\n",
       "      <td>11.6977</td>\n",
       "      <td>96.707</td>\n",
       "      <td>3.29301</td>\n",
       "    </tr>\n",
       "    <tr>\n",
       "      <th>9</th>\n",
       "      <td>4.65839</td>\n",
       "      <td>98.7231</td>\n",
       "      <td>1.27688</td>\n",
       "    </tr>\n",
       "  </tbody>\n",
       "</table>\n",
       "</div>"
      ],
      "text/plain": [
       "      sens     spec      fpr\n",
       "1  85.3002  36.2231  63.7769\n",
       "2  73.6025  52.8898  47.1102\n",
       "3  63.9752  64.9866  35.0134\n",
       "4  52.2774  76.5457  23.4543\n",
       "5  40.7867  85.2823  14.7177\n",
       "6  29.2961  90.8602  9.13978\n",
       "7  20.1863  94.5565  5.44355\n",
       "8  11.6977   96.707  3.29301\n",
       "9  4.65839  98.7231  1.27688"
      ]
     },
     "execution_count": 57,
     "metadata": {},
     "output_type": "execute_result"
    }
   ],
   "source": [
    "roc_white = make_roc(cp, white)\n",
    "roc_white"
   ]
  },
  {
   "cell_type": "code",
   "execution_count": 58,
   "metadata": {},
   "outputs": [
    {
     "data": {
      "text/html": [
       "<div>\n",
       "<style scoped>\n",
       "    .dataframe tbody tr th:only-of-type {\n",
       "        vertical-align: middle;\n",
       "    }\n",
       "\n",
       "    .dataframe tbody tr th {\n",
       "        vertical-align: top;\n",
       "    }\n",
       "\n",
       "    .dataframe thead th {\n",
       "        text-align: right;\n",
       "    }\n",
       "</style>\n",
       "<table border=\"1\" class=\"dataframe\">\n",
       "  <thead>\n",
       "    <tr style=\"text-align: right;\">\n",
       "      <th></th>\n",
       "      <th>sens</th>\n",
       "      <th>spec</th>\n",
       "      <th>fpr</th>\n",
       "    </tr>\n",
       "  </thead>\n",
       "  <tbody>\n",
       "    <tr>\n",
       "      <th>1</th>\n",
       "      <td>95.213</td>\n",
       "      <td>17.1031</td>\n",
       "      <td>82.8969</td>\n",
       "    </tr>\n",
       "    <tr>\n",
       "      <th>2</th>\n",
       "      <td>88.9532</td>\n",
       "      <td>32.3677</td>\n",
       "      <td>67.6323</td>\n",
       "    </tr>\n",
       "    <tr>\n",
       "      <th>3</th>\n",
       "      <td>81.3256</td>\n",
       "      <td>43.5655</td>\n",
       "      <td>56.4345</td>\n",
       "    </tr>\n",
       "    <tr>\n",
       "      <th>4</th>\n",
       "      <td>72.0147</td>\n",
       "      <td>55.1532</td>\n",
       "      <td>44.8468</td>\n",
       "    </tr>\n",
       "    <tr>\n",
       "      <th>5</th>\n",
       "      <td>62.7564</td>\n",
       "      <td>65.6825</td>\n",
       "      <td>34.3175</td>\n",
       "    </tr>\n",
       "    <tr>\n",
       "      <th>6</th>\n",
       "      <td>51.4466</td>\n",
       "      <td>75.0975</td>\n",
       "      <td>24.9025</td>\n",
       "    </tr>\n",
       "    <tr>\n",
       "      <th>7</th>\n",
       "      <td>38.9795</td>\n",
       "      <td>84.1783</td>\n",
       "      <td>15.8217</td>\n",
       "    </tr>\n",
       "    <tr>\n",
       "      <th>8</th>\n",
       "      <td>26.0915</td>\n",
       "      <td>90.5292</td>\n",
       "      <td>9.47075</td>\n",
       "    </tr>\n",
       "    <tr>\n",
       "      <th>9</th>\n",
       "      <td>11.9411</td>\n",
       "      <td>96.7131</td>\n",
       "      <td>3.28691</td>\n",
       "    </tr>\n",
       "  </tbody>\n",
       "</table>\n",
       "</div>"
      ],
      "text/plain": [
       "      sens     spec      fpr\n",
       "1   95.213  17.1031  82.8969\n",
       "2  88.9532  32.3677  67.6323\n",
       "3  81.3256  43.5655  56.4345\n",
       "4  72.0147  55.1532  44.8468\n",
       "5  62.7564  65.6825  34.3175\n",
       "6  51.4466  75.0975  24.9025\n",
       "7  38.9795  84.1783  15.8217\n",
       "8  26.0915  90.5292  9.47075\n",
       "9  11.9411  96.7131  3.28691"
      ]
     },
     "execution_count": 58,
     "metadata": {},
     "output_type": "execute_result"
    }
   ],
   "source": [
    "roc_black = make_roc(cp, black)\n",
    "roc_black"
   ]
  },
  {
   "cell_type": "code",
   "execution_count": 59,
   "metadata": {},
   "outputs": [],
   "source": [
    "def plot_roc(roc):\n",
    "    plt.plot(roc['fpr'], roc['sens'])"
   ]
  },
  {
   "cell_type": "code",
   "execution_count": 60,
   "metadata": {
    "scrolled": true
   },
   "outputs": [
    {
     "data": {
      "image/png": "[encoded data removed]",
      "text/plain": [
       "<Figure size 432x288 with 1 Axes>"
      ]
     },
     "metadata": {
      "needs_background": "light"
     },
     "output_type": "display_data"
    }
   ],
   "source": [
    "plot_roc(roc_white)\n",
    "plot_roc(roc_black)"
   ]
  },
  {
   "cell_type": "code",
   "execution_count": null,
   "metadata": {},
   "outputs": [],
   "source": []
  }
 ],
 "metadata": {
  "kernelspec": {
   "display_name": "Python 3",
   "language": "python",
   "name": "python3"
  },
  "language_info": {
   "codemirror_mode": {
    "name": "ipython",
    "version": 3
   },
   "file_extension": ".py",
   "mimetype": "text/x-python",
   "name": "python",
   "nbconvert_exporter": "python",
   "pygments_lexer": "ipython3",
   "version": "3.7.6"
  }
 },
 "nbformat": 4,
 "nbformat_minor": 2
}
