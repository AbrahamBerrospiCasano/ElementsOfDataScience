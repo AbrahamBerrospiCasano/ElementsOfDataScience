{
 "cells": [
  {
   "cell_type": "markdown",
   "metadata": {},
   "source": [
    "# False positive\n",
    "\n",
    "Elements of Data Science\n",
    "\n",
    "by [Allen Downey](https://allendowney.com)\n",
    "\n",
    "[MIT License](https://opensource.org/licenses/MIT)\n",
    "\n",
    "### Goals\n",
    "\n"
   ]
  },
  {
   "cell_type": "code",
   "execution_count": 1,
   "metadata": {},
   "outputs": [],
   "source": [
    "import pandas as pd\n",
    "import numpy as np\n",
    "import matplotlib.pyplot as plt"
   ]
  },
  {
   "cell_type": "markdown",
   "metadata": {},
   "source": [
    "## Data\n",
    "\n",
    "[This repository](https://github.com/propublica/compas-analysis) the data and analysis pipeline described on [this web page](https://www.propublica.org/article/how-we-analyzed-the-compas-recidivism-algorithm).\n",
    "\n",
    "The terms of use for the data [are here](https://www.propublica.org/datastore/terms).  In compliance with those terms, I am not redistributing the data.\n",
    "\n",
    "The following cell downloads the data file we'll use directly from their repository."
   ]
  },
  {
   "cell_type": "code",
   "execution_count": 2,
   "metadata": {},
   "outputs": [],
   "source": [
    "import os\n",
    "\n",
    "if not os.path.exists('compas-scores-two-years.csv'):\n",
    "    !wget https://github.com/propublica/compas-analysis/raw/master/compas-scores-two-years.csv"
   ]
  },
  {
   "cell_type": "markdown",
   "metadata": {},
   "source": [
    "The following cell read the data file:"
   ]
  },
  {
   "cell_type": "code",
   "execution_count": 3,
   "metadata": {},
   "outputs": [
    {
     "data": {
      "text/plain": [
       "(7214, 53)"
      ]
     },
     "execution_count": 3,
     "metadata": {},
     "output_type": "execute_result"
    }
   ],
   "source": [
    "cp = pd.read_csv(\"compas-scores-two-years.csv\")\n",
    "cp.shape"
   ]
  },
  {
   "cell_type": "markdown",
   "metadata": {},
   "source": [
    "## Code"
   ]
  },
  {
   "cell_type": "code",
   "execution_count": 4,
   "metadata": {},
   "outputs": [],
   "source": [
    "def make_matrix(cp, subgroup=slice(None), threshold=4):\n",
    "    \"\"\"Make a confusion matrix.\n",
    "    \n",
    "    cp: DataFrame\n",
    "    subgroup: Boolean Series, default is all rows\n",
    "    threshold: default is 4\n",
    "    \n",
    "    returns: DataFrame containing the confusion matrix\n",
    "    \"\"\"\n",
    "    a = np.where(cp['decile_score'] > threshold, \n",
    "                 'Positive', \n",
    "                 'Negative')\n",
    "    high_risk = pd.Series(a, name='Predicted')\n",
    "    \n",
    "    a = np.where(cp['two_year_recid'] == 1, \n",
    "                 'Condition', \n",
    "                 'No Condition')\n",
    "    new_charge_2 = pd.Series(a, name='Actual')\n",
    "\n",
    "    matrix = pd.crosstab(high_risk[subgroup], new_charge_2[subgroup])\n",
    "    matrix.sort_index(axis=0, ascending=False, inplace=True)\n",
    "    \n",
    "    return matrix"
   ]
  },
  {
   "cell_type": "code",
   "execution_count": 5,
   "metadata": {},
   "outputs": [],
   "source": [
    "def percent(x, y):\n",
    "    \"\"\"Compute the percentage `x/(x+y)*100`.\n",
    "    \"\"\"\n",
    "    return x / (x+y) * 100"
   ]
  },
  {
   "cell_type": "code",
   "execution_count": 6,
   "metadata": {},
   "outputs": [],
   "source": [
    "def predictive_value(m):\n",
    "    \"\"\"Compute positive and negative predictive value.\n",
    "    \n",
    "    m: confusion matrix\n",
    "    \"\"\"\n",
    "    tp, fp, fn, tn = m.to_numpy().flatten()\n",
    "    ppv = percent(tp, fp)\n",
    "    npv = percent(tn, fn)\n",
    "    return ppv, npv"
   ]
  },
  {
   "cell_type": "code",
   "execution_count": 7,
   "metadata": {},
   "outputs": [],
   "source": [
    "def sens_spec(m):\n",
    "    \"\"\"Compute sensitivity and specificity.\n",
    "    \n",
    "    m: confusion matrix\n",
    "    \"\"\"\n",
    "    tp, fp, fn, tn = m.to_numpy().flatten()\n",
    "    sens = percent(tp, fn)\n",
    "    spec = percent(tn, fp)\n",
    "    return sens, spec"
   ]
  },
  {
   "cell_type": "code",
   "execution_count": 8,
   "metadata": {},
   "outputs": [],
   "source": [
    "def error_rates(m):\n",
    "    \"\"\"Compute false positive and false negative rate.\n",
    "    \n",
    "    m: confusion matrix\n",
    "    \"\"\"\n",
    "    tp, fp, fn, tn = m.to_numpy().flatten()\n",
    "    fpr = percent(fp, tn)\n",
    "    fnr = percent(fn, tp)\n",
    "    return fpr, fnr"
   ]
  },
  {
   "cell_type": "code",
   "execution_count": 9,
   "metadata": {},
   "outputs": [],
   "source": [
    "def prevalence(df):\n",
    "    \"\"\"Compute prevalence.\n",
    "    \n",
    "    m: confusion matrix\n",
    "    \"\"\"\n",
    "    tp, fp, fn, tn = df.to_numpy().flatten()\n",
    "    prevalence = percent(tp+fn, tn+fp)\n",
    "    return prevalence"
   ]
  },
  {
   "cell_type": "code",
   "execution_count": 10,
   "metadata": {},
   "outputs": [],
   "source": [
    "def compute_metrics(m, name=''):\n",
    "    \"\"\"Compute all metrics.\n",
    "    \n",
    "    m: confusion matrix\n",
    "    \n",
    "    returns: DataFrame\n",
    "    \"\"\"\n",
    "    fpr, fnr = error_rates(m)\n",
    "    ppv, npv = predictive_value(m)\n",
    "    prev = prevalence(m)\n",
    "    \n",
    "    index = ['FP rate', 'FN rate', 'PPV', 'NPV', 'Prevalence']\n",
    "    df = pd.DataFrame(index=index, columns=['Percent'])\n",
    "    df.Percent = fpr, fnr, ppv, npv, prev\n",
    "    df.index.name = name\n",
    "    return df"
   ]
  },
  {
   "cell_type": "code",
   "execution_count": 11,
   "metadata": {},
   "outputs": [],
   "source": [
    "def calibration_curve(df):\n",
    "    \"\"\"Compute probability of recidivism by decile score.\n",
    "    \n",
    "    df: DataFrame\n",
    "    \n",
    "    returns: Series\n",
    "    \"\"\"\n",
    "    grouped = df.groupby('decile_score')\n",
    "    return grouped['two_year_recid'].mean()"
   ]
  },
  {
   "cell_type": "code",
   "execution_count": 12,
   "metadata": {},
   "outputs": [],
   "source": [
    "def decorate(**options):\n",
    "    \"\"\"Decorate the current axes.\n",
    "    \n",
    "    Call decorate with keyword arguments like\n",
    "    decorate(title='Title',\n",
    "             xlabel='x',\n",
    "             ylabel='y')\n",
    "             \n",
    "    The keyword arguments can be any of the axis properties\n",
    "    https://matplotlib.org/api/axes_api.html\n",
    "    \"\"\"\n",
    "    plt.gca().set(**options)\n",
    "    plt.tight_layout()"
   ]
  },
  {
   "cell_type": "code",
   "execution_count": 13,
   "metadata": {},
   "outputs": [],
   "source": [
    "def values(series):\n",
    "    \"\"\"Count the values and sort.\n",
    "    \n",
    "    series: pd.Series\n",
    "    \n",
    "    returns: series mapping from values to frequencies\n",
    "    \"\"\"\n",
    "    return series.value_counts(dropna=False).sort_index()"
   ]
  },
  {
   "cell_type": "markdown",
   "metadata": {},
   "source": [
    "## What's next?"
   ]
  },
  {
   "cell_type": "code",
   "execution_count": 14,
   "metadata": {},
   "outputs": [],
   "source": [
    "def make_dataframe(series, *columns):\n",
    "    \"\"\"Make a Series into a DataFrame with one column.\n",
    "    \n",
    "    So it looks better in Jupyter.\n",
    "    \n",
    "    series: Series\n",
    "    columns: column name(s)\n",
    "    \n",
    "    returns: DataFrame\n",
    "    \"\"\"\n",
    "    df = pd.DataFrame(series.values,\n",
    "                      index=series.index,\n",
    "                      columns=columns)\n",
    "    df.index.name = series.name\n",
    "    return df\n",
    "\n",
    "def counts(df, var):\n",
    "    \"\"\"Compute counts for each unique value.\n",
    "    \n",
    "    df: DataFrame\n",
    "    var: variable name\n",
    "    \"\"\"\n",
    "    series = df[var].value_counts()\n",
    "    return make_dataframe(series, 'Count')\n",
    "\n",
    "def percentages(df, var):\n",
    "    \"\"\"Compute percentages for each unique value.\n",
    "    \n",
    "    df: DataFrame\n",
    "    var: variable name\n",
    "    \"\"\"\n",
    "    series = df[var].value_counts() / len(df) * 100\n",
    "    return make_dataframe(series, 'Percentage')"
   ]
  },
  {
   "cell_type": "markdown",
   "metadata": {},
   "source": [
    "Breakdown by age"
   ]
  },
  {
   "cell_type": "code",
   "execution_count": 15,
   "metadata": {},
   "outputs": [
    {
     "data": {
      "text/html": [
       "<div>\n",
       "<style scoped>\n",
       "    .dataframe tbody tr th:only-of-type {\n",
       "        vertical-align: middle;\n",
       "    }\n",
       "\n",
       "    .dataframe tbody tr th {\n",
       "        vertical-align: top;\n",
       "    }\n",
       "\n",
       "    .dataframe thead th {\n",
       "        text-align: right;\n",
       "    }\n",
       "</style>\n",
       "<table border=\"1\" class=\"dataframe\">\n",
       "  <thead>\n",
       "    <tr style=\"text-align: right;\">\n",
       "      <th></th>\n",
       "      <th>Count</th>\n",
       "    </tr>\n",
       "    <tr>\n",
       "      <th>age_cat</th>\n",
       "      <th></th>\n",
       "    </tr>\n",
       "  </thead>\n",
       "  <tbody>\n",
       "    <tr>\n",
       "      <td>25 - 45</td>\n",
       "      <td>4109</td>\n",
       "    </tr>\n",
       "    <tr>\n",
       "      <td>Greater than 45</td>\n",
       "      <td>1576</td>\n",
       "    </tr>\n",
       "    <tr>\n",
       "      <td>Less than 25</td>\n",
       "      <td>1529</td>\n",
       "    </tr>\n",
       "  </tbody>\n",
       "</table>\n",
       "</div>"
      ],
      "text/plain": [
       "                 Count\n",
       "age_cat               \n",
       "25 - 45           4109\n",
       "Greater than 45   1576\n",
       "Less than 25      1529"
      ]
     },
     "execution_count": 15,
     "metadata": {},
     "output_type": "execute_result"
    }
   ],
   "source": [
    "counts(cp, 'age_cat')"
   ]
  },
  {
   "cell_type": "code",
   "execution_count": 16,
   "metadata": {},
   "outputs": [
    {
     "data": {
      "text/html": [
       "<div>\n",
       "<style scoped>\n",
       "    .dataframe tbody tr th:only-of-type {\n",
       "        vertical-align: middle;\n",
       "    }\n",
       "\n",
       "    .dataframe tbody tr th {\n",
       "        vertical-align: top;\n",
       "    }\n",
       "\n",
       "    .dataframe thead th {\n",
       "        text-align: right;\n",
       "    }\n",
       "</style>\n",
       "<table border=\"1\" class=\"dataframe\">\n",
       "  <thead>\n",
       "    <tr style=\"text-align: right;\">\n",
       "      <th></th>\n",
       "      <th>Percentage</th>\n",
       "    </tr>\n",
       "    <tr>\n",
       "      <th>age_cat</th>\n",
       "      <th></th>\n",
       "    </tr>\n",
       "  </thead>\n",
       "  <tbody>\n",
       "    <tr>\n",
       "      <td>25 - 45</td>\n",
       "      <td>56.958691</td>\n",
       "    </tr>\n",
       "    <tr>\n",
       "      <td>Greater than 45</td>\n",
       "      <td>21.846410</td>\n",
       "    </tr>\n",
       "    <tr>\n",
       "      <td>Less than 25</td>\n",
       "      <td>21.194899</td>\n",
       "    </tr>\n",
       "  </tbody>\n",
       "</table>\n",
       "</div>"
      ],
      "text/plain": [
       "                 Percentage\n",
       "age_cat                    \n",
       "25 - 45           56.958691\n",
       "Greater than 45   21.846410\n",
       "Less than 25      21.194899"
      ]
     },
     "execution_count": 16,
     "metadata": {},
     "output_type": "execute_result"
    }
   ],
   "source": [
    "percentages(cp, 'age_cat')"
   ]
  },
  {
   "cell_type": "markdown",
   "metadata": {},
   "source": [
    "Breakdown by race"
   ]
  },
  {
   "cell_type": "code",
   "execution_count": 17,
   "metadata": {},
   "outputs": [
    {
     "data": {
      "text/html": [
       "<div>\n",
       "<style scoped>\n",
       "    .dataframe tbody tr th:only-of-type {\n",
       "        vertical-align: middle;\n",
       "    }\n",
       "\n",
       "    .dataframe tbody tr th {\n",
       "        vertical-align: top;\n",
       "    }\n",
       "\n",
       "    .dataframe thead th {\n",
       "        text-align: right;\n",
       "    }\n",
       "</style>\n",
       "<table border=\"1\" class=\"dataframe\">\n",
       "  <thead>\n",
       "    <tr style=\"text-align: right;\">\n",
       "      <th></th>\n",
       "      <th>Count</th>\n",
       "    </tr>\n",
       "    <tr>\n",
       "      <th>race</th>\n",
       "      <th></th>\n",
       "    </tr>\n",
       "  </thead>\n",
       "  <tbody>\n",
       "    <tr>\n",
       "      <td>African-American</td>\n",
       "      <td>3696</td>\n",
       "    </tr>\n",
       "    <tr>\n",
       "      <td>Caucasian</td>\n",
       "      <td>2454</td>\n",
       "    </tr>\n",
       "    <tr>\n",
       "      <td>Hispanic</td>\n",
       "      <td>637</td>\n",
       "    </tr>\n",
       "    <tr>\n",
       "      <td>Other</td>\n",
       "      <td>377</td>\n",
       "    </tr>\n",
       "    <tr>\n",
       "      <td>Asian</td>\n",
       "      <td>32</td>\n",
       "    </tr>\n",
       "    <tr>\n",
       "      <td>Native American</td>\n",
       "      <td>18</td>\n",
       "    </tr>\n",
       "  </tbody>\n",
       "</table>\n",
       "</div>"
      ],
      "text/plain": [
       "                  Count\n",
       "race                   \n",
       "African-American   3696\n",
       "Caucasian          2454\n",
       "Hispanic            637\n",
       "Other               377\n",
       "Asian                32\n",
       "Native American      18"
      ]
     },
     "execution_count": 17,
     "metadata": {},
     "output_type": "execute_result"
    }
   ],
   "source": [
    "counts(cp, 'race')"
   ]
  },
  {
   "cell_type": "code",
   "execution_count": 18,
   "metadata": {},
   "outputs": [
    {
     "data": {
      "text/html": [
       "<div>\n",
       "<style scoped>\n",
       "    .dataframe tbody tr th:only-of-type {\n",
       "        vertical-align: middle;\n",
       "    }\n",
       "\n",
       "    .dataframe tbody tr th {\n",
       "        vertical-align: top;\n",
       "    }\n",
       "\n",
       "    .dataframe thead th {\n",
       "        text-align: right;\n",
       "    }\n",
       "</style>\n",
       "<table border=\"1\" class=\"dataframe\">\n",
       "  <thead>\n",
       "    <tr style=\"text-align: right;\">\n",
       "      <th></th>\n",
       "      <th>Percentage</th>\n",
       "    </tr>\n",
       "    <tr>\n",
       "      <th>race</th>\n",
       "      <th></th>\n",
       "    </tr>\n",
       "  </thead>\n",
       "  <tbody>\n",
       "    <tr>\n",
       "      <td>African-American</td>\n",
       "      <td>51.233712</td>\n",
       "    </tr>\n",
       "    <tr>\n",
       "      <td>Caucasian</td>\n",
       "      <td>34.017189</td>\n",
       "    </tr>\n",
       "    <tr>\n",
       "      <td>Hispanic</td>\n",
       "      <td>8.830053</td>\n",
       "    </tr>\n",
       "    <tr>\n",
       "      <td>Other</td>\n",
       "      <td>5.225950</td>\n",
       "    </tr>\n",
       "    <tr>\n",
       "      <td>Asian</td>\n",
       "      <td>0.443582</td>\n",
       "    </tr>\n",
       "    <tr>\n",
       "      <td>Native American</td>\n",
       "      <td>0.249515</td>\n",
       "    </tr>\n",
       "  </tbody>\n",
       "</table>\n",
       "</div>"
      ],
      "text/plain": [
       "                  Percentage\n",
       "race                        \n",
       "African-American   51.233712\n",
       "Caucasian          34.017189\n",
       "Hispanic            8.830053\n",
       "Other               5.225950\n",
       "Asian               0.443582\n",
       "Native American     0.249515"
      ]
     },
     "execution_count": 18,
     "metadata": {},
     "output_type": "execute_result"
    }
   ],
   "source": [
    "percentages(cp, 'race')"
   ]
  },
  {
   "cell_type": "markdown",
   "metadata": {},
   "source": [
    "Breakdown by sex"
   ]
  },
  {
   "cell_type": "code",
   "execution_count": 19,
   "metadata": {},
   "outputs": [
    {
     "data": {
      "text/html": [
       "<div>\n",
       "<style scoped>\n",
       "    .dataframe tbody tr th:only-of-type {\n",
       "        vertical-align: middle;\n",
       "    }\n",
       "\n",
       "    .dataframe tbody tr th {\n",
       "        vertical-align: top;\n",
       "    }\n",
       "\n",
       "    .dataframe thead th {\n",
       "        text-align: right;\n",
       "    }\n",
       "</style>\n",
       "<table border=\"1\" class=\"dataframe\">\n",
       "  <thead>\n",
       "    <tr style=\"text-align: right;\">\n",
       "      <th></th>\n",
       "      <th>Count</th>\n",
       "    </tr>\n",
       "    <tr>\n",
       "      <th>sex</th>\n",
       "      <th></th>\n",
       "    </tr>\n",
       "  </thead>\n",
       "  <tbody>\n",
       "    <tr>\n",
       "      <td>Male</td>\n",
       "      <td>5819</td>\n",
       "    </tr>\n",
       "    <tr>\n",
       "      <td>Female</td>\n",
       "      <td>1395</td>\n",
       "    </tr>\n",
       "  </tbody>\n",
       "</table>\n",
       "</div>"
      ],
      "text/plain": [
       "        Count\n",
       "sex          \n",
       "Male     5819\n",
       "Female   1395"
      ]
     },
     "execution_count": 19,
     "metadata": {},
     "output_type": "execute_result"
    }
   ],
   "source": [
    "counts(cp, 'sex')"
   ]
  },
  {
   "cell_type": "code",
   "execution_count": 20,
   "metadata": {},
   "outputs": [
    {
     "data": {
      "text/html": [
       "<div>\n",
       "<style scoped>\n",
       "    .dataframe tbody tr th:only-of-type {\n",
       "        vertical-align: middle;\n",
       "    }\n",
       "\n",
       "    .dataframe tbody tr th {\n",
       "        vertical-align: top;\n",
       "    }\n",
       "\n",
       "    .dataframe thead th {\n",
       "        text-align: right;\n",
       "    }\n",
       "</style>\n",
       "<table border=\"1\" class=\"dataframe\">\n",
       "  <thead>\n",
       "    <tr style=\"text-align: right;\">\n",
       "      <th></th>\n",
       "      <th>Percentage</th>\n",
       "    </tr>\n",
       "    <tr>\n",
       "      <th>sex</th>\n",
       "      <th></th>\n",
       "    </tr>\n",
       "  </thead>\n",
       "  <tbody>\n",
       "    <tr>\n",
       "      <td>Male</td>\n",
       "      <td>80.6626</td>\n",
       "    </tr>\n",
       "    <tr>\n",
       "      <td>Female</td>\n",
       "      <td>19.3374</td>\n",
       "    </tr>\n",
       "  </tbody>\n",
       "</table>\n",
       "</div>"
      ],
      "text/plain": [
       "        Percentage\n",
       "sex               \n",
       "Male       80.6626\n",
       "Female     19.3374"
      ]
     },
     "execution_count": 20,
     "metadata": {},
     "output_type": "execute_result"
    }
   ],
   "source": [
    "percentages(cp, 'sex')"
   ]
  },
  {
   "cell_type": "markdown",
   "metadata": {},
   "source": [
    "Breakdown by recidivism"
   ]
  },
  {
   "cell_type": "code",
   "execution_count": 21,
   "metadata": {},
   "outputs": [
    {
     "data": {
      "text/html": [
       "<div>\n",
       "<style scoped>\n",
       "    .dataframe tbody tr th:only-of-type {\n",
       "        vertical-align: middle;\n",
       "    }\n",
       "\n",
       "    .dataframe tbody tr th {\n",
       "        vertical-align: top;\n",
       "    }\n",
       "\n",
       "    .dataframe thead th {\n",
       "        text-align: right;\n",
       "    }\n",
       "</style>\n",
       "<table border=\"1\" class=\"dataframe\">\n",
       "  <thead>\n",
       "    <tr style=\"text-align: right;\">\n",
       "      <th></th>\n",
       "      <th>Count</th>\n",
       "    </tr>\n",
       "    <tr>\n",
       "      <th>two_year_recid</th>\n",
       "      <th></th>\n",
       "    </tr>\n",
       "  </thead>\n",
       "  <tbody>\n",
       "    <tr>\n",
       "      <td>0</td>\n",
       "      <td>3963</td>\n",
       "    </tr>\n",
       "    <tr>\n",
       "      <td>1</td>\n",
       "      <td>3251</td>\n",
       "    </tr>\n",
       "  </tbody>\n",
       "</table>\n",
       "</div>"
      ],
      "text/plain": [
       "                Count\n",
       "two_year_recid       \n",
       "0                3963\n",
       "1                3251"
      ]
     },
     "execution_count": 21,
     "metadata": {},
     "output_type": "execute_result"
    }
   ],
   "source": [
    "counts(cp, 'two_year_recid')"
   ]
  },
  {
   "cell_type": "code",
   "execution_count": 22,
   "metadata": {},
   "outputs": [
    {
     "data": {
      "text/html": [
       "<div>\n",
       "<style scoped>\n",
       "    .dataframe tbody tr th:only-of-type {\n",
       "        vertical-align: middle;\n",
       "    }\n",
       "\n",
       "    .dataframe tbody tr th {\n",
       "        vertical-align: top;\n",
       "    }\n",
       "\n",
       "    .dataframe thead th {\n",
       "        text-align: right;\n",
       "    }\n",
       "</style>\n",
       "<table border=\"1\" class=\"dataframe\">\n",
       "  <thead>\n",
       "    <tr style=\"text-align: right;\">\n",
       "      <th></th>\n",
       "      <th>Percentage</th>\n",
       "    </tr>\n",
       "    <tr>\n",
       "      <th>two_year_recid</th>\n",
       "      <th></th>\n",
       "    </tr>\n",
       "  </thead>\n",
       "  <tbody>\n",
       "    <tr>\n",
       "      <td>0</td>\n",
       "      <td>54.934849</td>\n",
       "    </tr>\n",
       "    <tr>\n",
       "      <td>1</td>\n",
       "      <td>45.065151</td>\n",
       "    </tr>\n",
       "  </tbody>\n",
       "</table>\n",
       "</div>"
      ],
      "text/plain": [
       "                Percentage\n",
       "two_year_recid            \n",
       "0                54.934849\n",
       "1                45.065151"
      ]
     },
     "execution_count": 22,
     "metadata": {},
     "output_type": "execute_result"
    }
   ],
   "source": [
    "percentages(cp, 'two_year_recid')"
   ]
  },
  {
   "cell_type": "markdown",
   "metadata": {},
   "source": [
    "Breakdown by risk category"
   ]
  },
  {
   "cell_type": "code",
   "execution_count": 23,
   "metadata": {},
   "outputs": [
    {
     "data": {
      "text/html": [
       "<div>\n",
       "<style scoped>\n",
       "    .dataframe tbody tr th:only-of-type {\n",
       "        vertical-align: middle;\n",
       "    }\n",
       "\n",
       "    .dataframe tbody tr th {\n",
       "        vertical-align: top;\n",
       "    }\n",
       "\n",
       "    .dataframe thead th {\n",
       "        text-align: right;\n",
       "    }\n",
       "</style>\n",
       "<table border=\"1\" class=\"dataframe\">\n",
       "  <thead>\n",
       "    <tr style=\"text-align: right;\">\n",
       "      <th></th>\n",
       "      <th>Count</th>\n",
       "    </tr>\n",
       "    <tr>\n",
       "      <th>score_text</th>\n",
       "      <th></th>\n",
       "    </tr>\n",
       "  </thead>\n",
       "  <tbody>\n",
       "    <tr>\n",
       "      <td>Low</td>\n",
       "      <td>3897</td>\n",
       "    </tr>\n",
       "    <tr>\n",
       "      <td>Medium</td>\n",
       "      <td>1914</td>\n",
       "    </tr>\n",
       "    <tr>\n",
       "      <td>High</td>\n",
       "      <td>1403</td>\n",
       "    </tr>\n",
       "  </tbody>\n",
       "</table>\n",
       "</div>"
      ],
      "text/plain": [
       "            Count\n",
       "score_text       \n",
       "Low          3897\n",
       "Medium       1914\n",
       "High         1403"
      ]
     },
     "execution_count": 23,
     "metadata": {},
     "output_type": "execute_result"
    }
   ],
   "source": [
    "counts(cp, 'score_text')"
   ]
  },
  {
   "cell_type": "code",
   "execution_count": 24,
   "metadata": {},
   "outputs": [
    {
     "data": {
      "text/html": [
       "<div>\n",
       "<style scoped>\n",
       "    .dataframe tbody tr th:only-of-type {\n",
       "        vertical-align: middle;\n",
       "    }\n",
       "\n",
       "    .dataframe tbody tr th {\n",
       "        vertical-align: top;\n",
       "    }\n",
       "\n",
       "    .dataframe thead th {\n",
       "        text-align: right;\n",
       "    }\n",
       "</style>\n",
       "<table border=\"1\" class=\"dataframe\">\n",
       "  <thead>\n",
       "    <tr style=\"text-align: right;\">\n",
       "      <th></th>\n",
       "      <th>Percentage</th>\n",
       "    </tr>\n",
       "    <tr>\n",
       "      <th>score_text</th>\n",
       "      <th></th>\n",
       "    </tr>\n",
       "  </thead>\n",
       "  <tbody>\n",
       "    <tr>\n",
       "      <td>Low</td>\n",
       "      <td>54.019961</td>\n",
       "    </tr>\n",
       "    <tr>\n",
       "      <td>Medium</td>\n",
       "      <td>26.531744</td>\n",
       "    </tr>\n",
       "    <tr>\n",
       "      <td>High</td>\n",
       "      <td>19.448295</td>\n",
       "    </tr>\n",
       "  </tbody>\n",
       "</table>\n",
       "</div>"
      ],
      "text/plain": [
       "            Percentage\n",
       "score_text            \n",
       "Low          54.019961\n",
       "Medium       26.531744\n",
       "High         19.448295"
      ]
     },
     "execution_count": 24,
     "metadata": {},
     "output_type": "execute_result"
    }
   ],
   "source": [
    "percentages(cp, 'score_text')"
   ]
  },
  {
   "cell_type": "markdown",
   "metadata": {},
   "source": [
    "The following function computes cross-tabulations."
   ]
  },
  {
   "cell_type": "code",
   "execution_count": 25,
   "metadata": {},
   "outputs": [],
   "source": [
    "def crosstab(df, index, columns):\n",
    "    \"\"\"Compute a cross-tabulation.\n",
    "    \n",
    "    df: DataFrame\n",
    "    index: variable(s) that will label the rows\n",
    "    columns: variable(s) that will label the columns\n",
    "    \n",
    "    returns: DataFrame\n",
    "    \"\"\"\n",
    "\n",
    "    return pd.crosstab(df[index], df[columns])"
   ]
  },
  {
   "cell_type": "markdown",
   "metadata": {},
   "source": [
    "Breakdown by sex and race"
   ]
  },
  {
   "cell_type": "code",
   "execution_count": 26,
   "metadata": {},
   "outputs": [
    {
     "data": {
      "text/html": [
       "<div>\n",
       "<style scoped>\n",
       "    .dataframe tbody tr th:only-of-type {\n",
       "        vertical-align: middle;\n",
       "    }\n",
       "\n",
       "    .dataframe tbody tr th {\n",
       "        vertical-align: top;\n",
       "    }\n",
       "\n",
       "    .dataframe thead th {\n",
       "        text-align: right;\n",
       "    }\n",
       "</style>\n",
       "<table border=\"1\" class=\"dataframe\">\n",
       "  <thead>\n",
       "    <tr style=\"text-align: right;\">\n",
       "      <th>race</th>\n",
       "      <th>African-American</th>\n",
       "      <th>Asian</th>\n",
       "      <th>Caucasian</th>\n",
       "      <th>Hispanic</th>\n",
       "      <th>Native American</th>\n",
       "      <th>Other</th>\n",
       "    </tr>\n",
       "    <tr>\n",
       "      <th>sex</th>\n",
       "      <th></th>\n",
       "      <th></th>\n",
       "      <th></th>\n",
       "      <th></th>\n",
       "      <th></th>\n",
       "      <th></th>\n",
       "    </tr>\n",
       "  </thead>\n",
       "  <tbody>\n",
       "    <tr>\n",
       "      <td>Female</td>\n",
       "      <td>652</td>\n",
       "      <td>2</td>\n",
       "      <td>567</td>\n",
       "      <td>103</td>\n",
       "      <td>4</td>\n",
       "      <td>67</td>\n",
       "    </tr>\n",
       "    <tr>\n",
       "      <td>Male</td>\n",
       "      <td>3044</td>\n",
       "      <td>30</td>\n",
       "      <td>1887</td>\n",
       "      <td>534</td>\n",
       "      <td>14</td>\n",
       "      <td>310</td>\n",
       "    </tr>\n",
       "  </tbody>\n",
       "</table>\n",
       "</div>"
      ],
      "text/plain": [
       "race    African-American  Asian  Caucasian  Hispanic  Native American  Other\n",
       "sex                                                                         \n",
       "Female               652      2        567       103                4     67\n",
       "Male                3044     30       1887       534               14    310"
      ]
     },
     "execution_count": 26,
     "metadata": {},
     "output_type": "execute_result"
    }
   ],
   "source": [
    "crosstab(cp, 'sex', 'race')"
   ]
  },
  {
   "cell_type": "markdown",
   "metadata": {},
   "source": [
    "Breakdown by age and race"
   ]
  },
  {
   "cell_type": "code",
   "execution_count": 27,
   "metadata": {},
   "outputs": [
    {
     "data": {
      "text/html": [
       "<div>\n",
       "<style scoped>\n",
       "    .dataframe tbody tr th:only-of-type {\n",
       "        vertical-align: middle;\n",
       "    }\n",
       "\n",
       "    .dataframe tbody tr th {\n",
       "        vertical-align: top;\n",
       "    }\n",
       "\n",
       "    .dataframe thead th {\n",
       "        text-align: right;\n",
       "    }\n",
       "</style>\n",
       "<table border=\"1\" class=\"dataframe\">\n",
       "  <thead>\n",
       "    <tr style=\"text-align: right;\">\n",
       "      <th>race</th>\n",
       "      <th>African-American</th>\n",
       "      <th>Asian</th>\n",
       "      <th>Caucasian</th>\n",
       "      <th>Hispanic</th>\n",
       "      <th>Native American</th>\n",
       "      <th>Other</th>\n",
       "    </tr>\n",
       "    <tr>\n",
       "      <th>age_cat</th>\n",
       "      <th></th>\n",
       "      <th></th>\n",
       "      <th></th>\n",
       "      <th></th>\n",
       "      <th></th>\n",
       "      <th></th>\n",
       "    </tr>\n",
       "  </thead>\n",
       "  <tbody>\n",
       "    <tr>\n",
       "      <td>25 - 45</td>\n",
       "      <td>2194</td>\n",
       "      <td>14</td>\n",
       "      <td>1312</td>\n",
       "      <td>367</td>\n",
       "      <td>12</td>\n",
       "      <td>210</td>\n",
       "    </tr>\n",
       "    <tr>\n",
       "      <td>Greater than 45</td>\n",
       "      <td>582</td>\n",
       "      <td>11</td>\n",
       "      <td>752</td>\n",
       "      <td>143</td>\n",
       "      <td>3</td>\n",
       "      <td>85</td>\n",
       "    </tr>\n",
       "    <tr>\n",
       "      <td>Less than 25</td>\n",
       "      <td>920</td>\n",
       "      <td>7</td>\n",
       "      <td>390</td>\n",
       "      <td>127</td>\n",
       "      <td>3</td>\n",
       "      <td>82</td>\n",
       "    </tr>\n",
       "  </tbody>\n",
       "</table>\n",
       "</div>"
      ],
      "text/plain": [
       "race             African-American  Asian  Caucasian  Hispanic  \\\n",
       "age_cat                                                         \n",
       "25 - 45                      2194     14       1312       367   \n",
       "Greater than 45               582     11        752       143   \n",
       "Less than 25                  920      7        390       127   \n",
       "\n",
       "race             Native American  Other  \n",
       "age_cat                                  \n",
       "25 - 45                       12    210  \n",
       "Greater than 45                3     85  \n",
       "Less than 25                   3     82  "
      ]
     },
     "execution_count": 27,
     "metadata": {},
     "output_type": "execute_result"
    }
   ],
   "source": [
    "crosstab(cp, 'age_cat', 'race')"
   ]
  },
  {
   "cell_type": "markdown",
   "metadata": {},
   "source": [
    "Breakdown by age and sex"
   ]
  },
  {
   "cell_type": "code",
   "execution_count": 28,
   "metadata": {},
   "outputs": [
    {
     "data": {
      "text/html": [
       "<div>\n",
       "<style scoped>\n",
       "    .dataframe tbody tr th:only-of-type {\n",
       "        vertical-align: middle;\n",
       "    }\n",
       "\n",
       "    .dataframe tbody tr th {\n",
       "        vertical-align: top;\n",
       "    }\n",
       "\n",
       "    .dataframe thead th {\n",
       "        text-align: right;\n",
       "    }\n",
       "</style>\n",
       "<table border=\"1\" class=\"dataframe\">\n",
       "  <thead>\n",
       "    <tr style=\"text-align: right;\">\n",
       "      <th>sex</th>\n",
       "      <th>Female</th>\n",
       "      <th>Male</th>\n",
       "    </tr>\n",
       "    <tr>\n",
       "      <th>age_cat</th>\n",
       "      <th></th>\n",
       "      <th></th>\n",
       "    </tr>\n",
       "  </thead>\n",
       "  <tbody>\n",
       "    <tr>\n",
       "      <td>25 - 45</td>\n",
       "      <td>807</td>\n",
       "      <td>3302</td>\n",
       "    </tr>\n",
       "    <tr>\n",
       "      <td>Greater than 45</td>\n",
       "      <td>300</td>\n",
       "      <td>1276</td>\n",
       "    </tr>\n",
       "    <tr>\n",
       "      <td>Less than 25</td>\n",
       "      <td>288</td>\n",
       "      <td>1241</td>\n",
       "    </tr>\n",
       "  </tbody>\n",
       "</table>\n",
       "</div>"
      ],
      "text/plain": [
       "sex              Female  Male\n",
       "age_cat                      \n",
       "25 - 45             807  3302\n",
       "Greater than 45     300  1276\n",
       "Less than 25        288  1241"
      ]
     },
     "execution_count": 28,
     "metadata": {},
     "output_type": "execute_result"
    }
   ],
   "source": [
    "crosstab(cp, 'age_cat', 'sex')"
   ]
  },
  {
   "cell_type": "markdown",
   "metadata": {},
   "source": [
    "Distribution of decile scores for black defendants."
   ]
  },
  {
   "cell_type": "code",
   "execution_count": 29,
   "metadata": {},
   "outputs": [],
   "source": [
    "black = (cp.race=='African-American')"
   ]
  },
  {
   "cell_type": "code",
   "execution_count": 30,
   "metadata": {},
   "outputs": [
    {
     "data": {
      "image/png": "[encoded data removed]",
      "text/plain": [
       "<Figure size 432x288 with 1 Axes>"
      ]
     },
     "metadata": {
      "needs_background": "light"
     },
     "output_type": "display_data"
    }
   ],
   "source": [
    "cp.loc[black, 'decile_score'].hist()\n",
    "decorate(xlabel='Decile Score',\n",
    "         ylabel='Count',\n",
    "         title='Black defendant decile scores',\n",
    "         ylim=[0, 700])"
   ]
  },
  {
   "cell_type": "markdown",
   "metadata": {},
   "source": [
    "Distribution of decile scores for white defendants."
   ]
  },
  {
   "cell_type": "code",
   "execution_count": 31,
   "metadata": {},
   "outputs": [],
   "source": [
    "white = (cp.race=='Caucasian')"
   ]
  },
  {
   "cell_type": "code",
   "execution_count": 32,
   "metadata": {},
   "outputs": [
    {
     "data": {
      "image/png": "[encoded data removed]",
      "text/plain": [
       "<Figure size 432x288 with 1 Axes>"
      ]
     },
     "metadata": {
      "needs_background": "light"
     },
     "output_type": "display_data"
    }
   ],
   "source": [
    "cp.loc[white, 'decile_score'].hist()\n",
    "decorate(xlabel='Decile Score',\n",
    "         ylabel='Count',\n",
    "         title='White defendant decile scores',\n",
    "         ylim=[0, 700])"
   ]
  },
  {
   "cell_type": "markdown",
   "metadata": {},
   "source": [
    "Cross tabulation of decile score and race."
   ]
  },
  {
   "cell_type": "code",
   "execution_count": 33,
   "metadata": {
    "scrolled": true
   },
   "outputs": [
    {
     "data": {
      "text/html": [
       "<div>\n",
       "<style scoped>\n",
       "    .dataframe tbody tr th:only-of-type {\n",
       "        vertical-align: middle;\n",
       "    }\n",
       "\n",
       "    .dataframe tbody tr th {\n",
       "        vertical-align: top;\n",
       "    }\n",
       "\n",
       "    .dataframe thead th {\n",
       "        text-align: right;\n",
       "    }\n",
       "</style>\n",
       "<table border=\"1\" class=\"dataframe\">\n",
       "  <thead>\n",
       "    <tr style=\"text-align: right;\">\n",
       "      <th>race</th>\n",
       "      <th>African-American</th>\n",
       "      <th>Asian</th>\n",
       "      <th>Caucasian</th>\n",
       "      <th>Hispanic</th>\n",
       "      <th>Native American</th>\n",
       "      <th>Other</th>\n",
       "    </tr>\n",
       "    <tr>\n",
       "      <th>decile_score</th>\n",
       "      <th></th>\n",
       "      <th></th>\n",
       "      <th></th>\n",
       "      <th></th>\n",
       "      <th></th>\n",
       "      <th></th>\n",
       "    </tr>\n",
       "  </thead>\n",
       "  <tbody>\n",
       "    <tr>\n",
       "      <td>1</td>\n",
       "      <td>398</td>\n",
       "      <td>15</td>\n",
       "      <td>681</td>\n",
       "      <td>196</td>\n",
       "      <td>0</td>\n",
       "      <td>150</td>\n",
       "    </tr>\n",
       "    <tr>\n",
       "      <td>2</td>\n",
       "      <td>393</td>\n",
       "      <td>4</td>\n",
       "      <td>361</td>\n",
       "      <td>113</td>\n",
       "      <td>4</td>\n",
       "      <td>66</td>\n",
       "    </tr>\n",
       "    <tr>\n",
       "      <td>3</td>\n",
       "      <td>346</td>\n",
       "      <td>5</td>\n",
       "      <td>273</td>\n",
       "      <td>86</td>\n",
       "      <td>1</td>\n",
       "      <td>36</td>\n",
       "    </tr>\n",
       "    <tr>\n",
       "      <td>4</td>\n",
       "      <td>385</td>\n",
       "      <td>0</td>\n",
       "      <td>285</td>\n",
       "      <td>52</td>\n",
       "      <td>1</td>\n",
       "      <td>46</td>\n",
       "    </tr>\n",
       "    <tr>\n",
       "      <td>5</td>\n",
       "      <td>365</td>\n",
       "      <td>1</td>\n",
       "      <td>241</td>\n",
       "      <td>52</td>\n",
       "      <td>0</td>\n",
       "      <td>22</td>\n",
       "    </tr>\n",
       "    <tr>\n",
       "      <td>6</td>\n",
       "      <td>384</td>\n",
       "      <td>3</td>\n",
       "      <td>194</td>\n",
       "      <td>37</td>\n",
       "      <td>2</td>\n",
       "      <td>21</td>\n",
       "    </tr>\n",
       "    <tr>\n",
       "      <td>7</td>\n",
       "      <td>400</td>\n",
       "      <td>1</td>\n",
       "      <td>143</td>\n",
       "      <td>34</td>\n",
       "      <td>4</td>\n",
       "      <td>10</td>\n",
       "    </tr>\n",
       "    <tr>\n",
       "      <td>8</td>\n",
       "      <td>359</td>\n",
       "      <td>2</td>\n",
       "      <td>114</td>\n",
       "      <td>26</td>\n",
       "      <td>1</td>\n",
       "      <td>10</td>\n",
       "    </tr>\n",
       "    <tr>\n",
       "      <td>9</td>\n",
       "      <td>380</td>\n",
       "      <td>0</td>\n",
       "      <td>98</td>\n",
       "      <td>20</td>\n",
       "      <td>2</td>\n",
       "      <td>8</td>\n",
       "    </tr>\n",
       "    <tr>\n",
       "      <td>10</td>\n",
       "      <td>286</td>\n",
       "      <td>1</td>\n",
       "      <td>64</td>\n",
       "      <td>21</td>\n",
       "      <td>3</td>\n",
       "      <td>8</td>\n",
       "    </tr>\n",
       "  </tbody>\n",
       "</table>\n",
       "</div>"
      ],
      "text/plain": [
       "race          African-American  Asian  Caucasian  Hispanic  Native American  \\\n",
       "decile_score                                                                  \n",
       "1                          398     15        681       196                0   \n",
       "2                          393      4        361       113                4   \n",
       "3                          346      5        273        86                1   \n",
       "4                          385      0        285        52                1   \n",
       "5                          365      1        241        52                0   \n",
       "6                          384      3        194        37                2   \n",
       "7                          400      1        143        34                4   \n",
       "8                          359      2        114        26                1   \n",
       "9                          380      0         98        20                2   \n",
       "10                         286      1         64        21                3   \n",
       "\n",
       "race          Other  \n",
       "decile_score         \n",
       "1               150  \n",
       "2                66  \n",
       "3                36  \n",
       "4                46  \n",
       "5                22  \n",
       "6                21  \n",
       "7                10  \n",
       "8                10  \n",
       "9                 8  \n",
       "10                8  "
      ]
     },
     "execution_count": 33,
     "metadata": {},
     "output_type": "execute_result"
    }
   ],
   "source": [
    "crosstab(cp, 'decile_score', 'race')"
   ]
  },
  {
   "cell_type": "markdown",
   "metadata": {},
   "source": [
    "Cross tabulation of decile score and age group."
   ]
  },
  {
   "cell_type": "code",
   "execution_count": 34,
   "metadata": {
    "scrolled": true
   },
   "outputs": [
    {
     "data": {
      "text/html": [
       "<div>\n",
       "<style scoped>\n",
       "    .dataframe tbody tr th:only-of-type {\n",
       "        vertical-align: middle;\n",
       "    }\n",
       "\n",
       "    .dataframe tbody tr th {\n",
       "        vertical-align: top;\n",
       "    }\n",
       "\n",
       "    .dataframe thead th {\n",
       "        text-align: right;\n",
       "    }\n",
       "</style>\n",
       "<table border=\"1\" class=\"dataframe\">\n",
       "  <thead>\n",
       "    <tr style=\"text-align: right;\">\n",
       "      <th>age_cat</th>\n",
       "      <th>25 - 45</th>\n",
       "      <th>Greater than 45</th>\n",
       "      <th>Less than 25</th>\n",
       "    </tr>\n",
       "    <tr>\n",
       "      <th>decile_score</th>\n",
       "      <th></th>\n",
       "      <th></th>\n",
       "      <th></th>\n",
       "    </tr>\n",
       "  </thead>\n",
       "  <tbody>\n",
       "    <tr>\n",
       "      <td>1</td>\n",
       "      <td>654</td>\n",
       "      <td>782</td>\n",
       "      <td>4</td>\n",
       "    </tr>\n",
       "    <tr>\n",
       "      <td>2</td>\n",
       "      <td>660</td>\n",
       "      <td>182</td>\n",
       "      <td>99</td>\n",
       "    </tr>\n",
       "    <tr>\n",
       "      <td>3</td>\n",
       "      <td>437</td>\n",
       "      <td>120</td>\n",
       "      <td>190</td>\n",
       "    </tr>\n",
       "    <tr>\n",
       "      <td>4</td>\n",
       "      <td>434</td>\n",
       "      <td>98</td>\n",
       "      <td>237</td>\n",
       "    </tr>\n",
       "    <tr>\n",
       "      <td>5</td>\n",
       "      <td>405</td>\n",
       "      <td>85</td>\n",
       "      <td>191</td>\n",
       "    </tr>\n",
       "    <tr>\n",
       "      <td>6</td>\n",
       "      <td>357</td>\n",
       "      <td>104</td>\n",
       "      <td>180</td>\n",
       "    </tr>\n",
       "    <tr>\n",
       "      <td>7</td>\n",
       "      <td>340</td>\n",
       "      <td>77</td>\n",
       "      <td>175</td>\n",
       "    </tr>\n",
       "    <tr>\n",
       "      <td>8</td>\n",
       "      <td>298</td>\n",
       "      <td>57</td>\n",
       "      <td>157</td>\n",
       "    </tr>\n",
       "    <tr>\n",
       "      <td>9</td>\n",
       "      <td>292</td>\n",
       "      <td>54</td>\n",
       "      <td>162</td>\n",
       "    </tr>\n",
       "    <tr>\n",
       "      <td>10</td>\n",
       "      <td>232</td>\n",
       "      <td>17</td>\n",
       "      <td>134</td>\n",
       "    </tr>\n",
       "  </tbody>\n",
       "</table>\n",
       "</div>"
      ],
      "text/plain": [
       "age_cat       25 - 45  Greater than 45  Less than 25\n",
       "decile_score                                        \n",
       "1                 654              782             4\n",
       "2                 660              182            99\n",
       "3                 437              120           190\n",
       "4                 434               98           237\n",
       "5                 405               85           191\n",
       "6                 357              104           180\n",
       "7                 340               77           175\n",
       "8                 298               57           157\n",
       "9                 292               54           162\n",
       "10                232               17           134"
      ]
     },
     "execution_count": 34,
     "metadata": {},
     "output_type": "execute_result"
    }
   ],
   "source": [
    "crosstab(cp, 'decile_score', 'age_cat')"
   ]
  },
  {
   "cell_type": "markdown",
   "metadata": {},
   "source": [
    "Here's the confusion matrix with all three score categories."
   ]
  },
  {
   "cell_type": "code",
   "execution_count": 35,
   "metadata": {},
   "outputs": [
    {
     "data": {
      "text/html": [
       "<div>\n",
       "<style scoped>\n",
       "    .dataframe tbody tr th:only-of-type {\n",
       "        vertical-align: middle;\n",
       "    }\n",
       "\n",
       "    .dataframe tbody tr th {\n",
       "        vertical-align: top;\n",
       "    }\n",
       "\n",
       "    .dataframe thead th {\n",
       "        text-align: right;\n",
       "    }\n",
       "</style>\n",
       "<table border=\"1\" class=\"dataframe\">\n",
       "  <thead>\n",
       "    <tr style=\"text-align: right;\">\n",
       "      <th>score_text</th>\n",
       "      <th>High</th>\n",
       "      <th>Low</th>\n",
       "      <th>Medium</th>\n",
       "    </tr>\n",
       "    <tr>\n",
       "      <th>two_year_recid</th>\n",
       "      <th></th>\n",
       "      <th></th>\n",
       "      <th></th>\n",
       "    </tr>\n",
       "  </thead>\n",
       "  <tbody>\n",
       "    <tr>\n",
       "      <td>0</td>\n",
       "      <td>402</td>\n",
       "      <td>2681</td>\n",
       "      <td>880</td>\n",
       "    </tr>\n",
       "    <tr>\n",
       "      <td>1</td>\n",
       "      <td>1001</td>\n",
       "      <td>1216</td>\n",
       "      <td>1034</td>\n",
       "    </tr>\n",
       "  </tbody>\n",
       "</table>\n",
       "</div>"
      ],
      "text/plain": [
       "score_text      High   Low  Medium\n",
       "two_year_recid                    \n",
       "0                402  2681     880\n",
       "1               1001  1216    1034"
      ]
     },
     "execution_count": 35,
     "metadata": {},
     "output_type": "execute_result"
    }
   ],
   "source": [
    "crosstab(cp, 'two_year_recid', 'score_text')"
   ]
  },
  {
   "cell_type": "code",
   "execution_count": 41,
   "metadata": {},
   "outputs": [],
   "source": [
    "def constant_predictive_value(ppv, npv, prev):\n",
    "    \"\"\"Make a confusion matrix with given metrics.\n",
    "    \n",
    "    ppv: positive predictive value\n",
    "    npv: negative predictive value\n",
    "    prev: prevalence\n",
    "    \n",
    "    returns: confusion matrix\n",
    "    \"\"\"\n",
    "    ppv /= 100\n",
    "    npv /= 100\n",
    "    prev /= 100\n",
    "    a = np.array((ppv*(npv + prev - 1)/(npv + ppv - 1),\n",
    "                -(ppv - 1)*(npv + prev - 1)/(npv + ppv - 1),\n",
    "                -(npv - 1)*(ppv - prev)/(npv + ppv - 1),\n",
    "                npv*(ppv - prev)/(npv + ppv - 1)))\n",
    "    \n",
    "    return pd.DataFrame(a.reshape((2, 2)))"
   ]
  },
  {
   "cell_type": "code",
   "execution_count": 58,
   "metadata": {},
   "outputs": [],
   "source": [
    "def make_table(df, group_vars, expected_ppv, expected_npv):\n",
    "    \"\"\"Make a table with one line per group.\n",
    "    \n",
    "    df: DataFrame\n",
    "    group_vars: string or list of string variable names\n",
    "    expected_ppv: \n",
    "    expected_npv:\n",
    "    \n",
    "    returns: table\n",
    "    \"\"\"\n",
    "    # make the DataFrame\n",
    "    columns = ['count', 'prevalence',\n",
    "               'actual PPV', 'actual NPV', 'actual FNR',\n",
    "               'actual FPR', 'expected FPR', 'difference']\n",
    "    columns = group_vars + columns \n",
    "\n",
    "    table = pd.DataFrame(columns=columns)\n",
    "\n",
    "    # loop through the groups\n",
    "    grouped = df.groupby(group_vars)\n",
    "    for i, (name, group) in enumerate(grouped):\n",
    "        if not isinstance(name, tuple):\n",
    "            name = name,\n",
    "        \n",
    "        # size of group\n",
    "        count = len(group)\n",
    "        \n",
    "        # compute metrics\n",
    "        m = make_matrix(group)\n",
    "        prev = prevalence(m)\n",
    "        actual_ppv, actual_npv = predictive_value(m)\n",
    "        actual_fpr, actual_fnr = error_rates(m)\n",
    "\n",
    "        # generate the CPV matrix\n",
    "        cpv = constant_predictive_value(expected_ppv, expected_npv, prev)\n",
    "\n",
    "        # get the expected error rates\n",
    "        expected_fpr, _ = error_rates(cpv)\n",
    "        \n",
    "        # for very low and high prevalences, it might\n",
    "        # not be possible to achieve given predictive values\n",
    "        if expected_fpr < 0:\n",
    "            expected_fpr = 0\n",
    "\n",
    "        if expected_fpr > 100:\n",
    "            expected_fpr = 100\n",
    "\n",
    "        # difference between actual and expected\n",
    "        diff = actual_fpr - expected_fpr\n",
    "\n",
    "        # add a row to the table\n",
    "        row = name + (count, prev,\n",
    "                      actual_ppv, actual_npv, \n",
    "                      actual_fnr, actual_fpr, \n",
    "                      expected_fpr, diff)\n",
    "        \n",
    "        table.loc[i] = row\n",
    "        \n",
    "    # sort the table by prevalence\n",
    "    table.sort_values(by='prevalence', inplace=True)\n",
    "    return table"
   ]
  },
  {
   "cell_type": "code",
   "execution_count": 55,
   "metadata": {},
   "outputs": [
    {
     "data": {
      "text/plain": [
       "(6150, 53)"
      ]
     },
     "execution_count": 55,
     "metadata": {},
     "output_type": "execute_result"
    }
   ],
   "source": [
    "subset = cp[cp.race.isin(['African-American', 'Caucasian'])]\n",
    "subset.shape"
   ]
  },
  {
   "cell_type": "markdown",
   "metadata": {},
   "source": [
    "Here's the breakdown by age category."
   ]
  },
  {
   "cell_type": "code",
   "execution_count": 56,
   "metadata": {},
   "outputs": [],
   "source": [
    "matrix_all = make_matrix(subset)"
   ]
  },
  {
   "cell_type": "code",
   "execution_count": 57,
   "metadata": {},
   "outputs": [
    {
     "name": "stdout",
     "output_type": "stream",
     "text": [
      "('25 - 45',) 47.803764974329724 61.88903566710701 68.19346572709802\n",
      "          0         1\n",
      "0  0.329113  0.202666\n",
      "1  0.148925  0.319296\n",
      "('Greater than 45',) 32.908545727136435 61.88903566710701 68.19346572709802\n",
      "          0         1\n",
      "0  0.022672  0.013961\n",
      "1  0.306414  0.656953\n",
      "('Less than 25',) 57.404580152671755 61.88903566710701 68.19346572709802\n",
      "          0         1\n",
      "0  0.526631  0.324297\n",
      "1  0.047415  0.101657\n"
     ]
    },
    {
     "data": {
      "text/html": [
       "<div>\n",
       "<style scoped>\n",
       "    .dataframe tbody tr th:only-of-type {\n",
       "        vertical-align: middle;\n",
       "    }\n",
       "\n",
       "    .dataframe tbody tr th {\n",
       "        vertical-align: top;\n",
       "    }\n",
       "\n",
       "    .dataframe thead th {\n",
       "        text-align: right;\n",
       "    }\n",
       "</style>\n",
       "<table border=\"1\" class=\"dataframe\">\n",
       "  <thead>\n",
       "    <tr style=\"text-align: right;\">\n",
       "      <th></th>\n",
       "      <th>age_cat</th>\n",
       "      <th>count</th>\n",
       "      <th>prevalence</th>\n",
       "      <th>actual PPV</th>\n",
       "      <th>actual NPV</th>\n",
       "      <th>actual FNR</th>\n",
       "      <th>actual FPR</th>\n",
       "      <th>expected FPR</th>\n",
       "      <th>difference</th>\n",
       "    </tr>\n",
       "  </thead>\n",
       "  <tbody>\n",
       "    <tr>\n",
       "      <td>1</td>\n",
       "      <td>Greater than 45</td>\n",
       "      <td>1334</td>\n",
       "      <td>32.908546</td>\n",
       "      <td>54.945055</td>\n",
       "      <td>75.360825</td>\n",
       "      <td>54.441913</td>\n",
       "      <td>18.324022</td>\n",
       "      <td>2.080918</td>\n",
       "      <td>16.243105</td>\n",
       "    </tr>\n",
       "    <tr>\n",
       "      <td>0</td>\n",
       "      <td>25 - 45</td>\n",
       "      <td>3506</td>\n",
       "      <td>47.803765</td>\n",
       "      <td>61.931499</td>\n",
       "      <td>66.782609</td>\n",
       "      <td>34.188544</td>\n",
       "      <td>37.049180</td>\n",
       "      <td>38.827696</td>\n",
       "      <td>-1.778516</td>\n",
       "    </tr>\n",
       "    <tr>\n",
       "      <td>2</td>\n",
       "      <td>Less than 25</td>\n",
       "      <td>1310</td>\n",
       "      <td>57.404580</td>\n",
       "      <td>64.665912</td>\n",
       "      <td>57.611241</td>\n",
       "      <td>24.069149</td>\n",
       "      <td>55.913978</td>\n",
       "      <td>76.134220</td>\n",
       "      <td>-20.220241</td>\n",
       "    </tr>\n",
       "  </tbody>\n",
       "</table>\n",
       "</div>"
      ],
      "text/plain": [
       "           age_cat count  prevalence  actual PPV  actual NPV  actual FNR  \\\n",
       "1  Greater than 45  1334   32.908546   54.945055   75.360825   54.441913   \n",
       "0          25 - 45  3506   47.803765   61.931499   66.782609   34.188544   \n",
       "2     Less than 25  1310   57.404580   64.665912   57.611241   24.069149   \n",
       "\n",
       "   actual FPR  expected FPR  difference  \n",
       "1   18.324022      2.080918   16.243105  \n",
       "0   37.049180     38.827696   -1.778516  \n",
       "2   55.913978     76.134220  -20.220241  "
      ]
     },
     "execution_count": 57,
     "metadata": {},
     "output_type": "execute_result"
    }
   ],
   "source": [
    "ppv, npv = predictive_value(matrix_all)\n",
    "group_vars = ['age_cat']\n",
    "table1 = make_table(subset, group_vars, ppv, npv)\n",
    "table1"
   ]
  },
  {
   "cell_type": "markdown",
   "metadata": {},
   "source": [
    "Again, the actual behavior of the test is tempered, compare to the CPV model; that is, the results are less extreme than the model expects.\n",
    "\n",
    "Here's the breakdown by race."
   ]
  },
  {
   "cell_type": "code",
   "execution_count": null,
   "metadata": {},
   "outputs": [],
   "source": [
    "ppv, npv = predictive_value(matrix_all)\n",
    "group_vars = ['race']\n",
    "table2 = make_table(subset, group_vars, ppv, npv)"
   ]
  },
  {
   "cell_type": "markdown",
   "metadata": {},
   "source": [
    "The false positive rate for whites is higher than we would expect if predictive value were the same for all groups.\n",
    "\n",
    "The false positive rate for blacks is lower than we would expect.\n",
    "\n",
    "Here's the breakdown by sex."
   ]
  },
  {
   "cell_type": "code",
   "execution_count": null,
   "metadata": {},
   "outputs": [],
   "source": [
    "ppv, npv = predictive_value(matrix_all)\n",
    "group_vars = ['sex']\n",
    "table3 = make_table(subset, group_vars, ppv, npv)"
   ]
  },
  {
   "cell_type": "markdown",
   "metadata": {},
   "source": [
    "The false positive rate for women is substantially higher than what we would expect in the CPV model, which is consistent with the calibration results in the previous section.\n",
    "\n",
    "Here's the breakdown by age and race."
   ]
  },
  {
   "cell_type": "code",
   "execution_count": null,
   "metadata": {},
   "outputs": [],
   "source": [
    "ppv, npv = predictive_value(matrix_all)\n",
    "group_vars = ['age_cat', 'race']\n",
    "table4 = make_table(subset, group_vars, ppv, npv)"
   ]
  },
  {
   "cell_type": "markdown",
   "metadata": {},
   "source": [
    "Breakdown by age and sex."
   ]
  },
  {
   "cell_type": "code",
   "execution_count": null,
   "metadata": {},
   "outputs": [],
   "source": [
    "ppv, npv = predictive_value(matrix_all)\n",
    "group_vars = ['age_cat', 'sex']\n",
    "table5 = make_table(subset, group_vars, ppv, npv)"
   ]
  },
  {
   "cell_type": "markdown",
   "metadata": {},
   "source": [
    "Breakdown by race and sex."
   ]
  },
  {
   "cell_type": "code",
   "execution_count": null,
   "metadata": {},
   "outputs": [],
   "source": [
    "ppv, npv = predictive_value(matrix_all)\n",
    "group_vars = ['race', 'sex']\n",
    "table6 = make_table(subset, group_vars, ppv, npv)"
   ]
  },
  {
   "cell_type": "markdown",
   "metadata": {},
   "source": [
    "Breakdown by age, race, and sex."
   ]
  },
  {
   "cell_type": "code",
   "execution_count": null,
   "metadata": {},
   "outputs": [],
   "source": [
    "ppv, npv = predictive_value(matrix_all)\n",
    "group_vars = ['age_cat', 'race', 'sex']\n",
    "table7 = make_table(subset, group_vars, ppv, npv)"
   ]
  },
  {
   "cell_type": "markdown",
   "metadata": {},
   "source": [
    "Those are all the possible subgroups for these three variables.\n",
    "\n",
    "Now we can see what the results look like."
   ]
  },
  {
   "cell_type": "code",
   "execution_count": null,
   "metadata": {},
   "outputs": [],
   "source": [
    "tables = [table1, table2, table3, table4, table5, table6, table7];"
   ]
  },
  {
   "cell_type": "markdown",
   "metadata": {},
   "source": [
    "The following function plots one data point per subgroup showing the given metric versus prevalence.\n",
    "\n",
    "Groups with a small number of people are shown with lighter colors.\n"
   ]
  },
  {
   "cell_type": "code",
   "execution_count": null,
   "metadata": {},
   "outputs": [],
   "source": [
    "def plot_table_var(table, var, color):\n",
    "    \"\"\"Plot one data point per row.\n",
    "    \n",
    "    table: DataFrame\n",
    "    var: which metric to plot\n",
    "    color: string\n",
    "    \"\"\"\n",
    "    for _, row in table.iterrows():\n",
    "        alpha = 0.8 if row['count'] > 200 else 0.3\n",
    "\n",
    "        plt.plot(row['prevalence'], row[var],\n",
    "                 'o', color=color, alpha=alpha)"
   ]
  },
  {
   "cell_type": "markdown",
   "metadata": {},
   "source": [
    "Here's what the results look like for FPR."
   ]
  },
  {
   "cell_type": "code",
   "execution_count": null,
   "metadata": {},
   "outputs": [],
   "source": [
    "fp_rates.plot(label='Expected FPR, constant CPV',\n",
    "              color='C1')\n",
    "plt.axhline(fpr, linestyle='dotted', \n",
    "            label='Expected FPR, constant FPR', color='gray')\n",
    "\n",
    "for table in tables:\n",
    "    plot_table_var(table, 'actual FPR', 'C1')\n",
    "    \n",
    "decorate(xlabel='Prevalence',\n",
    "         ylabel='Percent',\n",
    "         title='False positive rates by subgroup')"
   ]
  },
  {
   "cell_type": "markdown",
   "metadata": {},
   "source": [
    "In general, groups with higher prevalence have higher false positive rates, but the effect is less extreme than what we would expect from the CPV model.\n",
    "\n",
    "Here are the results for positive predictive value."
   ]
  },
  {
   "cell_type": "code",
   "execution_count": null,
   "metadata": {},
   "outputs": [],
   "source": [
    "ppv_rates.plot(label='Expected PPV, constant FPR', color='C0')\n",
    "plt.axhline(ppv, linestyle='dotted', \n",
    "            label='Expected PPV, constant PPV', color='gray')\n",
    "\n",
    "for table in tables:\n",
    "    plot_table_var(table, 'actual PPV', 'C0')\n",
    "    \n",
    "decorate(xlabel='Prevalence',\n",
    "         ylabel='Rate',\n",
    "         title='Positive predictive value by subgroup')"
   ]
  },
  {
   "cell_type": "markdown",
   "metadata": {},
   "source": [
    "Groups with higher prevalence have higher PPV, but the effect is less extreme than we would expect from the CPV model.\n",
    "\n",
    "Here are the results for false negative rate."
   ]
  },
  {
   "cell_type": "code",
   "execution_count": null,
   "metadata": {},
   "outputs": [],
   "source": [
    "fn_rates.plot(label='Expected FNR, constant CPV',\n",
    "              color='C4')\n",
    "plt.axhline(fnr, linestyle='dotted', \n",
    "            label='Expected FNR, constant FNR', color='gray')\n",
    "\n",
    "for table in tables:\n",
    "    plot_table_var(table, 'actual FNR', 'C4')\n",
    "    \n",
    "decorate(xlabel='Prevalence',\n",
    "         ylabel='Percent',\n",
    "         title='False negative rates by subgroup')"
   ]
  },
  {
   "cell_type": "markdown",
   "metadata": {},
   "source": [
    "Groups with higher prevalence have lower FNR, but the effect is less extreme than we would expect from the CPV model.\n",
    "\n",
    "Here are the results for negative predictive value."
   ]
  },
  {
   "cell_type": "code",
   "execution_count": null,
   "metadata": {},
   "outputs": [],
   "source": [
    "npv_rates.plot(label='Expected NPV, constant FPR', color='C2')\n",
    "plt.axhline(npv, linestyle='dotted', \n",
    "            label='Expected NPV, constant NPV', color='gray')\n",
    "\n",
    "for table in tables:\n",
    "    plot_table_var(table, 'actual NPV', 'C2')\n",
    "    \n",
    "decorate(xlabel='Prevalence',\n",
    "         ylabel='Percent',\n",
    "         title='Negative predictive value by subgroup')"
   ]
  },
  {
   "cell_type": "markdown",
   "metadata": {},
   "source": [
    "Groups with higher prevalence have lower NPV.  In this case, the effect is almost exactly what we would expect from the CPV model."
   ]
  },
  {
   "cell_type": "markdown",
   "metadata": {},
   "source": [
    "### Individual FPR"
   ]
  },
  {
   "cell_type": "code",
   "execution_count": null,
   "metadata": {},
   "outputs": [],
   "source": [
    "from scipy.interpolate import interp1d\n",
    "\n",
    "def crossing(series, value, **options):\n",
    "    \"\"\"Find where a function crosses a value.\n",
    "    \n",
    "    series: Series\n",
    "    value: number\n",
    "    options: passed to interp1d (default is linear interp)\n",
    "    \n",
    "    returns: number\n",
    "    \"\"\"\n",
    "    interp = interp1d(series.values, series.index, **options)\n",
    "    return interp(value)\n",
    "\n",
    "def interpolate(series, value, **options):\n",
    "    \"\"\"Evaluate a function at a value.\n",
    "    \n",
    "    series: Series\n",
    "    value: number\n",
    "    options: passed to interp1d (default is linear interp)\n",
    "    \n",
    "    returns: number\n",
    "    \"\"\"\n",
    "    interp = interp1d(series.index, series.values, **options)\n",
    "    return interp(value)"
   ]
  },
  {
   "cell_type": "code",
   "execution_count": null,
   "metadata": {},
   "outputs": [],
   "source": [
    "cal_all = calibration_curve(cp)\n",
    "cal_all.plot()\n",
    "decorate(ylabel='Probability of recidivism')"
   ]
  },
  {
   "cell_type": "code",
   "execution_count": null,
   "metadata": {},
   "outputs": [],
   "source": [
    "crossing(cal_all, 0.4)"
   ]
  },
  {
   "cell_type": "code",
   "execution_count": null,
   "metadata": {},
   "outputs": [],
   "source": [
    "crossing(cal_all, 0.7)"
   ]
  },
  {
   "cell_type": "code",
   "execution_count": null,
   "metadata": {},
   "outputs": [],
   "source": [
    "interpolate(cal_all, 3.4)"
   ]
  },
  {
   "cell_type": "code",
   "execution_count": null,
   "metadata": {},
   "outputs": [],
   "source": [
    "interpolate(cal_all, 9)"
   ]
  },
  {
   "cell_type": "code",
   "execution_count": null,
   "metadata": {},
   "outputs": [],
   "source": [
    "def make_error_dist(std_dev):\n",
    "    \"\"\"Make a discrete Gaussian distribution.\n",
    "    \n",
    "    std_dev: standard deviation\n",
    "    \n",
    "    returns: Series that maps errors to probabilities\n",
    "    \"\"\"\n",
    "    errors = np.linspace(-3, 3, 21)\n",
    "    prob_error = np.exp(-(errors/std_dev)**2)\n",
    "    prob_error /= np.sum(prob_error)\n",
    "    error_dist = pd.Series(prob_error, index=errors)\n",
    "    return error_dist"
   ]
  },
  {
   "cell_type": "code",
   "execution_count": null,
   "metadata": {},
   "outputs": [],
   "source": [
    "error_dist = make_error_dist(std_dev=2)\n",
    "error_dist.plot(label='')\n",
    "decorate(xlabel='Error (score)',\n",
    "         ylabel='Probability')"
   ]
  },
  {
   "cell_type": "code",
   "execution_count": null,
   "metadata": {},
   "outputs": [],
   "source": [
    "def individual_fpr(actual_prob_recid, cal, thresh, std_dev):\n",
    "    \"\"\"Compute an individual FPR.\n",
    "    \n",
    "    actual_prob_recid: actual probability of recidivism\n",
    "    cal: calibration curve, map from score to prob_recid\n",
    "    thresh: threshold between low and not low risk\n",
    "    std_dev: standard deviation of the error function\n",
    "    \n",
    "    returns: individual FPR\n",
    "    \"\"\"\n",
    "    # look up actual_prob_recid to get correct score\n",
    "    correct_score = crossing(cal, actual_prob_recid)\n",
    "\n",
    "    # make the error distribution\n",
    "    error_dist = make_error_dist(std_dev)\n",
    "\n",
    "    # loop through possible errors\n",
    "    total_prob = 0\n",
    "    for error, prob_error in error_dist.iteritems():\n",
    "        # hypothetical score\n",
    "        score = correct_score+error\n",
    "        score = max(score, 1)\n",
    "        score = min(score, 10)\n",
    "        \n",
    "        # probability of being classified 'not low' | error\n",
    "        prob_positive = 0 if score < thresh else 1\n",
    "\n",
    "        # probability of being a false positive | error\n",
    "        prob_fp = prob_positive * (1-actual_prob_recid)\n",
    "        \n",
    "        total_prob += prob_error * prob_fp\n",
    "    return total_prob"
   ]
  },
  {
   "cell_type": "code",
   "execution_count": null,
   "metadata": {},
   "outputs": [],
   "source": [
    "individual_fpr(0.3, cal_all, 4.5, 2)"
   ]
  },
  {
   "cell_type": "code",
   "execution_count": null,
   "metadata": {},
   "outputs": [],
   "source": [
    "individual_fpr(0.5, cal_all, 4.5, 2)"
   ]
  },
  {
   "cell_type": "code",
   "execution_count": null,
   "metadata": {},
   "outputs": [],
   "source": [
    "individual_fpr(0.7, cal_all, 4.5, 2)"
   ]
  },
  {
   "cell_type": "code",
   "execution_count": null,
   "metadata": {},
   "outputs": [],
   "source": [
    "def compute_fpr_vs_prob_recid(cal, thresh, std_dev):\n",
    "    \"\"\"Computes FPR as a function of probability of recidivism.\n",
    "    \n",
    "    cal: calibration curve, map from score to prob_recid\n",
    "    thresh: threshold between low and not low risk\n",
    "    std_dev: standard deviation of the error function\n",
    "    \n",
    "    returns: Series\n",
    "    \"\"\"\n",
    "    prob_recid_array = np.linspace(min(cal), max(cal), 21)\n",
    "    prob_fpr_series = pd.Series(index=prob_recid_array)\n",
    "    for prob_recid in prob_recid_array:\n",
    "        fpr = individual_fpr(prob_recid, cal, thresh, std_dev)\n",
    "        prob_fpr_series[prob_recid] = fpr\n",
    "    return prob_fpr_series"
   ]
  },
  {
   "cell_type": "code",
   "execution_count": null,
   "metadata": {
    "scrolled": true
   },
   "outputs": [],
   "source": [
    "s = compute_fpr_vs_prob_recid(cal_all, thresh=4.5, std_dev=2)\n",
    "s.plot(label='FPR, std_dev=2')\n",
    "\n",
    "s = compute_fpr_vs_prob_recid(cal_all, thresh=4.5, std_dev=1)\n",
    "s.plot(label='FPR, std_dev=1')\n",
    "\n",
    "decorate(xlabel='Actual probability of recidivism',\n",
    "         ylabel='Probability of false positive')"
   ]
  },
  {
   "cell_type": "code",
   "execution_count": null,
   "metadata": {},
   "outputs": [],
   "source": [
    "def individual_fpr_given_score(actual_score, cal, thresh, std_dev):\n",
    "    \"\"\"Compute an individual FPR.\n",
    "    \n",
    "    actual_score: score assigned\n",
    "    cal: calibration curve, map from score to prob_recid\n",
    "    thresh: threshold between low and high risk\n",
    "    std_dev: standard deviation of the error function\n",
    "    \n",
    "    returns: individual FPR\n",
    "    \"\"\"\n",
    "    # make the error distribution\n",
    "    error_dist = make_error_dist(std_dev)\n",
    "\n",
    "    # loop through possible errors\n",
    "    total_prob = 0\n",
    "    for error, prob_error in error_dist.iteritems():\n",
    "        # correct score\n",
    "        correct_score = actual_score-error\n",
    "        correct_score = max(correct_score, 1)\n",
    "        correct_score = min(correct_score, 10)\n",
    "        \n",
    "        # map from correct score to probability of recidivism.\n",
    "        # if calibration curves are different for different\n",
    "        # groups, this one should be group specific.\n",
    "        correct_prob_recid = interpolate(cal, correct_score)\n",
    "        cond_ifpr = individual_fpr(correct_prob_recid,\n",
    "                                   cal, thresh, std_dev)\n",
    "        \n",
    "        total_prob += prob_error * cond_ifpr\n",
    "    return total_prob"
   ]
  },
  {
   "cell_type": "code",
   "execution_count": null,
   "metadata": {},
   "outputs": [],
   "source": [
    "individual_fpr_given_score(6, cal_all, thresh=4.5, std_dev=2)"
   ]
  },
  {
   "cell_type": "code",
   "execution_count": null,
   "metadata": {},
   "outputs": [],
   "source": [
    "def make_ifpr_series(cal, thresh, std_dev):\n",
    "\n",
    "    scores = np.arange(1, 11)\n",
    "    t = [individual_fpr_given_score(score, cal, thresh, std_dev)\n",
    "         for score in scores]\n",
    "    \n",
    "    ifpr_series = pd.Series(t, scores)\n",
    "    return ifpr_series"
   ]
  },
  {
   "cell_type": "code",
   "execution_count": null,
   "metadata": {
    "scrolled": true
   },
   "outputs": [],
   "source": [
    "thresh = 4.5\n",
    "\n",
    "s = make_ifpr_series(cal_all, thresh, std_dev=2)\n",
    "s.plot(label='FPR, std_dev=2')\n",
    "\n",
    "s = make_ifpr_series(cal_all, thresh, std_dev=1)\n",
    "s.plot(label='FPR, std_dev=1')\n",
    "\n",
    "decorate(xlabel='Score',\n",
    "         ylabel='Probability of false positive')"
   ]
  },
  {
   "cell_type": "code",
   "execution_count": null,
   "metadata": {},
   "outputs": [],
   "source": [
    "def assign_individual_fpr(df, cal, thresh, std_dev):\n",
    "    \"\"\"Assign individual FPRs to defendants.\n",
    "    \n",
    "    df: DataFrame\n",
    "    cal: calibration curve, map from score to prob_recid\n",
    "    thresh: threshold between low and high risk\n",
    "    std_dev: standard deviation of the error function\n",
    "    \"\"\"\n",
    "    # compute the map from score to FPR\n",
    "    ifpr_series = make_ifpr_series(cal, thresh, std_dev)\n",
    "    \n",
    "    # assign FPR to each defendant\n",
    "    df['ifpr'] = [ifpr_series[score] for score in df.decile_score]"
   ]
  },
  {
   "cell_type": "code",
   "execution_count": null,
   "metadata": {},
   "outputs": [],
   "source": [
    "assign_individual_fpr(cp, cal_all, thresh=4.5, std_dev=2)"
   ]
  },
  {
   "cell_type": "code",
   "execution_count": null,
   "metadata": {},
   "outputs": [],
   "source": [
    "def make_cdf(series):\n",
    "    \"\"\"Make a CDF.\"\"\"\n",
    "    counts = series.value_counts().sort_index()\n",
    "    counts /= counts.sum()\n",
    "    return counts.cumsum()\n",
    "\n",
    "def plot_cdf(cdf, **options):\n",
    "    \"\"\"Plot a CDF as a step function.\"\"\"\n",
    "    plt.step(cdf.index, cdf.values, where='post', **options)"
   ]
  },
  {
   "cell_type": "code",
   "execution_count": null,
   "metadata": {},
   "outputs": [],
   "source": [
    "cdf_ifpr = make_cdf(cp.ifpr)"
   ]
  },
  {
   "cell_type": "code",
   "execution_count": null,
   "metadata": {},
   "outputs": [],
   "source": [
    "plot_cdf(cdf_ifpr, label='All')\n",
    "\n",
    "decorate(xlabel='Individual probability of false positive', \n",
    "         ylabel='CDF',\n",
    "         ylim=[0,1])"
   ]
  },
  {
   "cell_type": "code",
   "execution_count": null,
   "metadata": {},
   "outputs": [],
   "source": [
    "black = cp[cp.race=='African-American']\n",
    "white = cp[cp.race=='Caucasian']\n",
    "\n",
    "thresh = 4.5\n",
    "std_dev = 2\n",
    "\n",
    "cal_black = calibration_curve(black)\n",
    "s = make_ifpr_series(cal_black, thresh, std_dev)\n",
    "s.plot(label='FPR, black')\n",
    "\n",
    "cal_white = calibration_curve(white)\n",
    "s = make_ifpr_series(cal_white, thresh, std_dev)\n",
    "s.plot(label='FPR, white')\n",
    "\n",
    "decorate(xlabel='Score',\n",
    "         ylabel='Probability of false positive')"
   ]
  },
  {
   "cell_type": "code",
   "execution_count": null,
   "metadata": {},
   "outputs": [],
   "source": [
    "male = cp[cp.sex=='Male']\n",
    "female = cp[cp.sex=='Female']\n",
    "\n",
    "thresh = 4.5\n",
    "std_dev = 2\n",
    "\n",
    "cal_male = calibration_curve(male)\n",
    "s = make_ifpr_series(cal_male, thresh, std_dev)\n",
    "s.plot(label='FPR, male')\n",
    "\n",
    "cal_female = calibration_curve(female)\n",
    "s = make_ifpr_series(cal_female, thresh, std_dev)\n",
    "s.plot(label='FPR, female')\n",
    "\n",
    "decorate(xlabel='Score',\n",
    "         ylabel='Probability of false positive')"
   ]
  },
  {
   "cell_type": "code",
   "execution_count": null,
   "metadata": {},
   "outputs": [],
   "source": [
    "assign_individual_fpr(cp, cal_all, thresh=4.5, std_dev=2)\n",
    "cp.ifpr.mean()"
   ]
  },
  {
   "cell_type": "code",
   "execution_count": null,
   "metadata": {
    "scrolled": true
   },
   "outputs": [],
   "source": [
    "cp.groupby('race').ifpr.mean()"
   ]
  },
  {
   "cell_type": "code",
   "execution_count": null,
   "metadata": {},
   "outputs": [],
   "source": [
    "assign_individual_fpr(cp, cal_all, thresh=4.5, std_dev=1)\n",
    "cp.ifpr.mean()"
   ]
  },
  {
   "cell_type": "code",
   "execution_count": null,
   "metadata": {
    "scrolled": true
   },
   "outputs": [],
   "source": [
    "cp.groupby('race').ifpr.mean()"
   ]
  },
  {
   "cell_type": "code",
   "execution_count": null,
   "metadata": {},
   "outputs": [],
   "source": [
    "assign_individual_fpr(cp, cal_all, thresh=4.5, std_dev=0.01)\n",
    "cp.ifpr.mean()"
   ]
  },
  {
   "cell_type": "code",
   "execution_count": null,
   "metadata": {},
   "outputs": [],
   "source": [
    "cp.groupby('race').ifpr.mean()"
   ]
  },
  {
   "cell_type": "markdown",
   "metadata": {},
   "source": [
    "### Individual FNR"
   ]
  },
  {
   "cell_type": "code",
   "execution_count": null,
   "metadata": {},
   "outputs": [],
   "source": [
    "cal_all = calibration_curve(cp)\n",
    "cal_all.plot()\n",
    "decorate(ylabel='Probability of recidivism')"
   ]
  },
  {
   "cell_type": "code",
   "execution_count": null,
   "metadata": {},
   "outputs": [],
   "source": [
    "def individual_fnr(actual_prob_recid, cal, thresh, std_dev):\n",
    "    \"\"\"Compute an individual FNR.\n",
    "    \n",
    "    actual_prob_recid: actual probability of recidivism\n",
    "    cal: calibration curve, map from score to prob_recid\n",
    "    thresh: threshold between low and not low risk\n",
    "    std_dev: standard deviation of the error function\n",
    "    \n",
    "    returns: individual FNR\n",
    "    \"\"\"\n",
    "    # look up actual_prob_recid to get correct score\n",
    "    correct_score = crossing(cal, actual_prob_recid)\n",
    "\n",
    "    # make the error distribution\n",
    "    error_dist = make_error_dist(std_dev)\n",
    "\n",
    "    # loop through possible errors\n",
    "    total_prob = 0\n",
    "    for error, prob_error in error_dist.iteritems():\n",
    "        # hypothetical score\n",
    "        score = correct_score+error\n",
    "        score = max(score, 1)\n",
    "        score = min(score, 10)\n",
    "        \n",
    "        # probability of being classified 'low' | error\n",
    "        prob_negative = 0 if score >= thresh else 1\n",
    "\n",
    "        # probability of being a false negative | error\n",
    "        prob_fp = prob_negative * actual_prob_recid\n",
    "        \n",
    "        total_prob += prob_error * prob_fp\n",
    "    return total_prob"
   ]
  },
  {
   "cell_type": "code",
   "execution_count": null,
   "metadata": {},
   "outputs": [],
   "source": [
    "individual_fnr(0.3, cal_all, 4.5, 2)"
   ]
  },
  {
   "cell_type": "code",
   "execution_count": null,
   "metadata": {},
   "outputs": [],
   "source": [
    "individual_fnr(0.5, cal_all, 4.5, 2)"
   ]
  },
  {
   "cell_type": "code",
   "execution_count": null,
   "metadata": {},
   "outputs": [],
   "source": [
    "individual_fnr(0.7, cal_all, 4.5, 2)"
   ]
  },
  {
   "cell_type": "code",
   "execution_count": null,
   "metadata": {},
   "outputs": [],
   "source": [
    "def compute_fnr_vs_prob_recid(cal, thresh, std_dev):\n",
    "    \"\"\"Computes FNR as a function of probability of recidivism.\n",
    "    \n",
    "    cal: calibration curve, map from score to prob_recid\n",
    "    thresh: threshold between low and not low risk\n",
    "    std_dev: standard deviation of the error function\n",
    "    \n",
    "    returns: Series\n",
    "    \"\"\"\n",
    "    prob_recid_array = np.linspace(min(cal), max(cal), 21)\n",
    "    prob_fnr_series = pd.Series(index=prob_recid_array)\n",
    "    for prob_recid in prob_recid_array:\n",
    "        fnr = individual_fnr(prob_recid, cal, thresh, std_dev)\n",
    "        prob_fnr_series[prob_recid] = fnr\n",
    "    return prob_fnr_series"
   ]
  },
  {
   "cell_type": "code",
   "execution_count": null,
   "metadata": {
    "scrolled": true
   },
   "outputs": [],
   "source": [
    "s = compute_fnr_vs_prob_recid(cal_all, thresh=4.5, std_dev=2)\n",
    "s.plot(label='FNR, std_dev=2')\n",
    "\n",
    "s = compute_fnr_vs_prob_recid(cal_all, thresh=4.5, std_dev=1)\n",
    "s.plot(label='FNR, std_dev=1')\n",
    "\n",
    "decorate(xlabel='Actual probability of recidivism',\n",
    "         ylabel='Probability of false negative')"
   ]
  },
  {
   "cell_type": "code",
   "execution_count": null,
   "metadata": {},
   "outputs": [],
   "source": [
    "def individual_fnr_given_score(actual_score, cal, thresh, std_dev):\n",
    "    \"\"\"Compute an individual FNR.\n",
    "    \n",
    "    actual_score: score assigned\n",
    "    cal: calibration curve, map from score to prob_recid\n",
    "    thresh: threshold between low and high risk\n",
    "    std_dev: standard deviation of the error function\n",
    "    \n",
    "    returns: individual FNR\n",
    "    \"\"\"\n",
    "    # make the error distribution\n",
    "    error_dist = make_error_dist(std_dev)\n",
    "\n",
    "    # loop through possible errors\n",
    "    total_prob = 0\n",
    "    for error, prob_error in error_dist.iteritems():\n",
    "        # correct score\n",
    "        correct_score = actual_score-error\n",
    "        correct_score = max(correct_score, 1)\n",
    "        correct_score = min(correct_score, 10)\n",
    "        \n",
    "        # map from correct score to probability of recidivism.\n",
    "        # if calibration curves are different for different\n",
    "        # groups, this one should be group specific.\n",
    "        correct_prob_recid = interpolate(cal, correct_score)\n",
    "        cond_ifnr = individual_fnr(correct_prob_recid,\n",
    "                                   cal, thresh, std_dev)\n",
    "        \n",
    "        total_prob += prob_error * cond_ifnr\n",
    "    return total_prob"
   ]
  },
  {
   "cell_type": "code",
   "execution_count": null,
   "metadata": {},
   "outputs": [],
   "source": [
    "individual_fnr_given_score(6, cal_all, thresh=4.5, std_dev=2)"
   ]
  },
  {
   "cell_type": "code",
   "execution_count": null,
   "metadata": {},
   "outputs": [],
   "source": [
    "def make_ifnr_series(cal, thresh, std_dev):\n",
    "\n",
    "    scores = np.arange(1, 11)\n",
    "    t = [individual_fnr_given_score(score, cal, thresh, std_dev)\n",
    "         for score in scores]\n",
    "    \n",
    "    ifnr_series = pd.Series(t, scores)\n",
    "    return ifnr_series"
   ]
  },
  {
   "cell_type": "code",
   "execution_count": null,
   "metadata": {
    "scrolled": true
   },
   "outputs": [],
   "source": [
    "thresh = 4.5\n",
    "\n",
    "s = make_ifnr_series(cal_all, thresh, std_dev=2)\n",
    "s.plot(label='FNR, std_dev=2')\n",
    "\n",
    "s = make_ifnr_series(cal_all, thresh, std_dev=1)\n",
    "s.plot(label='FNR, std_dev=1')\n",
    "\n",
    "decorate(xlabel='Score',\n",
    "         ylabel='Probability of false negative')"
   ]
  },
  {
   "cell_type": "code",
   "execution_count": null,
   "metadata": {},
   "outputs": [],
   "source": [
    "def assign_individual_fnr(df, cal, thresh, std_dev):\n",
    "    \"\"\"Assign individual FNRs to defendants.\n",
    "    \n",
    "    df: DataFrame\n",
    "    cal: calibration curve, map from score to prob_recid\n",
    "    thresh: threshold between low and high risk\n",
    "    std_dev: standard deviation of the error function\n",
    "    \"\"\"\n",
    "    # compute the map from score to FPR\n",
    "    ifnr_series = make_ifnr_series(cal, thresh, std_dev)\n",
    "    \n",
    "    # assign FPR to each defendant\n",
    "    df['ifnr'] = [ifnr_series[score] for score in df.decile_score]"
   ]
  },
  {
   "cell_type": "code",
   "execution_count": null,
   "metadata": {},
   "outputs": [],
   "source": [
    "assign_individual_fnr(cp, cal_all, thresh=4.5, std_dev=2)"
   ]
  },
  {
   "cell_type": "code",
   "execution_count": null,
   "metadata": {},
   "outputs": [],
   "source": [
    "cdf_ifnr = make_cdf(cp.ifnr)"
   ]
  },
  {
   "cell_type": "code",
   "execution_count": null,
   "metadata": {},
   "outputs": [],
   "source": [
    "plot_cdf(cdf_ifnr, label='All')\n",
    "\n",
    "decorate(xlabel='Individual probability of false negative', \n",
    "         ylabel='CDF',\n",
    "         ylim=[0,1])"
   ]
  },
  {
   "cell_type": "code",
   "execution_count": null,
   "metadata": {},
   "outputs": [],
   "source": [
    "thresh = 4.5\n",
    "std_dev = 2\n",
    "\n",
    "cal_black = calibration_curve(black)\n",
    "s = make_ifnr_series(cal_black, thresh, std_dev)\n",
    "s.plot(label='FNR, black')\n",
    "\n",
    "cal_white = calibration_curve(white)\n",
    "s = make_ifnr_series(cal_white, thresh, std_dev)\n",
    "s.plot(label='FNR, white')\n",
    "\n",
    "decorate(xlabel='Score',\n",
    "         ylabel='Probability of false negative')"
   ]
  },
  {
   "cell_type": "code",
   "execution_count": null,
   "metadata": {},
   "outputs": [],
   "source": [
    "thresh = 4.5\n",
    "std_dev = 2\n",
    "\n",
    "cal_male = calibration_curve(male)\n",
    "s = make_ifnr_series(cal_male, thresh, std_dev)\n",
    "s.plot(label='FNR, male')\n",
    "\n",
    "cal_female = calibration_curve(female)\n",
    "s = make_ifnr_series(cal_female, thresh, std_dev)\n",
    "s.plot(label='FNR, female')\n",
    "\n",
    "decorate(xlabel='Score',\n",
    "         ylabel='Probability of false negative')"
   ]
  },
  {
   "cell_type": "code",
   "execution_count": null,
   "metadata": {},
   "outputs": [],
   "source": [
    "assign_individual_fnr(cp, cal_all, thresh=4.5, std_dev=2)\n",
    "cp.ifnr.mean()"
   ]
  },
  {
   "cell_type": "code",
   "execution_count": null,
   "metadata": {
    "scrolled": true
   },
   "outputs": [],
   "source": [
    "cp.groupby('race').ifnr.mean()"
   ]
  },
  {
   "cell_type": "code",
   "execution_count": null,
   "metadata": {},
   "outputs": [],
   "source": [
    "assign_individual_fnr(cp, cal_all, thresh=4.5, std_dev=1)\n",
    "cp.ifnr.mean()"
   ]
  },
  {
   "cell_type": "code",
   "execution_count": null,
   "metadata": {
    "scrolled": true
   },
   "outputs": [],
   "source": [
    "cp.groupby('race').ifnr.mean()"
   ]
  },
  {
   "cell_type": "code",
   "execution_count": null,
   "metadata": {},
   "outputs": [],
   "source": [
    "assign_individual_fnr(cp, cal_all, thresh=4.5, std_dev=0.01)\n",
    "cp.ifnr.mean()"
   ]
  },
  {
   "cell_type": "code",
   "execution_count": null,
   "metadata": {},
   "outputs": [],
   "source": [
    "cp.groupby('race').ifnr.mean()"
   ]
  },
  {
   "cell_type": "code",
   "execution_count": null,
   "metadata": {},
   "outputs": [],
   "source": []
  },
  {
   "cell_type": "code",
   "execution_count": null,
   "metadata": {},
   "outputs": [],
   "source": []
  },
  {
   "cell_type": "code",
   "execution_count": null,
   "metadata": {},
   "outputs": [],
   "source": []
  },
  {
   "cell_type": "markdown",
   "metadata": {},
   "source": [
    "### What would it take?\n",
    "\n",
    "In this section I explore what it would take to make a test with the same false positive rate for all groups."
   ]
  },
  {
   "cell_type": "code",
   "execution_count": null,
   "metadata": {},
   "outputs": [],
   "source": [
    "def fpr_thresh(df, thresh):\n",
    "    df = df.copy()\n",
    "    df['high'] = df.decile_score >= thresh\n",
    "    matrix_all = crosstab(df, 'two_year_recid', 'high')\n",
    "    fpr, fnr = error_rates(matrix_all)\n",
    "    return fpr"
   ]
  },
  {
   "cell_type": "markdown",
   "metadata": {},
   "source": []
  },
  {
   "cell_type": "code",
   "execution_count": null,
   "metadata": {},
   "outputs": [],
   "source": [
    "fpr_thresh(cp, 5)"
   ]
  },
  {
   "cell_type": "markdown",
   "metadata": {},
   "source": []
  },
  {
   "cell_type": "code",
   "execution_count": null,
   "metadata": {},
   "outputs": [],
   "source": [
    "fpr_thresh(black, 5)"
   ]
  },
  {
   "cell_type": "markdown",
   "metadata": {},
   "source": []
  },
  {
   "cell_type": "code",
   "execution_count": null,
   "metadata": {},
   "outputs": [],
   "source": [
    "fpr_thresh(white, 5)"
   ]
  },
  {
   "cell_type": "markdown",
   "metadata": {},
   "source": []
  },
  {
   "cell_type": "code",
   "execution_count": null,
   "metadata": {},
   "outputs": [],
   "source": [
    "def sweep_thresh(df):\n",
    "    threshes = range(2,10)\n",
    "    sweep = pd.Series(index=threshes)\n",
    "    for thresh in threshes:\n",
    "        sweep[thresh] = fpr_thresh(df, thresh)\n",
    "        \n",
    "    return sweep"
   ]
  },
  {
   "cell_type": "markdown",
   "metadata": {},
   "source": []
  },
  {
   "cell_type": "code",
   "execution_count": null,
   "metadata": {},
   "outputs": [],
   "source": [
    "plt.axhline(32.25, color='gray')\n",
    "sweep_thresh(cp).plot(label='All')\n",
    "sweep_thresh(black).plot(label='Black')\n",
    "sweep_thresh(white).plot(label='White')\n",
    "decorate(xlabel='Threshold',\n",
    "         ylabel='False positive rate')"
   ]
  },
  {
   "cell_type": "markdown",
   "metadata": {},
   "source": []
  },
  {
   "cell_type": "code",
   "execution_count": null,
   "metadata": {},
   "outputs": [],
   "source": []
  },
  {
   "cell_type": "markdown",
   "metadata": {},
   "source": []
  },
  {
   "cell_type": "code",
   "execution_count": null,
   "metadata": {},
   "outputs": [],
   "source": [
    "def find_threshold(group, fpr):\n",
    "    series = sweep_thresh(group)\n",
    "    xs = crossing(series.dropna(), fpr)\n",
    "    return xs"
   ]
  },
  {
   "cell_type": "markdown",
   "metadata": {},
   "source": []
  },
  {
   "cell_type": "code",
   "execution_count": null,
   "metadata": {},
   "outputs": [],
   "source": [
    "all_thresh = find_threshold(cp, 32.35)"
   ]
  },
  {
   "cell_type": "markdown",
   "metadata": {},
   "source": []
  },
  {
   "cell_type": "code",
   "execution_count": null,
   "metadata": {},
   "outputs": [],
   "source": [
    "black_thresh = find_threshold(black, 32.35)"
   ]
  },
  {
   "cell_type": "markdown",
   "metadata": {},
   "source": []
  },
  {
   "cell_type": "code",
   "execution_count": null,
   "metadata": {},
   "outputs": [],
   "source": [
    "white_thresh = find_threshold(white, 32.35)"
   ]
  },
  {
   "cell_type": "markdown",
   "metadata": {},
   "source": []
  },
  {
   "cell_type": "code",
   "execution_count": null,
   "metadata": {},
   "outputs": [],
   "source": []
  },
  {
   "cell_type": "markdown",
   "metadata": {},
   "source": []
  },
  {
   "cell_type": "code",
   "execution_count": null,
   "metadata": {},
   "outputs": [],
   "source": [
    "interpolate(calibration_curve(cp), all_thresh)"
   ]
  },
  {
   "cell_type": "markdown",
   "metadata": {},
   "source": []
  },
  {
   "cell_type": "code",
   "execution_count": null,
   "metadata": {},
   "outputs": [],
   "source": [
    "interpolate(calibration_curve(cp), black_thresh)"
   ]
  },
  {
   "cell_type": "markdown",
   "metadata": {},
   "source": []
  },
  {
   "cell_type": "code",
   "execution_count": null,
   "metadata": {},
   "outputs": [],
   "source": [
    "interpolate(calibration_curve(black), black_thresh)"
   ]
  },
  {
   "cell_type": "markdown",
   "metadata": {},
   "source": []
  },
  {
   "cell_type": "code",
   "execution_count": null,
   "metadata": {},
   "outputs": [],
   "source": [
    "interpolate(calibration_curve(cp), white_thresh)"
   ]
  },
  {
   "cell_type": "markdown",
   "metadata": {},
   "source": []
  },
  {
   "cell_type": "code",
   "execution_count": null,
   "metadata": {},
   "outputs": [],
   "source": [
    "interpolate(calibration_curve(white), white_thresh)"
   ]
  },
  {
   "cell_type": "markdown",
   "metadata": {},
   "source": []
  },
  {
   "cell_type": "code",
   "execution_count": null,
   "metadata": {},
   "outputs": [],
   "source": []
  },
  {
   "cell_type": "markdown",
   "metadata": {},
   "source": []
  },
  {
   "cell_type": "code",
   "execution_count": null,
   "metadata": {},
   "outputs": [],
   "source": []
  },
  {
   "cell_type": "markdown",
   "metadata": {},
   "source": []
  },
  {
   "cell_type": "code",
   "execution_count": null,
   "metadata": {},
   "outputs": [],
   "source": []
  },
  {
   "cell_type": "markdown",
   "metadata": {},
   "source": []
  },
  {
   "cell_type": "code",
   "execution_count": null,
   "metadata": {},
   "outputs": [],
   "source": []
  },
  {
   "cell_type": "markdown",
   "metadata": {},
   "source": []
  },
  {
   "cell_type": "code",
   "execution_count": null,
   "metadata": {},
   "outputs": [],
   "source": []
  },
  {
   "cell_type": "markdown",
   "metadata": {},
   "source": []
  },
  {
   "cell_type": "code",
   "execution_count": null,
   "metadata": {},
   "outputs": [],
   "source": []
  },
  {
   "cell_type": "markdown",
   "metadata": {},
   "source": []
  },
  {
   "cell_type": "code",
   "execution_count": null,
   "metadata": {},
   "outputs": [],
   "source": [
    "black_male = black[black.sex=='Male']\n",
    "black_male.shape"
   ]
  },
  {
   "cell_type": "markdown",
   "metadata": {},
   "source": []
  },
  {
   "cell_type": "code",
   "execution_count": null,
   "metadata": {},
   "outputs": [],
   "source": [
    "black_female = black[black.sex=='Female']\n",
    "black_female.shape"
   ]
  },
  {
   "cell_type": "markdown",
   "metadata": {},
   "source": []
  },
  {
   "cell_type": "code",
   "execution_count": null,
   "metadata": {},
   "outputs": [],
   "source": [
    "old_black_female = black_female[black_female.age_cat=='Greater than 45']\n",
    "old_black_female.shape"
   ]
  },
  {
   "cell_type": "markdown",
   "metadata": {},
   "source": []
  },
  {
   "cell_type": "code",
   "execution_count": null,
   "metadata": {},
   "outputs": [],
   "source": [
    "old_white_female = cp[(cp.age_cat=='Greater than 45') &\n",
    "                      (cp.sex=='Female') &\n",
    "                      (cp.race=='Caucasian')]\n",
    "old_white_female.shape"
   ]
  },
  {
   "cell_type": "markdown",
   "metadata": {},
   "source": []
  },
  {
   "cell_type": "code",
   "execution_count": null,
   "metadata": {},
   "outputs": [],
   "source": [
    "young_black_male = cp[(cp.age_cat=='Less than 25') &\n",
    "                      (cp.sex=='Male') &\n",
    "                      (cp.race=='African-American')]\n",
    "young_black_male.shape"
   ]
  },
  {
   "cell_type": "markdown",
   "metadata": {},
   "source": []
  },
  {
   "cell_type": "code",
   "execution_count": null,
   "metadata": {},
   "outputs": [],
   "source": [
    "fpr_thresh(cp, 5)"
   ]
  },
  {
   "cell_type": "markdown",
   "metadata": {},
   "source": []
  },
  {
   "cell_type": "code",
   "execution_count": null,
   "metadata": {},
   "outputs": [],
   "source": [
    "fpr_thresh(black, 5)"
   ]
  },
  {
   "cell_type": "markdown",
   "metadata": {},
   "source": []
  },
  {
   "cell_type": "code",
   "execution_count": null,
   "metadata": {},
   "outputs": [],
   "source": [
    "fpr_thresh(black_female, 5)"
   ]
  },
  {
   "cell_type": "markdown",
   "metadata": {},
   "source": []
  },
  {
   "cell_type": "code",
   "execution_count": null,
   "metadata": {},
   "outputs": [],
   "source": [
    "fpr_thresh(old_black_female, 5)"
   ]
  },
  {
   "cell_type": "markdown",
   "metadata": {},
   "source": []
  },
  {
   "cell_type": "code",
   "execution_count": null,
   "metadata": {},
   "outputs": [],
   "source": [
    "fpr_thresh(black_male, 5)"
   ]
  },
  {
   "cell_type": "markdown",
   "metadata": {},
   "source": []
  },
  {
   "cell_type": "code",
   "execution_count": null,
   "metadata": {},
   "outputs": [],
   "source": [
    "fpr_thresh(young_black_male, 5)"
   ]
  },
  {
   "cell_type": "markdown",
   "metadata": {},
   "source": []
  },
  {
   "cell_type": "code",
   "execution_count": null,
   "metadata": {},
   "outputs": [],
   "source": [
    "plt.axhline(32.25, color='gray')\n",
    "sweep_thresh(black).plot(label='Black', color='gray')\n",
    "sweep_thresh(black_male).plot(label='Black male')\n",
    "sweep_thresh(young_black_male).plot(label='Young black male')\n",
    "\n",
    "decorate(xlabel='Threshold',\n",
    "         ylabel='False positive rate')"
   ]
  },
  {
   "cell_type": "markdown",
   "metadata": {},
   "source": []
  },
  {
   "cell_type": "code",
   "execution_count": null,
   "metadata": {},
   "outputs": [],
   "source": [
    "plt.axhline(32.25, color='gray')\n",
    "sweep_thresh(black).plot(label='Black', color='gray')\n",
    "sweep_thresh(black_female).plot(label='Black female')\n",
    "sweep_thresh(old_black_female).plot(label='Old black female')\n",
    "\n",
    "decorate(xlabel='Threshold',\n",
    "         ylabel='False positive rate')"
   ]
  },
  {
   "cell_type": "markdown",
   "metadata": {},
   "source": []
  },
  {
   "cell_type": "code",
   "execution_count": null,
   "metadata": {},
   "outputs": [],
   "source": [
    "ybm_thresh = find_threshold(young_black_male, 32.35)"
   ]
  },
  {
   "cell_type": "markdown",
   "metadata": {},
   "source": []
  },
  {
   "cell_type": "code",
   "execution_count": null,
   "metadata": {},
   "outputs": [],
   "source": [
    "obf_thresh = find_threshold(old_black_female, 32.35)"
   ]
  },
  {
   "cell_type": "markdown",
   "metadata": {},
   "source": []
  },
  {
   "cell_type": "code",
   "execution_count": null,
   "metadata": {},
   "outputs": [],
   "source": [
    "interpolate(calibration_curve(cp), ybm_thresh)"
   ]
  },
  {
   "cell_type": "markdown",
   "metadata": {},
   "source": []
  },
  {
   "cell_type": "code",
   "execution_count": null,
   "metadata": {},
   "outputs": [],
   "source": [
    "interpolate(calibration_curve(cp), obf_thresh)"
   ]
  },
  {
   "cell_type": "markdown",
   "metadata": {},
   "source": []
  },
  {
   "cell_type": "code",
   "execution_count": null,
   "metadata": {},
   "outputs": [],
   "source": []
  },
  {
   "cell_type": "markdown",
   "metadata": {},
   "source": [
    "To see what this kind of unfairness looks like, I'll generate the same figure, grouping defendants by sex."
   ]
  },
  {
   "cell_type": "code",
   "execution_count": null,
   "metadata": {},
   "outputs": [],
   "source": [
    "male = (cp['sex'] == 'Male')\n",
    "male.mean()"
   ]
  },
  {
   "cell_type": "code",
   "execution_count": null,
   "metadata": {},
   "outputs": [],
   "source": [
    "female = (cp['sex'] == 'Female')\n",
    "female.mean()"
   ]
  },
  {
   "cell_type": "code",
   "execution_count": null,
   "metadata": {},
   "outputs": [],
   "source": [
    "cal_all = calibration_curve(cp)\n",
    "cal_all.plot(linestyle='dotted', \n",
    "              color='gray',\n",
    "              label='All defendants')\n",
    "\n",
    "cal_male = calibration_curve(cp[male])\n",
    "cal_male.plot(label='Male')\n",
    "\n",
    "cal_female = calibration_curve(cp[female])\n",
    "cal_female.plot(label='Female')\n",
    "\n",
    "decorate(xlabel='Risk score',\n",
    "         ylabel='Prob recidivism',\n",
    "         title='Recivism vs decile score, grouped by sex')\n",
    "plt.legend();"
   ]
  },
  {
   "cell_type": "markdown",
   "metadata": {},
   "source": [
    "For all risk scores, female defendants are substantially less likely to recidivate than male defendants.\n",
    "\n",
    "Or, reading the graph the other way, female defendants are given decile scores 1-2 points higher than male defendants with the same actual risk of recidivism."
   ]
  },
  {
   "cell_type": "markdown",
   "metadata": {},
   "source": [
    "## AUC\n",
    "\n",
    "From [How We Analyzed the COMPAS Recidivism Algorithm](https://www.propublica.org/article/how-we-analyzed-the-compas-recidivism-algorithm)\n",
    "\n",
    "> Both results are lower than what Northpointe describes as a threshold for reliability. “A rule of thumb according to several recent articles is that AUCs of .70 or above typically indicate satisfactory predictive accuracy, and measures between .60 and .70 suggest low to moderate predictive accuracy,” the company says in its study."
   ]
  },
  {
   "cell_type": "markdown",
   "metadata": {},
   "source": [
    "## ROC\n",
    "\n",
    "One way to do that is to adjust the threshold so the error rates are the same in both groups.\n",
    "\n",
    "The following function loops through the possible threshold for the low and high risk groups.  For each threshold, it makes the confusion matrix and computes sensitivity and specificity."
   ]
  },
  {
   "cell_type": "code",
   "execution_count": null,
   "metadata": {},
   "outputs": [],
   "source": [
    "thresholds = range(1, 10)\n",
    "for threshold in thresholds:\n",
    "    matrix = make_matrix(cp, white, threshold)\n",
    "    t = sens_spec(matrix)\n",
    "    print(threshold, t)"
   ]
  },
  {
   "cell_type": "markdown",
   "metadata": {},
   "source": [
    "When the threshold is low, almost everyone is in the high risk group; in that case:\n",
    "\n",
    "* Sensitivity is high because most recidivists are in the high risk group, but \n",
    "\n",
    "* Specificity is low because most non-recidivists are *also* in the high risk group.\n",
    "\n",
    "When the threshold is high, almost everyone is in the low risk group, and the metrics are the other way around:\n",
    "\n",
    "* Sensitivity is low because most recidivists are in the low risk group, but\n",
    "\n",
    "* Specificity is high because most non-recidivists are *also* in the low risk group.\n",
    "\n",
    "One way to visualize these results is to plot sensitivity versus FPR (which is the complement of specificity) for a range of thresholds.  For historical reasons, the result is called a [receiver operating characteristic (ROC) curve](https://en.wikipedia.org/wiki/Receiver_operating_characteristic).\n",
    "\n",
    "The following function computes the ROC curve for a given subset of the data:"
   ]
  },
  {
   "cell_type": "code",
   "execution_count": null,
   "metadata": {},
   "outputs": [],
   "source": [
    "def make_roc(cp, group):\n",
    "\n",
    "    thresholds = range(1, 10)\n",
    "    roc = pd.DataFrame(index=thresholds, \n",
    "                   columns=['sens', 'spec'])\n",
    "\n",
    "    for threshold in thresholds:\n",
    "        matrix = make_matrix(cp, group, threshold)\n",
    "        roc.loc[threshold] = sens_spec(matrix)\n",
    "    \n",
    "    roc['fpr'] = 100 - roc['spec']\n",
    "    \n",
    "    return roc"
   ]
  },
  {
   "cell_type": "code",
   "execution_count": null,
   "metadata": {},
   "outputs": [],
   "source": [
    "roc_white = make_roc(cp, white)\n",
    "roc_white"
   ]
  },
  {
   "cell_type": "code",
   "execution_count": null,
   "metadata": {},
   "outputs": [],
   "source": [
    "roc_black = make_roc(cp, black)\n",
    "roc_black"
   ]
  },
  {
   "cell_type": "code",
   "execution_count": null,
   "metadata": {},
   "outputs": [],
   "source": [
    "def plot_roc(roc):\n",
    "    plt.plot(roc['fpr'], roc['sens'])"
   ]
  },
  {
   "cell_type": "code",
   "execution_count": null,
   "metadata": {
    "scrolled": true
   },
   "outputs": [],
   "source": [
    "plot_roc(roc_white)\n",
    "plot_roc(roc_black)"
   ]
  }
 ],
 "metadata": {
  "kernelspec": {
   "display_name": "Python 3",
   "language": "python",
   "name": "python3"
  },
  "language_info": {
   "codemirror_mode": {
    "name": "ipython",
    "version": 3
   },
   "file_extension": ".py",
   "mimetype": "text/x-python",
   "name": "python",
   "nbconvert_exporter": "python",
   "pygments_lexer": "ipython3",
   "version": "3.7.4"
  }
 },
 "nbformat": 4,
 "nbformat_minor": 4
}
