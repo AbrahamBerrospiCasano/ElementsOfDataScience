{
 "cells": [
  {
   "cell_type": "markdown",
   "metadata": {},
   "source": [
    "# Fairness\n",
    "\n",
    "Elements of Data Science\n",
    "\n",
    "by [Allen Downey](https://allendowney.com)\n",
    "\n",
    "[MIT License](https://opensource.org/licenses/MIT)\n",
    "\n",
    "### Goals\n",
    "\n"
   ]
  },
  {
   "cell_type": "code",
   "execution_count": 1,
   "metadata": {},
   "outputs": [],
   "source": [
    "import pandas as pd\n",
    "import numpy as np\n",
    "import matplotlib.pyplot as plt"
   ]
  },
  {
   "cell_type": "markdown",
   "metadata": {},
   "source": [
    "## Data\n",
    "\n",
    "[This repository](https://github.com/propublica/compas-analysis) the data and analysis pipeline described on [this web page](https://www.propublica.org/article/how-we-analyzed-the-compas-recidivism-algorithm).\n",
    "\n",
    "The terms of use for the data [are here](https://www.propublica.org/datastore/terms).  In compliance with those terms, I am not redistributing the data.\n",
    "\n",
    "The following cell downloads the data file we'll use directly from their repository."
   ]
  },
  {
   "cell_type": "code",
   "execution_count": 2,
   "metadata": {},
   "outputs": [],
   "source": [
    "import os\n",
    "\n",
    "if not os.path.exists('compas-scores-two-years.csv'):\n",
    "    !wget https://github.com/propublica/compas-analysis/raw/master/compas-scores-two-years.csv"
   ]
  },
  {
   "cell_type": "markdown",
   "metadata": {},
   "source": [
    "The following cell read the data file:"
   ]
  },
  {
   "cell_type": "code",
   "execution_count": 3,
   "metadata": {},
   "outputs": [
    {
     "data": {
      "text/plain": [
       "(7214, 53)"
      ]
     },
     "execution_count": 3,
     "metadata": {},
     "output_type": "execute_result"
    }
   ],
   "source": [
    "cp = pd.read_csv(\"compas-scores-two-years.csv\")\n",
    "cp.shape"
   ]
  },
  {
   "cell_type": "code",
   "execution_count": 4,
   "metadata": {},
   "outputs": [],
   "source": [
    "def make_matrix(cp, subgroup, threshold=4):\n",
    "    \"\"\"Make a confusion matrix.\n",
    "    \n",
    "    cp: DataFrame\n",
    "    subgroup: Boolean Series\n",
    "    \n",
    "    returns: DataFrame containing the confusion matrix\n",
    "    \"\"\"\n",
    "    a = np.where(cp['decile_score'] > threshold, \n",
    "                 'Positive', \n",
    "                 'Negative')\n",
    "    high_risk = pd.Series(a, name='Predicted')\n",
    "    \n",
    "    a = np.where(cp['two_year_recid'] == 1, \n",
    "                 'Condition', \n",
    "                 'No Condition')\n",
    "    new_charge_2 = pd.Series(a, name='Actual')\n",
    "\n",
    "    matrix = pd.crosstab(high_risk[subgroup], new_charge_2[subgroup])\n",
    "    matrix.sort_index(axis=0, ascending=False, inplace=True)\n",
    "    \n",
    "    return matrix"
   ]
  },
  {
   "cell_type": "code",
   "execution_count": 5,
   "metadata": {},
   "outputs": [],
   "source": [
    "def percent(x, y):\n",
    "    \"\"\"Compute the percentage `x/(x+y)*100`.\n",
    "    \"\"\"\n",
    "    return x / (x+y) * 100"
   ]
  },
  {
   "cell_type": "code",
   "execution_count": 6,
   "metadata": {},
   "outputs": [],
   "source": [
    "def predictive_value(m):\n",
    "    \"\"\"Compute positive and negative predictive value.\n",
    "    \n",
    "    m: confusion matrix\n",
    "    \"\"\"\n",
    "    tp, fp, fn, tn = m.to_numpy().flatten()\n",
    "    ppv = percent(tp, fp)\n",
    "    npv = percent(tn, fn)\n",
    "    return ppv, npv"
   ]
  },
  {
   "cell_type": "code",
   "execution_count": 7,
   "metadata": {},
   "outputs": [],
   "source": [
    "def sens_spec(m):\n",
    "    \"\"\"Compute sensitivity and specificity.\n",
    "    \n",
    "    m: confusion matrix\n",
    "    \"\"\"\n",
    "    tp, fp, fn, tn = m.to_numpy().flatten()\n",
    "    sens = percent(tp, fn)\n",
    "    spec = percent(tn, fp)\n",
    "    return sens, spec"
   ]
  },
  {
   "cell_type": "code",
   "execution_count": 8,
   "metadata": {},
   "outputs": [],
   "source": [
    "def error_rates(m):\n",
    "    \"\"\"Compute false positive and false negative rate.\n",
    "    \n",
    "    m: confusion matrix\n",
    "    \"\"\"\n",
    "    tp, fp, fn, tn = m.to_numpy().flatten()\n",
    "    fpr = percent(fp, tn)\n",
    "    fnr = percent(fn, tp)\n",
    "    return fpr, fnr"
   ]
  },
  {
   "cell_type": "code",
   "execution_count": 9,
   "metadata": {},
   "outputs": [],
   "source": [
    "def prevalence(df):\n",
    "    \"\"\"Compute prevalence.\n",
    "    \n",
    "    m: confusion matrix\n",
    "    \"\"\"\n",
    "    tp, fp, fn, tn = df.to_numpy().flatten()\n",
    "    prevalence = percent(tp+fn, tn+fp)\n",
    "    return prevalence"
   ]
  },
  {
   "cell_type": "code",
   "execution_count": 10,
   "metadata": {},
   "outputs": [],
   "source": [
    "def compute_metrics(m, name=''):\n",
    "    \"\"\"Compute all metrics.\n",
    "    \n",
    "    m: confusion matrix\n",
    "    \n",
    "    returns: DataFrame\n",
    "    \"\"\"\n",
    "    fpr, fnr = error_rates(m)\n",
    "    ppv, npv = predictive_value(m)\n",
    "    prev = prevalence(m)\n",
    "    \n",
    "    index = ['FP rate', 'FN rate', 'PPV', 'NPV', 'Prevalence']\n",
    "    df = pd.DataFrame(index=index, columns=['Percent'])\n",
    "    df.Percent = fpr, fnr, ppv, npv, prev\n",
    "    df.index.name = name\n",
    "    return df"
   ]
  },
  {
   "cell_type": "code",
   "execution_count": 11,
   "metadata": {},
   "outputs": [],
   "source": [
    "def calibration_curve(df):\n",
    "    \"\"\"Compute probability of recidivism by decile score.\n",
    "    \n",
    "    df: DataFrame\n",
    "    \n",
    "    returns: Series\n",
    "    \"\"\"\n",
    "    grouped = df.groupby('decile_score')\n",
    "    return grouped['two_year_recid'].mean()"
   ]
  },
  {
   "cell_type": "code",
   "execution_count": 12,
   "metadata": {},
   "outputs": [],
   "source": [
    "def decorate(**options):\n",
    "    \"\"\"Decorate the current axes.\n",
    "    \n",
    "    Call decorate with keyword arguments like\n",
    "    decorate(title='Title',\n",
    "             xlabel='x',\n",
    "             ylabel='y')\n",
    "             \n",
    "    The keyword arguments can be any of the axis properties\n",
    "    https://matplotlib.org/api/axes_api.html\n",
    "    \"\"\"\n",
    "    plt.gca().set(**options)\n",
    "    plt.tight_layout()"
   ]
  },
  {
   "cell_type": "code",
   "execution_count": 13,
   "metadata": {},
   "outputs": [],
   "source": [
    "def values(series):\n",
    "    \"\"\"Count the values and sort.\n",
    "    \n",
    "    series: pd.Series\n",
    "    \n",
    "    returns: series mapping from values to frequencies\n",
    "    \"\"\"\n",
    "    return series.value_counts(dropna=False).sort_index()"
   ]
  },
  {
   "cell_type": "markdown",
   "metadata": {},
   "source": [
    "## Calibration for male and female defendants\n",
    "\n",
    "In the previous notebook we saw that COMPAS is nearly calibrated for white and black defendants; that is, the risk scores it assigns correspond to the same probability of recidivism in both groups.\n",
    "\n",
    "As it turns out the same it not true if we group defendants by sex.\n",
    "\n",
    "First I'll compute Boolean Series that select male and female defendants:"
   ]
  },
  {
   "cell_type": "code",
   "execution_count": 14,
   "metadata": {},
   "outputs": [
    {
     "data": {
      "text/plain": [
       "0.8066260049902967"
      ]
     },
     "execution_count": 14,
     "metadata": {},
     "output_type": "execute_result"
    }
   ],
   "source": [
    "male = (cp['sex'] == 'Male')\n",
    "male.mean()"
   ]
  },
  {
   "cell_type": "code",
   "execution_count": 15,
   "metadata": {},
   "outputs": [
    {
     "data": {
      "text/plain": [
       "0.19337399500970334"
      ]
     },
     "execution_count": 15,
     "metadata": {},
     "output_type": "execute_result"
    }
   ],
   "source": [
    "female = (cp['sex'] == 'Female')\n",
    "female.mean()"
   ]
  },
  {
   "cell_type": "markdown",
   "metadata": {},
   "source": [
    "Next I'll plot calibration curves for these groups:"
   ]
  },
  {
   "cell_type": "code",
   "execution_count": 17,
   "metadata": {},
   "outputs": [
    {
     "data": {
      "image/png": "[encoded data removed]",
      "text/plain": [
       "<Figure size 432x288 with 1 Axes>"
      ]
     },
     "metadata": {
      "needs_background": "light"
     },
     "output_type": "display_data"
    }
   ],
   "source": [
    "cal_all = calibration_curve(cp)\n",
    "cal_all.plot(linestyle='dotted', \n",
    "              color='gray',\n",
    "              label='All defendants')\n",
    "\n",
    "cal_male = calibration_curve(cp[male])\n",
    "cal_male.plot(label='Male')\n",
    "\n",
    "cal_female = calibration_curve(cp[female])\n",
    "cal_female.plot(label='Female')\n",
    "\n",
    "decorate(xlabel='Risk score',\n",
    "         ylabel='Fraction charged with new crime',\n",
    "         title='Recivism vs risk score, grouped by sex')\n",
    "plt.legend();"
   ]
  },
  {
   "cell_type": "markdown",
   "metadata": {},
   "source": [
    "For all risk scores, female defendants are substantially less likely to be charged with another crime.\n",
    "\n",
    "Or, reading the graph the other way, female defendants are given risk scores 1-2 points higher than male defendants with the same actual risk of recidivism.\n",
    "\n",
    "We can see the same discrepancy in the other metrics.  Here are the confusion matrices for male and female defendants."
   ]
  },
  {
   "cell_type": "code",
   "execution_count": 19,
   "metadata": {},
   "outputs": [
    {
     "data": {
      "text/html": [
       "<div>\n",
       "<style scoped>\n",
       "    .dataframe tbody tr th:only-of-type {\n",
       "        vertical-align: middle;\n",
       "    }\n",
       "\n",
       "    .dataframe tbody tr th {\n",
       "        vertical-align: top;\n",
       "    }\n",
       "\n",
       "    .dataframe thead th {\n",
       "        text-align: right;\n",
       "    }\n",
       "</style>\n",
       "<table border=\"1\" class=\"dataframe\">\n",
       "  <thead>\n",
       "    <tr style=\"text-align: right;\">\n",
       "      <th>Actual</th>\n",
       "      <th>Condition</th>\n",
       "      <th>No Condition</th>\n",
       "    </tr>\n",
       "    <tr>\n",
       "      <th>Predicted</th>\n",
       "      <th></th>\n",
       "      <th></th>\n",
       "    </tr>\n",
       "  </thead>\n",
       "  <tbody>\n",
       "    <tr>\n",
       "      <td>Positive</td>\n",
       "      <td>1732</td>\n",
       "      <td>994</td>\n",
       "    </tr>\n",
       "    <tr>\n",
       "      <td>Negative</td>\n",
       "      <td>1021</td>\n",
       "      <td>2072</td>\n",
       "    </tr>\n",
       "  </tbody>\n",
       "</table>\n",
       "</div>"
      ],
      "text/plain": [
       "Actual     Condition  No Condition\n",
       "Predicted                         \n",
       "Positive        1732           994\n",
       "Negative        1021          2072"
      ]
     },
     "execution_count": 19,
     "metadata": {},
     "output_type": "execute_result"
    }
   ],
   "source": [
    "matrix_male = make_matrix(cp, male)\n",
    "matrix_male"
   ]
  },
  {
   "cell_type": "code",
   "execution_count": 20,
   "metadata": {
    "scrolled": true
   },
   "outputs": [
    {
     "data": {
      "text/html": [
       "<div>\n",
       "<style scoped>\n",
       "    .dataframe tbody tr th:only-of-type {\n",
       "        vertical-align: middle;\n",
       "    }\n",
       "\n",
       "    .dataframe tbody tr th {\n",
       "        vertical-align: top;\n",
       "    }\n",
       "\n",
       "    .dataframe thead th {\n",
       "        text-align: right;\n",
       "    }\n",
       "</style>\n",
       "<table border=\"1\" class=\"dataframe\">\n",
       "  <thead>\n",
       "    <tr style=\"text-align: right;\">\n",
       "      <th>Actual</th>\n",
       "      <th>Condition</th>\n",
       "      <th>No Condition</th>\n",
       "    </tr>\n",
       "    <tr>\n",
       "      <th>Predicted</th>\n",
       "      <th></th>\n",
       "      <th></th>\n",
       "    </tr>\n",
       "  </thead>\n",
       "  <tbody>\n",
       "    <tr>\n",
       "      <td>Positive</td>\n",
       "      <td>303</td>\n",
       "      <td>288</td>\n",
       "    </tr>\n",
       "    <tr>\n",
       "      <td>Negative</td>\n",
       "      <td>195</td>\n",
       "      <td>609</td>\n",
       "    </tr>\n",
       "  </tbody>\n",
       "</table>\n",
       "</div>"
      ],
      "text/plain": [
       "Actual     Condition  No Condition\n",
       "Predicted                         \n",
       "Positive         303           288\n",
       "Negative         195           609"
      ]
     },
     "execution_count": 20,
     "metadata": {},
     "output_type": "execute_result"
    }
   ],
   "source": [
    "matrix_female = make_matrix(cp, female)\n",
    "matrix_female"
   ]
  },
  {
   "cell_type": "markdown",
   "metadata": {},
   "source": [
    "And here are the metrics:"
   ]
  },
  {
   "cell_type": "code",
   "execution_count": 21,
   "metadata": {
    "scrolled": true
   },
   "outputs": [
    {
     "data": {
      "text/html": [
       "<div>\n",
       "<style scoped>\n",
       "    .dataframe tbody tr th:only-of-type {\n",
       "        vertical-align: middle;\n",
       "    }\n",
       "\n",
       "    .dataframe tbody tr th {\n",
       "        vertical-align: top;\n",
       "    }\n",
       "\n",
       "    .dataframe thead th {\n",
       "        text-align: right;\n",
       "    }\n",
       "</style>\n",
       "<table border=\"1\" class=\"dataframe\">\n",
       "  <thead>\n",
       "    <tr style=\"text-align: right;\">\n",
       "      <th></th>\n",
       "      <th>Percent</th>\n",
       "    </tr>\n",
       "    <tr>\n",
       "      <th>Male defendants</th>\n",
       "      <th></th>\n",
       "    </tr>\n",
       "  </thead>\n",
       "  <tbody>\n",
       "    <tr>\n",
       "      <td>FP rate</td>\n",
       "      <td>32.420091</td>\n",
       "    </tr>\n",
       "    <tr>\n",
       "      <td>FN rate</td>\n",
       "      <td>37.086814</td>\n",
       "    </tr>\n",
       "    <tr>\n",
       "      <td>PPV</td>\n",
       "      <td>63.536317</td>\n",
       "    </tr>\n",
       "    <tr>\n",
       "      <td>NPV</td>\n",
       "      <td>66.989977</td>\n",
       "    </tr>\n",
       "    <tr>\n",
       "      <td>Prevalence</td>\n",
       "      <td>47.310534</td>\n",
       "    </tr>\n",
       "  </tbody>\n",
       "</table>\n",
       "</div>"
      ],
      "text/plain": [
       "                   Percent\n",
       "Male defendants           \n",
       "FP rate          32.420091\n",
       "FN rate          37.086814\n",
       "PPV              63.536317\n",
       "NPV              66.989977\n",
       "Prevalence       47.310534"
      ]
     },
     "execution_count": 21,
     "metadata": {},
     "output_type": "execute_result"
    }
   ],
   "source": [
    "metrics_male = compute_metrics(matrix_male, \n",
    "                                'Male defendants')\n",
    "metrics_male"
   ]
  },
  {
   "cell_type": "code",
   "execution_count": 22,
   "metadata": {},
   "outputs": [
    {
     "data": {
      "text/html": [
       "<div>\n",
       "<style scoped>\n",
       "    .dataframe tbody tr th:only-of-type {\n",
       "        vertical-align: middle;\n",
       "    }\n",
       "\n",
       "    .dataframe tbody tr th {\n",
       "        vertical-align: top;\n",
       "    }\n",
       "\n",
       "    .dataframe thead th {\n",
       "        text-align: right;\n",
       "    }\n",
       "</style>\n",
       "<table border=\"1\" class=\"dataframe\">\n",
       "  <thead>\n",
       "    <tr style=\"text-align: right;\">\n",
       "      <th></th>\n",
       "      <th>Percent</th>\n",
       "    </tr>\n",
       "    <tr>\n",
       "      <th>Female defendants</th>\n",
       "      <th></th>\n",
       "    </tr>\n",
       "  </thead>\n",
       "  <tbody>\n",
       "    <tr>\n",
       "      <td>FP rate</td>\n",
       "      <td>32.107023</td>\n",
       "    </tr>\n",
       "    <tr>\n",
       "      <td>FN rate</td>\n",
       "      <td>39.156627</td>\n",
       "    </tr>\n",
       "    <tr>\n",
       "      <td>PPV</td>\n",
       "      <td>51.269036</td>\n",
       "    </tr>\n",
       "    <tr>\n",
       "      <td>NPV</td>\n",
       "      <td>75.746269</td>\n",
       "    </tr>\n",
       "    <tr>\n",
       "      <td>Prevalence</td>\n",
       "      <td>35.698925</td>\n",
       "    </tr>\n",
       "  </tbody>\n",
       "</table>\n",
       "</div>"
      ],
      "text/plain": [
       "                     Percent\n",
       "Female defendants           \n",
       "FP rate            32.107023\n",
       "FN rate            39.156627\n",
       "PPV                51.269036\n",
       "NPV                75.746269\n",
       "Prevalence         35.698925"
      ]
     },
     "execution_count": 22,
     "metadata": {},
     "output_type": "execute_result"
    }
   ],
   "source": [
    "metrics_female = compute_metrics(matrix_female, \n",
    "                                'Female defendants')\n",
    "metrics_female"
   ]
  },
  {
   "cell_type": "markdown",
   "metadata": {},
   "source": [
    "The rate of recidivism (prevalence) is substantially higher for male defendants.\n",
    "\n",
    "Nevertheless, the error rates for the two groups are about the same.\n",
    "\n",
    "As a result, the predictive values for the two groups are substantially different:\n",
    "\n",
    "* PPV: Women classified as high risk are less likely to be charged with another crime, compared to high-risk men (51% vs 64%).\n",
    "\n",
    "* NPV: Women classified as low risk are more likely to \"survive\" two years without a new charge, compared to low-risk men (76% vs 67%).\n",
    "\n",
    "To the degree that COMPAS scores are used to decide which defendants are incarcerated, those decisions \n",
    "\n",
    "* Are unfair to women.\n",
    "\n",
    "* Are less effective than they could be, if they incarcerate lower-risk women while allowing higher-risk men to go free."
   ]
  },
  {
   "cell_type": "markdown",
   "metadata": {},
   "source": [
    "## AUC\n",
    "\n",
    "From [How We Analyzed the COMPAS Recidivism Algorithm](https://www.propublica.org/article/how-we-analyzed-the-compas-recidivism-algorithm)\n",
    "\n",
    "> Both results are lower than what Northpointe describes as a threshold for reliability. “A rule of thumb according to several recent articles is that AUCs of .70 or above typically indicate satisfactory predictive accuracy, and measures between .60 and .70 suggest low to moderate predictive accuracy,” the company says in its study."
   ]
  },
  {
   "cell_type": "markdown",
   "metadata": {},
   "source": [
    "## ROC\n",
    "\n",
    "One way to do that is to adjust the threshold so the error rates are the same in both groups.\n",
    "\n",
    "The following function loops through the possible threshold for the low and high risk groups.  For each threshold, it makes the confusion matrix and computes sensitivity and specificity."
   ]
  },
  {
   "cell_type": "code",
   "execution_count": 55,
   "metadata": {},
   "outputs": [
    {
     "name": "stdout",
     "output_type": "stream",
     "text": [
      "1 (85.30020703933747, 36.223118279569896)\n",
      "2 (73.6024844720497, 52.88978494623656)\n",
      "3 (63.975155279503106, 64.98655913978494)\n",
      "4 (52.27743271221532, 76.54569892473118)\n",
      "5 (40.78674948240166, 85.28225806451613)\n",
      "6 (29.296066252587995, 90.86021505376344)\n",
      "7 (20.18633540372671, 94.55645161290323)\n",
      "8 (11.697722567287784, 96.70698924731182)\n",
      "9 (4.658385093167702, 98.72311827956989)\n"
     ]
    }
   ],
   "source": [
    "thresholds = range(1, 10)\n",
    "for threshold in thresholds:\n",
    "    matrix = make_matrix(cp, white, threshold)\n",
    "    t = sens_spec(matrix)\n",
    "    print(threshold, t)"
   ]
  },
  {
   "cell_type": "markdown",
   "metadata": {},
   "source": [
    "When the threshold is low, almost everyone is in the high risk group; in that case:\n",
    "\n",
    "* Sensitivity is high because most recidivists are in the high risk group, but \n",
    "\n",
    "* Specificity is low because most non-recidivists are *also* in the high risk group.\n",
    "\n",
    "When the threshold is high, almost everyone is in the low risk group, and the metrics are the other way around:\n",
    "\n",
    "* Sensitivity is low because most recidivists are in the low risk group, but\n",
    "\n",
    "* Specificity is high because most non-recidivists are *also* in the low risk group.\n",
    "\n",
    "One way to visualize these results is to plot sensitivity versus FPR (which is the complement of specificity) for a range of thresholds.  For historical reasons, the result is called a [receiver operating characteristic (ROC) curve](https://en.wikipedia.org/wiki/Receiver_operating_characteristic).\n",
    "\n",
    "The following function computes the ROC curve for a given subset of the data:"
   ]
  },
  {
   "cell_type": "code",
   "execution_count": 56,
   "metadata": {},
   "outputs": [],
   "source": [
    "def make_roc(cp, group):\n",
    "\n",
    "    thresholds = range(1, 10)\n",
    "    roc = pd.DataFrame(index=thresholds, \n",
    "                   columns=['sens', 'spec'])\n",
    "\n",
    "    for threshold in thresholds:\n",
    "        matrix = make_matrix(cp, group, threshold)\n",
    "        roc.loc[threshold] = sens_spec(matrix)\n",
    "    \n",
    "    roc['fpr'] = 100 - roc['spec']\n",
    "    \n",
    "    return roc"
   ]
  },
  {
   "cell_type": "code",
   "execution_count": 57,
   "metadata": {},
   "outputs": [
    {
     "data": {
      "text/html": [
       "<div>\n",
       "<style scoped>\n",
       "    .dataframe tbody tr th:only-of-type {\n",
       "        vertical-align: middle;\n",
       "    }\n",
       "\n",
       "    .dataframe tbody tr th {\n",
       "        vertical-align: top;\n",
       "    }\n",
       "\n",
       "    .dataframe thead th {\n",
       "        text-align: right;\n",
       "    }\n",
       "</style>\n",
       "<table border=\"1\" class=\"dataframe\">\n",
       "  <thead>\n",
       "    <tr style=\"text-align: right;\">\n",
       "      <th></th>\n",
       "      <th>sens</th>\n",
       "      <th>spec</th>\n",
       "      <th>fpr</th>\n",
       "    </tr>\n",
       "  </thead>\n",
       "  <tbody>\n",
       "    <tr>\n",
       "      <th>1</th>\n",
       "      <td>85.3002</td>\n",
       "      <td>36.2231</td>\n",
       "      <td>63.7769</td>\n",
       "    </tr>\n",
       "    <tr>\n",
       "      <th>2</th>\n",
       "      <td>73.6025</td>\n",
       "      <td>52.8898</td>\n",
       "      <td>47.1102</td>\n",
       "    </tr>\n",
       "    <tr>\n",
       "      <th>3</th>\n",
       "      <td>63.9752</td>\n",
       "      <td>64.9866</td>\n",
       "      <td>35.0134</td>\n",
       "    </tr>\n",
       "    <tr>\n",
       "      <th>4</th>\n",
       "      <td>52.2774</td>\n",
       "      <td>76.5457</td>\n",
       "      <td>23.4543</td>\n",
       "    </tr>\n",
       "    <tr>\n",
       "      <th>5</th>\n",
       "      <td>40.7867</td>\n",
       "      <td>85.2823</td>\n",
       "      <td>14.7177</td>\n",
       "    </tr>\n",
       "    <tr>\n",
       "      <th>6</th>\n",
       "      <td>29.2961</td>\n",
       "      <td>90.8602</td>\n",
       "      <td>9.13978</td>\n",
       "    </tr>\n",
       "    <tr>\n",
       "      <th>7</th>\n",
       "      <td>20.1863</td>\n",
       "      <td>94.5565</td>\n",
       "      <td>5.44355</td>\n",
       "    </tr>\n",
       "    <tr>\n",
       "      <th>8</th>\n",
       "      <td>11.6977</td>\n",
       "      <td>96.707</td>\n",
       "      <td>3.29301</td>\n",
       "    </tr>\n",
       "    <tr>\n",
       "      <th>9</th>\n",
       "      <td>4.65839</td>\n",
       "      <td>98.7231</td>\n",
       "      <td>1.27688</td>\n",
       "    </tr>\n",
       "  </tbody>\n",
       "</table>\n",
       "</div>"
      ],
      "text/plain": [
       "      sens     spec      fpr\n",
       "1  85.3002  36.2231  63.7769\n",
       "2  73.6025  52.8898  47.1102\n",
       "3  63.9752  64.9866  35.0134\n",
       "4  52.2774  76.5457  23.4543\n",
       "5  40.7867  85.2823  14.7177\n",
       "6  29.2961  90.8602  9.13978\n",
       "7  20.1863  94.5565  5.44355\n",
       "8  11.6977   96.707  3.29301\n",
       "9  4.65839  98.7231  1.27688"
      ]
     },
     "execution_count": 57,
     "metadata": {},
     "output_type": "execute_result"
    }
   ],
   "source": [
    "roc_white = make_roc(cp, white)\n",
    "roc_white"
   ]
  },
  {
   "cell_type": "code",
   "execution_count": 58,
   "metadata": {},
   "outputs": [
    {
     "data": {
      "text/html": [
       "<div>\n",
       "<style scoped>\n",
       "    .dataframe tbody tr th:only-of-type {\n",
       "        vertical-align: middle;\n",
       "    }\n",
       "\n",
       "    .dataframe tbody tr th {\n",
       "        vertical-align: top;\n",
       "    }\n",
       "\n",
       "    .dataframe thead th {\n",
       "        text-align: right;\n",
       "    }\n",
       "</style>\n",
       "<table border=\"1\" class=\"dataframe\">\n",
       "  <thead>\n",
       "    <tr style=\"text-align: right;\">\n",
       "      <th></th>\n",
       "      <th>sens</th>\n",
       "      <th>spec</th>\n",
       "      <th>fpr</th>\n",
       "    </tr>\n",
       "  </thead>\n",
       "  <tbody>\n",
       "    <tr>\n",
       "      <th>1</th>\n",
       "      <td>95.213</td>\n",
       "      <td>17.1031</td>\n",
       "      <td>82.8969</td>\n",
       "    </tr>\n",
       "    <tr>\n",
       "      <th>2</th>\n",
       "      <td>88.9532</td>\n",
       "      <td>32.3677</td>\n",
       "      <td>67.6323</td>\n",
       "    </tr>\n",
       "    <tr>\n",
       "      <th>3</th>\n",
       "      <td>81.3256</td>\n",
       "      <td>43.5655</td>\n",
       "      <td>56.4345</td>\n",
       "    </tr>\n",
       "    <tr>\n",
       "      <th>4</th>\n",
       "      <td>72.0147</td>\n",
       "      <td>55.1532</td>\n",
       "      <td>44.8468</td>\n",
       "    </tr>\n",
       "    <tr>\n",
       "      <th>5</th>\n",
       "      <td>62.7564</td>\n",
       "      <td>65.6825</td>\n",
       "      <td>34.3175</td>\n",
       "    </tr>\n",
       "    <tr>\n",
       "      <th>6</th>\n",
       "      <td>51.4466</td>\n",
       "      <td>75.0975</td>\n",
       "      <td>24.9025</td>\n",
       "    </tr>\n",
       "    <tr>\n",
       "      <th>7</th>\n",
       "      <td>38.9795</td>\n",
       "      <td>84.1783</td>\n",
       "      <td>15.8217</td>\n",
       "    </tr>\n",
       "    <tr>\n",
       "      <th>8</th>\n",
       "      <td>26.0915</td>\n",
       "      <td>90.5292</td>\n",
       "      <td>9.47075</td>\n",
       "    </tr>\n",
       "    <tr>\n",
       "      <th>9</th>\n",
       "      <td>11.9411</td>\n",
       "      <td>96.7131</td>\n",
       "      <td>3.28691</td>\n",
       "    </tr>\n",
       "  </tbody>\n",
       "</table>\n",
       "</div>"
      ],
      "text/plain": [
       "      sens     spec      fpr\n",
       "1   95.213  17.1031  82.8969\n",
       "2  88.9532  32.3677  67.6323\n",
       "3  81.3256  43.5655  56.4345\n",
       "4  72.0147  55.1532  44.8468\n",
       "5  62.7564  65.6825  34.3175\n",
       "6  51.4466  75.0975  24.9025\n",
       "7  38.9795  84.1783  15.8217\n",
       "8  26.0915  90.5292  9.47075\n",
       "9  11.9411  96.7131  3.28691"
      ]
     },
     "execution_count": 58,
     "metadata": {},
     "output_type": "execute_result"
    }
   ],
   "source": [
    "roc_black = make_roc(cp, black)\n",
    "roc_black"
   ]
  },
  {
   "cell_type": "code",
   "execution_count": 59,
   "metadata": {},
   "outputs": [],
   "source": [
    "def plot_roc(roc):\n",
    "    plt.plot(roc['fpr'], roc['sens'])"
   ]
  },
  {
   "cell_type": "code",
   "execution_count": 60,
   "metadata": {
    "scrolled": true
   },
   "outputs": [
    {
     "data": {
      "image/png": "[encoded data removed]",
      "text/plain": [
       "<Figure size 432x288 with 1 Axes>"
      ]
     },
     "metadata": {
      "needs_background": "light"
     },
     "output_type": "display_data"
    }
   ],
   "source": [
    "plot_roc(roc_white)\n",
    "plot_roc(roc_black)"
   ]
  },
  {
   "cell_type": "markdown",
   "metadata": {},
   "source": [
    "The following function takes `ppv`, `npv`, and `prev` and uses the expressions from `soln1` to compute a confusion matrix with those metrics."
   ]
  },
  {
   "cell_type": "code",
   "execution_count": 201,
   "metadata": {},
   "outputs": [],
   "source": [
    "def constant_predictive_value(ppv, npv, prev):\n",
    "    \"\"\"Make a confusion matrix with given metrics.\n",
    "    \n",
    "    ppv: positive predictive value\n",
    "    npv: negative predictive value\n",
    "    prev: prevalence\n",
    "    \n",
    "    returns: confusion matrix\n",
    "    \"\"\"\n",
    "    ppv /= 100\n",
    "    npv /= 100\n",
    "    prev /= 100\n",
    "    a = np.array((ppv*(npv + prev - 1)/(npv + ppv - 1),\n",
    "                -(ppv - 1)*(npv + prev - 1)/(npv + ppv - 1),\n",
    "                -(npv - 1)*(ppv - prev)/(npv + ppv - 1),\n",
    "                npv*(ppv - prev)/(npv + ppv - 1)))\n",
    "    \n",
    "    return pd.DataFrame(a.reshape((2, 2)))"
   ]
  },
  {
   "cell_type": "code",
   "execution_count": 202,
   "metadata": {},
   "outputs": [
    {
     "data": {
      "text/html": [
       "<div>\n",
       "<style scoped>\n",
       "    .dataframe tbody tr th:only-of-type {\n",
       "        vertical-align: middle;\n",
       "    }\n",
       "\n",
       "    .dataframe tbody tr th {\n",
       "        vertical-align: top;\n",
       "    }\n",
       "\n",
       "    .dataframe thead th {\n",
       "        text-align: right;\n",
       "    }\n",
       "</style>\n",
       "<table border=\"1\" class=\"dataframe\">\n",
       "  <thead>\n",
       "    <tr style=\"text-align: right;\">\n",
       "      <th></th>\n",
       "      <th>Percent</th>\n",
       "    </tr>\n",
       "    <tr>\n",
       "      <th>All defendants</th>\n",
       "      <th></th>\n",
       "    </tr>\n",
       "  </thead>\n",
       "  <tbody>\n",
       "    <tr>\n",
       "      <th>FP rate</th>\n",
       "      <td>32.349230</td>\n",
       "    </tr>\n",
       "    <tr>\n",
       "      <th>FN rate</th>\n",
       "      <td>37.403876</td>\n",
       "    </tr>\n",
       "    <tr>\n",
       "      <th>PPV</th>\n",
       "      <td>61.350618</td>\n",
       "    </tr>\n",
       "    <tr>\n",
       "      <th>NPV</th>\n",
       "      <td>68.796510</td>\n",
       "    </tr>\n",
       "    <tr>\n",
       "      <th>Prevalence</th>\n",
       "      <td>45.065151</td>\n",
       "    </tr>\n",
       "  </tbody>\n",
       "</table>\n",
       "</div>"
      ],
      "text/plain": [
       "                  Percent\n",
       "All defendants           \n",
       "FP rate         32.349230\n",
       "FN rate         37.403876\n",
       "PPV             61.350618\n",
       "NPV             68.796510\n",
       "Prevalence      45.065151"
      ]
     },
     "execution_count": 202,
     "metadata": {},
     "output_type": "execute_result"
    }
   ],
   "source": [
    "all_defendants = np.ones_like(white)\n",
    "matrix_all = make_matrix(cp, all_defendants)\n",
    "metrics_all = compute_metrics(matrix_all, 'All defendants')\n",
    "metrics_all"
   ]
  },
  {
   "cell_type": "markdown",
   "metadata": {},
   "source": [
    "I'll extract PPV, NPV, and prevalence."
   ]
  },
  {
   "cell_type": "code",
   "execution_count": 218,
   "metadata": {},
   "outputs": [],
   "source": [
    "ppv, npv = predictive_value(matrix_all)\n",
    "prev = prevalence(matrix_all)"
   ]
  },
  {
   "cell_type": "markdown",
   "metadata": {},
   "source": [
    "Given those values, we can reconstruct the confusion matrix and compute the metrics again."
   ]
  },
  {
   "cell_type": "code",
   "execution_count": 206,
   "metadata": {},
   "outputs": [
    {
     "data": {
      "text/plain": [
       "51.433982683982684"
      ]
     },
     "execution_count": 206,
     "metadata": {},
     "output_type": "execute_result"
    }
   ],
   "source": [
    "prev = metrics_black['Percent']['Prevalence']\n",
    "prev"
   ]
  },
  {
   "cell_type": "markdown",
   "metadata": {},
   "source": [
    "Using this prevalence, and holding PPV and NPV constant, we can compute error rates:"
   ]
  },
  {
   "cell_type": "code",
   "execution_count": 207,
   "metadata": {},
   "outputs": [
    {
     "data": {
      "text/plain": [
       "(53.40360542740529, 19.955904234916293)"
      ]
     },
     "execution_count": 207,
     "metadata": {},
     "output_type": "execute_result"
    }
   ],
   "source": [
    "matrix = constant_predictive_value(ppv, npv, prev)\n",
    "error_rates(matrix)"
   ]
  },
  {
   "cell_type": "markdown",
   "metadata": {},
   "source": [
    "FPR is substantially higher, and FNR substantially lower, compared to the error rates with lower prevalence.\n",
    "\n",
    "We can do the same analysis for white defendants."
   ]
  },
  {
   "cell_type": "code",
   "execution_count": 208,
   "metadata": {},
   "outputs": [],
   "source": [
    "prev = metrics_white['Percent']['Prevalence']"
   ]
  },
  {
   "cell_type": "code",
   "execution_count": 209,
   "metadata": {},
   "outputs": [
    {
     "data": {
      "text/plain": [
       "(17.254472103643895, 57.81054940714234)"
      ]
     },
     "execution_count": 209,
     "metadata": {},
     "output_type": "execute_result"
    }
   ],
   "source": [
    "matrix = constant_predictive_value(ppv, npv, prev)\n",
    "error_rates(matrix)"
   ]
  },
  {
   "cell_type": "markdown",
   "metadata": {},
   "source": [
    "When prevalence is lower, the false positive rate is higher and the false negative rate lower."
   ]
  },
  {
   "cell_type": "code",
   "execution_count": 210,
   "metadata": {},
   "outputs": [
    {
     "data": {
      "text/html": [
       "<div>\n",
       "<style scoped>\n",
       "    .dataframe tbody tr th:only-of-type {\n",
       "        vertical-align: middle;\n",
       "    }\n",
       "\n",
       "    .dataframe tbody tr th {\n",
       "        vertical-align: top;\n",
       "    }\n",
       "\n",
       "    .dataframe thead th {\n",
       "        text-align: right;\n",
       "    }\n",
       "</style>\n",
       "<table border=\"1\" class=\"dataframe\">\n",
       "  <thead>\n",
       "    <tr style=\"text-align: right;\">\n",
       "      <th></th>\n",
       "      <th>fpr</th>\n",
       "      <th>fnr</th>\n",
       "    </tr>\n",
       "  </thead>\n",
       "  <tbody>\n",
       "    <tr>\n",
       "      <th>35.0</th>\n",
       "      <td>7.488034</td>\n",
       "      <td>77.925569</td>\n",
       "    </tr>\n",
       "    <tr>\n",
       "      <th>37.0</th>\n",
       "      <td>11.795671</td>\n",
       "      <td>68.118564</td>\n",
       "    </tr>\n",
       "    <tr>\n",
       "      <th>39.0</th>\n",
       "      <td>16.385776</td>\n",
       "      <td>59.317406</td>\n",
       "    </tr>\n",
       "    <tr>\n",
       "      <th>41.0</th>\n",
       "      <td>21.287075</td>\n",
       "      <td>51.374897</td>\n",
       "    </tr>\n",
       "    <tr>\n",
       "      <th>43.0</th>\n",
       "      <td>26.532324</td>\n",
       "      <td>44.171227</td>\n",
       "    </tr>\n",
       "    <tr>\n",
       "      <th>45.0</th>\n",
       "      <td>32.159046</td>\n",
       "      <td>37.607882</td>\n",
       "    </tr>\n",
       "    <tr>\n",
       "      <th>47.0</th>\n",
       "      <td>38.210427</td>\n",
       "      <td>31.603121</td>\n",
       "    </tr>\n",
       "    <tr>\n",
       "      <th>49.0</th>\n",
       "      <td>44.736425</td>\n",
       "      <td>26.088543</td>\n",
       "    </tr>\n",
       "    <tr>\n",
       "      <th>51.0</th>\n",
       "      <td>51.795158</td>\n",
       "      <td>21.006482</td>\n",
       "    </tr>\n",
       "    <tr>\n",
       "      <th>53.0</th>\n",
       "      <td>59.454634</td>\n",
       "      <td>16.307973</td>\n",
       "    </tr>\n",
       "    <tr>\n",
       "      <th>55.0</th>\n",
       "      <td>67.794953</td>\n",
       "      <td>11.951173</td>\n",
       "    </tr>\n",
       "  </tbody>\n",
       "</table>\n",
       "</div>"
      ],
      "text/plain": [
       "            fpr        fnr\n",
       "35.0   7.488034  77.925569\n",
       "37.0  11.795671  68.118564\n",
       "39.0  16.385776  59.317406\n",
       "41.0  21.287075  51.374897\n",
       "43.0  26.532324  44.171227\n",
       "45.0  32.159046  37.607882\n",
       "47.0  38.210427  31.603121\n",
       "49.0  44.736425  26.088543\n",
       "51.0  51.795158  21.006482\n",
       "53.0  59.454634  16.307973\n",
       "55.0  67.794953  11.951173"
      ]
     },
     "execution_count": 210,
     "metadata": {},
     "output_type": "execute_result"
    }
   ],
   "source": [
    "ppv, npv = predictive_value(matrix_all)\n",
    "prevalences = np.linspace(35, 55, 11)\n",
    "\n",
    "pred_er = pd.DataFrame(columns=['fpr', 'fnr'])\n",
    "\n",
    "for prev in prevalences:\n",
    "    m = constant_predictive_value(ppv, npv, prev)\n",
    "    pred_er.loc[prev] = error_rates(m)\n",
    "    \n",
    "pred_er"
   ]
  },
  {
   "cell_type": "markdown",
   "metadata": {},
   "source": [
    "The following figure shows the error rates we would expect from a test with equal predictive value for all groups, regardless of prevalence."
   ]
  },
  {
   "cell_type": "code",
   "execution_count": 211,
   "metadata": {},
   "outputs": [],
   "source": [
    "def plot_cpv_model(pred_er):\n",
    "    \"\"\"Plot error rates with constant predictive values.\n",
    "    \n",
    "    pred_er: DataFrame of predicted error rates\n",
    "    \"\"\"\n",
    "    pred_er['fpr'].plot(label='Predicted FPR', color='C2')\n",
    "    pred_er['fnr'].plot(label='Predicted FNR', color='C4')\n",
    "    decorate(xlabel='Prevalence', ylabel='Percent',\n",
    "             title='Error rates, constant predictive value')"
   ]
  },
  {
   "cell_type": "code",
   "execution_count": 213,
   "metadata": {},
   "outputs": [
    {
     "data": {
      "text/html": [
       "<div>\n",
       "<style scoped>\n",
       "    .dataframe tbody tr th:only-of-type {\n",
       "        vertical-align: middle;\n",
       "    }\n",
       "\n",
       "    .dataframe tbody tr th {\n",
       "        vertical-align: top;\n",
       "    }\n",
       "\n",
       "    .dataframe thead th {\n",
       "        text-align: right;\n",
       "    }\n",
       "</style>\n",
       "<table border=\"1\" class=\"dataframe\">\n",
       "  <thead>\n",
       "    <tr style=\"text-align: right;\">\n",
       "      <th></th>\n",
       "      <th>fpr</th>\n",
       "      <th>fnr</th>\n",
       "    </tr>\n",
       "  </thead>\n",
       "  <tbody>\n",
       "    <tr>\n",
       "      <th>39.364303</th>\n",
       "      <td>23.454301</td>\n",
       "      <td>47.722567</td>\n",
       "    </tr>\n",
       "    <tr>\n",
       "      <th>45.065151</th>\n",
       "      <td>32.349230</td>\n",
       "      <td>37.403876</td>\n",
       "    </tr>\n",
       "    <tr>\n",
       "      <th>51.433983</th>\n",
       "      <td>44.846797</td>\n",
       "      <td>27.985271</td>\n",
       "    </tr>\n",
       "  </tbody>\n",
       "</table>\n",
       "</div>"
      ],
      "text/plain": [
       "                 fpr        fnr\n",
       "39.364303  23.454301  47.722567\n",
       "45.065151  32.349230  37.403876\n",
       "51.433983  44.846797  27.985271"
      ]
     },
     "execution_count": 213,
     "metadata": {},
     "output_type": "execute_result"
    }
   ],
   "source": [
    "actual_er = pd.DataFrame(columns=['fpr', 'fnr'])\n",
    "\n",
    "for m in (matrix_white, matrix_all, matrix_black):\n",
    "    prev = prevalence(m)\n",
    "    actual_er.loc[prev] = error_rates(m)\n",
    "    \n",
    "actual_er"
   ]
  },
  {
   "cell_type": "code",
   "execution_count": 215,
   "metadata": {},
   "outputs": [
    {
     "data": {
      "image/png": "[encoded data removed]",
      "text/plain": [
       "<Figure size 432x288 with 1 Axes>"
      ]
     },
     "metadata": {
      "needs_background": "light"
     },
     "output_type": "display_data"
    }
   ],
   "source": [
    "plot_cpv_model(pred_er)\n",
    "\n",
    "actual_er['fpr'].plot(marker='o', linestyle='dotted', color='C2',\n",
    "                      label='COMPAS FPR')\n",
    "\n",
    "actual_er['fnr'].plot(marker='o', linestyle='dotted', color='C4',\n",
    "                      label='COMPAS FNR')\n",
    "\n",
    "plt.legend();"
   ]
  },
  {
   "cell_type": "markdown",
   "metadata": {},
   "source": [
    "## Constant error rate model\n",
    "\n",
    "In the previous section we held predictive value constant and computed the effect on error rates.  In this section we'll go the other way: if we hold error rates constant for all groups, what effect does that have on predictive value?\n",
    "\n",
    "The following function takes prevalence and error rates and returns a confusion matrix.\n",
    "\n"
   ]
  },
  {
   "cell_type": "code",
   "execution_count": 226,
   "metadata": {},
   "outputs": [],
   "source": [
    "def constant_error_rates(fpr, fnr, prev):\n",
    "    \"\"\"Make a confusion matrix with given metrics.\n",
    "    \n",
    "    fpr: false positive rate\n",
    "    fnr: false negative rate\n",
    "    prev: prevalence\n",
    "    \n",
    "    returns: confusion matrix\n",
    "    \"\"\"\n",
    "    prev /= 100\n",
    "    fpr /= 100\n",
    "    fnr /= 100\n",
    "    a = [[prev*(1 - fnr),  fpr*(1 - prev)],\n",
    "         [fnr*prev,       (fpr - 1)*(prev - 1)]]\n",
    "    \n",
    "    return pd.DataFrame(a)"
   ]
  },
  {
   "cell_type": "markdown",
   "metadata": {},
   "source": [
    "To test it, we can extract metrics for all defendants:"
   ]
  },
  {
   "cell_type": "code",
   "execution_count": 227,
   "metadata": {},
   "outputs": [],
   "source": [
    "fpr, fnr = error_rates(matrix_all)\n",
    "prev = prevalence(matrix_all)"
   ]
  },
  {
   "cell_type": "markdown",
   "metadata": {},
   "source": [
    "Now we can see how predictive value depends on prevalence (with error rates held constant)."
   ]
  },
  {
   "cell_type": "code",
   "execution_count": 231,
   "metadata": {},
   "outputs": [
    {
     "data": {
      "text/html": [
       "<div>\n",
       "<style scoped>\n",
       "    .dataframe tbody tr th:only-of-type {\n",
       "        vertical-align: middle;\n",
       "    }\n",
       "\n",
       "    .dataframe tbody tr th {\n",
       "        vertical-align: top;\n",
       "    }\n",
       "\n",
       "    .dataframe thead th {\n",
       "        text-align: right;\n",
       "    }\n",
       "</style>\n",
       "<table border=\"1\" class=\"dataframe\">\n",
       "  <thead>\n",
       "    <tr style=\"text-align: right;\">\n",
       "      <th></th>\n",
       "      <th>ppv</th>\n",
       "      <th>npv</th>\n",
       "    </tr>\n",
       "  </thead>\n",
       "  <tbody>\n",
       "    <tr>\n",
       "      <th>35.0</th>\n",
       "      <td>51.026704</td>\n",
       "      <td>77.058610</td>\n",
       "    </tr>\n",
       "    <tr>\n",
       "      <th>38.0</th>\n",
       "      <td>54.253815</td>\n",
       "      <td>74.689735</td>\n",
       "    </tr>\n",
       "    <tr>\n",
       "      <th>41.0</th>\n",
       "      <td>57.350053</td>\n",
       "      <td>72.243048</td>\n",
       "    </tr>\n",
       "    <tr>\n",
       "      <th>44.0</th>\n",
       "      <td>60.323222</td>\n",
       "      <td>69.714652</td>\n",
       "    </tr>\n",
       "    <tr>\n",
       "      <th>47.0</th>\n",
       "      <td>63.180516</td>\n",
       "      <td>67.100383</td>\n",
       "    </tr>\n",
       "    <tr>\n",
       "      <th>50.0</th>\n",
       "      <td>65.928580</td>\n",
       "      <td>64.395791</td>\n",
       "    </tr>\n",
       "    <tr>\n",
       "      <th>53.0</th>\n",
       "      <td>68.573560</td>\n",
       "      <td>61.596113</td>\n",
       "    </tr>\n",
       "    <tr>\n",
       "      <th>56.0</th>\n",
       "      <td>71.121148</td>\n",
       "      <td>58.696245</td>\n",
       "    </tr>\n",
       "    <tr>\n",
       "      <th>59.0</th>\n",
       "      <td>73.576628</td>\n",
       "      <td>55.690711</td>\n",
       "    </tr>\n",
       "    <tr>\n",
       "      <th>62.0</th>\n",
       "      <td>75.944906</td>\n",
       "      <td>52.573628</td>\n",
       "    </tr>\n",
       "    <tr>\n",
       "      <th>65.0</th>\n",
       "      <td>78.230545</td>\n",
       "      <td>49.338668</td>\n",
       "    </tr>\n",
       "  </tbody>\n",
       "</table>\n",
       "</div>"
      ],
      "text/plain": [
       "            ppv        npv\n",
       "35.0  51.026704  77.058610\n",
       "38.0  54.253815  74.689735\n",
       "41.0  57.350053  72.243048\n",
       "44.0  60.323222  69.714652\n",
       "47.0  63.180516  67.100383\n",
       "50.0  65.928580  64.395791\n",
       "53.0  68.573560  61.596113\n",
       "56.0  71.121148  58.696245\n",
       "59.0  73.576628  55.690711\n",
       "62.0  75.944906  52.573628\n",
       "65.0  78.230545  49.338668"
      ]
     },
     "execution_count": 231,
     "metadata": {},
     "output_type": "execute_result"
    }
   ],
   "source": [
    "fpr, fnr = error_rates(matrix_all)\n",
    "prevalences = np.linspace(35, 65, 11)\n",
    "\n",
    "pred_pv = pd.DataFrame(columns=['ppv', 'npv'])\n",
    "\n",
    "for prev in prevalences:\n",
    "    m = constant_error_rates(fpr, fnr, prev)\n",
    "    pred_pv.loc[prev] = predictive_value(m)\n",
    "    \n",
    "pred_pv"
   ]
  },
  {
   "cell_type": "markdown",
   "metadata": {},
   "source": [
    "The following function plots the results."
   ]
  },
  {
   "cell_type": "code",
   "execution_count": 246,
   "metadata": {},
   "outputs": [],
   "source": [
    "def plot_cer_model(pred_pv):\n",
    "    \"\"\"Plot error rates with constant predictive values.\n",
    "    \n",
    "    pred_er: DataFrame of predicted error rates\n",
    "    \"\"\"\n",
    "    pred_pv['ppv'].plot(label='Predicted PPV', color='C3')\n",
    "    pred_pv['npv'].plot(label='Predicted NPV', color='C9')\n",
    "    decorate(xlabel='Prevalence', ylabel='Percent',\n",
    "             title='Predictive value, constant error rates')"
   ]
  },
  {
   "cell_type": "markdown",
   "metadata": {},
   "source": [
    "If we hold error rates constant and increase prevalence, PPV increases and NPV decreases.\n",
    "\n",
    "For the COMPAS test, the effect is not as extreme.  The following figure shows the constant error rate model again, along with actual predictive values for white defendants (left), all defendants (middle), and black defendants (right)."
   ]
  },
  {
   "cell_type": "code",
   "execution_count": 248,
   "metadata": {},
   "outputs": [
    {
     "data": {
      "text/html": [
       "<div>\n",
       "<style scoped>\n",
       "    .dataframe tbody tr th:only-of-type {\n",
       "        vertical-align: middle;\n",
       "    }\n",
       "\n",
       "    .dataframe tbody tr th {\n",
       "        vertical-align: top;\n",
       "    }\n",
       "\n",
       "    .dataframe thead th {\n",
       "        text-align: right;\n",
       "    }\n",
       "</style>\n",
       "<table border=\"1\" class=\"dataframe\">\n",
       "  <thead>\n",
       "    <tr style=\"text-align: right;\">\n",
       "      <th></th>\n",
       "      <th>ppv</th>\n",
       "      <th>npv</th>\n",
       "    </tr>\n",
       "  </thead>\n",
       "  <tbody>\n",
       "    <tr>\n",
       "      <th>39.364303</th>\n",
       "      <td>59.133489</td>\n",
       "      <td>71.187500</td>\n",
       "    </tr>\n",
       "    <tr>\n",
       "      <th>45.065151</th>\n",
       "      <td>61.350618</td>\n",
       "      <td>68.796510</td>\n",
       "    </tr>\n",
       "    <tr>\n",
       "      <th>51.433983</th>\n",
       "      <td>62.971481</td>\n",
       "      <td>65.045992</td>\n",
       "    </tr>\n",
       "  </tbody>\n",
       "</table>\n",
       "</div>"
      ],
      "text/plain": [
       "                 ppv        npv\n",
       "39.364303  59.133489  71.187500\n",
       "45.065151  61.350618  68.796510\n",
       "51.433983  62.971481  65.045992"
      ]
     },
     "execution_count": 248,
     "metadata": {},
     "output_type": "execute_result"
    }
   ],
   "source": [
    "actual_pv = pd.DataFrame(columns=['ppv', 'npv'])\n",
    "\n",
    "for m in (matrix_white, matrix_all, matrix_black):\n",
    "    prev = prevalence(m)\n",
    "    actual_pv.loc[prev] = predictive_value(m)\n",
    "    \n",
    "actual_pv"
   ]
  },
  {
   "cell_type": "code",
   "execution_count": 249,
   "metadata": {},
   "outputs": [
    {
     "data": {
      "image/png": "[encoded data removed]",
      "text/plain": [
       "<Figure size 432x288 with 1 Axes>"
      ]
     },
     "metadata": {
      "needs_background": "light"
     },
     "output_type": "display_data"
    }
   ],
   "source": [
    "plot_cer_model(pred_pv)\n",
    "\n",
    "actual_pv['ppv'].plot(marker='o', linestyle='dotted', color='C3',\n",
    "                      label='COMPAS PPV')\n",
    "\n",
    "actual_pv['npv'].plot(marker='o', linestyle='dotted', color='C9',\n",
    "                      label='COMPAS NPV')\n",
    "\n",
    "plt.legend();"
   ]
  },
  {
   "cell_type": "markdown",
   "metadata": {},
   "source": [
    "Again, the test is less sensitive to differences in prevalence between groups than we would expect from the constant error rate model.\n",
    "\n"
   ]
  },
  {
   "cell_type": "markdown",
   "metadata": {},
   "source": [
    "## What's next?"
   ]
  },
  {
   "cell_type": "code",
   "execution_count": null,
   "metadata": {},
   "outputs": [],
   "source": [
    "def make_dataframe(series, *columns):\n",
    "    \"\"\"Make a Series into a DataFrame with one column.\n",
    "    \n",
    "    So it looks better in Jupyter.\n",
    "    \n",
    "    series: Series\n",
    "    columns: column name(s)\n",
    "    \n",
    "    returns: DataFrame\n",
    "    \"\"\"\n",
    "    df = pd.DataFrame(series.values,\n",
    "                      index=series.index,\n",
    "                      columns=columns)\n",
    "    df.index.name = series.name\n",
    "    return df\n",
    "\n",
    "def counts(df, var):\n",
    "    \"\"\"Compute counts for each unique value.\n",
    "    \n",
    "    df: DataFrame\n",
    "    var: variable name\n",
    "    \"\"\"\n",
    "    series = df[var].value_counts()\n",
    "    return make_dataframe(series, 'Count')\n",
    "\n",
    "def percentages(df, var):\n",
    "    \"\"\"Compute percentages for each unique value.\n",
    "    \n",
    "    df: DataFrame\n",
    "    var: variable name\n",
    "    \"\"\"\n",
    "    series = df[var].value_counts() / len(df) * 100\n",
    "    return make_dataframe(series, 'Percentage')"
   ]
  },
  {
   "cell_type": "markdown",
   "metadata": {},
   "source": [
    "Breakdown by age"
   ]
  },
  {
   "cell_type": "code",
   "execution_count": null,
   "metadata": {},
   "outputs": [],
   "source": [
    "counts(cp, 'age_cat')"
   ]
  },
  {
   "cell_type": "code",
   "execution_count": null,
   "metadata": {},
   "outputs": [],
   "source": [
    "percentages(cp, 'age_cat')"
   ]
  },
  {
   "cell_type": "markdown",
   "metadata": {},
   "source": [
    "Breakdown by race"
   ]
  },
  {
   "cell_type": "code",
   "execution_count": null,
   "metadata": {},
   "outputs": [],
   "source": [
    "counts(cp, 'race')"
   ]
  },
  {
   "cell_type": "code",
   "execution_count": null,
   "metadata": {},
   "outputs": [],
   "source": [
    "percentages(cp, 'race')"
   ]
  },
  {
   "cell_type": "markdown",
   "metadata": {},
   "source": [
    "Breakdown by sex"
   ]
  },
  {
   "cell_type": "code",
   "execution_count": null,
   "metadata": {},
   "outputs": [],
   "source": [
    "counts(cp, 'sex')"
   ]
  },
  {
   "cell_type": "code",
   "execution_count": null,
   "metadata": {},
   "outputs": [],
   "source": [
    "percentages(cp, 'sex')"
   ]
  },
  {
   "cell_type": "markdown",
   "metadata": {},
   "source": [
    "Breakdown by recidivism"
   ]
  },
  {
   "cell_type": "code",
   "execution_count": null,
   "metadata": {},
   "outputs": [],
   "source": [
    "counts(cp, 'two_year_recid')"
   ]
  },
  {
   "cell_type": "code",
   "execution_count": null,
   "metadata": {},
   "outputs": [],
   "source": [
    "percentages(cp, 'two_year_recid')"
   ]
  },
  {
   "cell_type": "markdown",
   "metadata": {},
   "source": [
    "Breakdown by risk category"
   ]
  },
  {
   "cell_type": "code",
   "execution_count": null,
   "metadata": {},
   "outputs": [],
   "source": [
    "counts(cp, 'score_text')"
   ]
  },
  {
   "cell_type": "code",
   "execution_count": null,
   "metadata": {},
   "outputs": [],
   "source": [
    "percentages(cp, 'score_text')"
   ]
  },
  {
   "cell_type": "markdown",
   "metadata": {},
   "source": [
    "The following function computes cross-tabulations."
   ]
  },
  {
   "cell_type": "code",
   "execution_count": null,
   "metadata": {},
   "outputs": [],
   "source": [
    "def crosstab(df, index, columns):\n",
    "    \"\"\"Compute a cross-tabulation.\n",
    "    \n",
    "    df: DataFrame\n",
    "    index: variable(s) that will label the rows\n",
    "    columns: variable(s) that will label the columns\n",
    "    \n",
    "    returns: DataFrame\n",
    "    \"\"\"\n",
    "\n",
    "    xtab = df.pivot_table(index=index, \n",
    "                          columns=columns,\n",
    "                          values='id',\n",
    "                          aggfunc='count')\n",
    "    \n",
    "    return xtab"
   ]
  },
  {
   "cell_type": "markdown",
   "metadata": {},
   "source": [
    "Breakdown by sex and race"
   ]
  },
  {
   "cell_type": "code",
   "execution_count": null,
   "metadata": {},
   "outputs": [],
   "source": [
    "xtab = crosstab(cp, 'sex', 'race')"
   ]
  },
  {
   "cell_type": "markdown",
   "metadata": {},
   "source": [
    "Breakdown by age and race"
   ]
  },
  {
   "cell_type": "code",
   "execution_count": null,
   "metadata": {},
   "outputs": [],
   "source": [
    "xtab = crosstab(cp, 'age_cat', 'race')"
   ]
  },
  {
   "cell_type": "markdown",
   "metadata": {},
   "source": [
    "Breakdown by age and sex"
   ]
  },
  {
   "cell_type": "code",
   "execution_count": null,
   "metadata": {},
   "outputs": [],
   "source": [
    "xtab = crosstab(cp, 'age_cat', 'sex')"
   ]
  },
  {
   "cell_type": "markdown",
   "metadata": {},
   "source": [
    "Distribution of decile scores for black defendants."
   ]
  },
  {
   "cell_type": "code",
   "execution_count": null,
   "metadata": {},
   "outputs": [],
   "source": [
    "cp.loc[cp.race=='African-American', 'decile_score'].hist()\n",
    "decorate(xlabel='Decile Score',\n",
    "         ylabel='Count',\n",
    "         title='Black defendant decile scores',\n",
    "         ylim=[0, 700])"
   ]
  },
  {
   "cell_type": "markdown",
   "metadata": {},
   "source": [
    "Distribution of decile scores for white defendants."
   ]
  },
  {
   "cell_type": "code",
   "execution_count": null,
   "metadata": {},
   "outputs": [],
   "source": [
    "cp.loc[cp.race=='Caucasian', 'decile_score'].hist()\n",
    "decorate(xlabel='Decile Score',\n",
    "         ylabel='Count',\n",
    "         title='White defendant decile scores',\n",
    "         ylim=[0, 700])"
   ]
  },
  {
   "cell_type": "markdown",
   "metadata": {},
   "source": [
    "Cross tabulation of decile score and race."
   ]
  },
  {
   "cell_type": "code",
   "execution_count": null,
   "metadata": {
    "scrolled": true
   },
   "outputs": [],
   "source": [
    "crosstab(cp, 'decile_score', 'race')"
   ]
  },
  {
   "cell_type": "markdown",
   "metadata": {},
   "source": [
    "Cross tabulation of decile score and age group."
   ]
  },
  {
   "cell_type": "code",
   "execution_count": null,
   "metadata": {
    "scrolled": true
   },
   "outputs": [],
   "source": [
    "crosstab(cp, 'decile_score', 'age_cat')"
   ]
  },
  {
   "cell_type": "markdown",
   "metadata": {},
   "source": [
    "Here's the confusion matrix with all three score categories."
   ]
  },
  {
   "cell_type": "code",
   "execution_count": null,
   "metadata": {},
   "outputs": [],
   "source": [
    "crosstab(cp, 'two_year_recid', 'score_text')"
   ]
  },
  {
   "cell_type": "markdown",
   "metadata": {},
   "source": [
    "To make sure I've got the data right, I'll reproduce the confusion matrices from the article."
   ]
  },
  {
   "cell_type": "code",
   "execution_count": null,
   "metadata": {},
   "outputs": [],
   "source": [
    "def compute_matrix(df):\n",
    "    \"\"\"Compute a confusion matrix from data.\n",
    "    \n",
    "    df: DataFrame\n",
    "    \n",
    "    returns: confusion matrix\n",
    "    \"\"\"\n",
    "    high = cp.score_text.isin(['Medium', 'High']).astype(int)\n",
    "    return crosstab(df, 'two_year_recid', high)"
   ]
  },
  {
   "cell_type": "markdown",
   "metadata": {},
   "source": [
    "All defendants."
   ]
  },
  {
   "cell_type": "code",
   "execution_count": null,
   "metadata": {},
   "outputs": [],
   "source": [
    "compute_matrix(cp)"
   ]
  },
  {
   "cell_type": "markdown",
   "metadata": {},
   "source": [
    "And the differences are 0."
   ]
  },
  {
   "cell_type": "code",
   "execution_count": null,
   "metadata": {},
   "outputs": [],
   "source": [
    "matrix_all - compute_matrix(cp).values"
   ]
  },
  {
   "cell_type": "markdown",
   "metadata": {},
   "source": [
    "Black defendants."
   ]
  },
  {
   "cell_type": "code",
   "execution_count": null,
   "metadata": {},
   "outputs": [],
   "source": [
    "black = cp[cp.race=='African-American']\n",
    "compute_matrix(black)"
   ]
  },
  {
   "cell_type": "code",
   "execution_count": null,
   "metadata": {},
   "outputs": [],
   "source": [
    "matrix_black - compute_matrix(black).values"
   ]
  },
  {
   "cell_type": "markdown",
   "metadata": {},
   "source": [
    "White defendants."
   ]
  },
  {
   "cell_type": "code",
   "execution_count": null,
   "metadata": {},
   "outputs": [],
   "source": [
    "white = cp[cp.race=='Caucasian']\n",
    "compute_matrix(white)"
   ]
  },
  {
   "cell_type": "code",
   "execution_count": null,
   "metadata": {},
   "outputs": [],
   "source": [
    "matrix_white - compute_matrix(white).values"
   ]
  },
  {
   "cell_type": "markdown",
   "metadata": {},
   "source": [
    "### Comparing reality to the CPV model\n",
    "\n",
    "In this section I'll compare actual PPV and FPR for a variety of subgroups to the values we would expect based on the CPV model; that is, a model where the predictive values are the same for all groups.\n",
    "\n",
    "The following function groups defendants by `group_vars` and returns a table with one row for each group."
   ]
  },
  {
   "cell_type": "code",
   "execution_count": null,
   "metadata": {},
   "outputs": [],
   "source": [
    "def make_table(df, group_vars, expected_ppv, expected_npv):\n",
    "    \"\"\"Make a table with one line per group.\n",
    "    \n",
    "    df: DataFrame\n",
    "    group_vars: string or list of string variable names\n",
    "    expected_ppv: \n",
    "    expected_npv:\n",
    "    \n",
    "    returns: table\n",
    "    \"\"\"\n",
    "    # make the DataFrame\n",
    "    columns = ['count', 'prevalence',\n",
    "               'actual PPV', 'actual NPV', 'actual FNR',\n",
    "               'actual FPR', 'expected FPR', 'difference']\n",
    "    columns = group_vars + columns \n",
    "\n",
    "    table = pd.DataFrame(columns=columns)\n",
    "\n",
    "    # loop through the groups\n",
    "    grouped = df.groupby(group_vars)\n",
    "    for i, (name, group) in enumerate(grouped):\n",
    "        if not isinstance(name, tuple):\n",
    "            name = name,\n",
    "        \n",
    "        # size of group\n",
    "        count = len(group)\n",
    "        \n",
    "        # compute metrics\n",
    "        matrix = compute_matrix(group)\n",
    "        prev = prevalence(matrix)\n",
    "        actual_ppv, actual_npv = predictive_value(matrix)\n",
    "        actual_fpr, actual_fnr = error_rates(matrix)\n",
    "\n",
    "        # generate the CPV matrix\n",
    "        cpv = constant_predictive_value(prev, \n",
    "                          expected_ppv, expected_npv)\n",
    "\n",
    "        # get the expected error rates\n",
    "        expected_fpr, _ = error_rates(cpv * 100)\n",
    "        \n",
    "        # for very low and high prevalences, it might\n",
    "        # not be possible to achieve given predictive values\n",
    "        if expected_fpr < 0:\n",
    "            expected_fpr = 0\n",
    "\n",
    "        if expected_fpr > 100:\n",
    "            expected_fpr = 100\n",
    "\n",
    "        # difference between actual and expected\n",
    "        diff = actual_fpr - expected_fpr\n",
    "\n",
    "        # add a row to the table\n",
    "        row = name + (count, prev,\n",
    "                      actual_ppv, actual_npv, actual_fnr,\n",
    "                      actual_fpr, expected_fpr, diff)\n",
    "        \n",
    "        table.loc[i] = row\n",
    "        \n",
    "    # sort the table by prevalence\n",
    "    table.sort_values(by='prevalence', inplace=True)\n",
    "    return table"
   ]
  },
  {
   "cell_type": "code",
   "execution_count": null,
   "metadata": {},
   "outputs": [],
   "source": [
    "subset = cp[cp.race.isin(['African-American', 'Caucasian'])]\n",
    "subset.shape"
   ]
  },
  {
   "cell_type": "markdown",
   "metadata": {},
   "source": [
    "Here's the breakdown by age category."
   ]
  },
  {
   "cell_type": "code",
   "execution_count": null,
   "metadata": {},
   "outputs": [],
   "source": [
    "ppv, npv = predictive_value(matrix_all)\n",
    "group_vars = ['age_cat']\n",
    "table1 = make_table(subset, group_vars, ppv, npv)"
   ]
  },
  {
   "cell_type": "markdown",
   "metadata": {},
   "source": [
    "Again, the actual behavior of the test is tempered, compare to the CPV model; that is, the results are less extreme than the model expects.\n",
    "\n",
    "Here's the breakdown by race."
   ]
  },
  {
   "cell_type": "code",
   "execution_count": null,
   "metadata": {},
   "outputs": [],
   "source": [
    "ppv, npv = predictive_value(matrix_all)\n",
    "group_vars = ['race']\n",
    "table2 = make_table(subset, group_vars, ppv, npv)"
   ]
  },
  {
   "cell_type": "markdown",
   "metadata": {},
   "source": [
    "The false positive rate for whites is higher than we would expect if predictive value were the same for all groups.\n",
    "\n",
    "The false positive rate for blacks is lower than we would expect.\n",
    "\n",
    "Here's the breakdown by sex."
   ]
  },
  {
   "cell_type": "code",
   "execution_count": null,
   "metadata": {},
   "outputs": [],
   "source": [
    "ppv, npv = predictive_value(matrix_all)\n",
    "group_vars = ['sex']\n",
    "table3 = make_table(subset, group_vars, ppv, npv)"
   ]
  },
  {
   "cell_type": "markdown",
   "metadata": {},
   "source": [
    "The false positive rate for women is substantially higher than what we would expect in the CPV model, which is consistent with the calibration results in the previous section.\n",
    "\n",
    "Here's the breakdown by age and race."
   ]
  },
  {
   "cell_type": "code",
   "execution_count": null,
   "metadata": {},
   "outputs": [],
   "source": [
    "ppv, npv = predictive_value(matrix_all)\n",
    "group_vars = ['age_cat', 'race']\n",
    "table4 = make_table(subset, group_vars, ppv, npv)"
   ]
  },
  {
   "cell_type": "markdown",
   "metadata": {},
   "source": [
    "Breakdown by age and sex."
   ]
  },
  {
   "cell_type": "code",
   "execution_count": null,
   "metadata": {},
   "outputs": [],
   "source": [
    "ppv, npv = predictive_value(matrix_all)\n",
    "group_vars = ['age_cat', 'sex']\n",
    "table5 = make_table(subset, group_vars, ppv, npv)"
   ]
  },
  {
   "cell_type": "markdown",
   "metadata": {},
   "source": [
    "Breakdown by race and sex."
   ]
  },
  {
   "cell_type": "code",
   "execution_count": null,
   "metadata": {},
   "outputs": [],
   "source": [
    "ppv, npv = predictive_value(matrix_all)\n",
    "group_vars = ['race', 'sex']\n",
    "table6 = make_table(subset, group_vars, ppv, npv)"
   ]
  },
  {
   "cell_type": "markdown",
   "metadata": {},
   "source": [
    "Breakdown by age, race, and sex."
   ]
  },
  {
   "cell_type": "code",
   "execution_count": null,
   "metadata": {},
   "outputs": [],
   "source": [
    "ppv, npv = predictive_value(matrix_all)\n",
    "group_vars = ['age_cat', 'race', 'sex']\n",
    "table7 = make_table(subset, group_vars, ppv, npv)"
   ]
  },
  {
   "cell_type": "markdown",
   "metadata": {},
   "source": [
    "Those are all the possible subgroups for these three variables.\n",
    "\n",
    "Now we can see what the results look like."
   ]
  },
  {
   "cell_type": "code",
   "execution_count": null,
   "metadata": {},
   "outputs": [],
   "source": [
    "tables = [table1, table2, table3, table4, table5, table6, table7];"
   ]
  },
  {
   "cell_type": "markdown",
   "metadata": {},
   "source": [
    "The following function plots one data point per subgroup showing the given metric versus prevalence.\n",
    "\n",
    "Groups with a small number of people are shown with lighter colors.\n"
   ]
  },
  {
   "cell_type": "code",
   "execution_count": null,
   "metadata": {},
   "outputs": [],
   "source": [
    "def plot_table_var(table, var, color):\n",
    "    \"\"\"Plot one data point per row.\n",
    "    \n",
    "    table: DataFrame\n",
    "    var: which metric to plot\n",
    "    color: string\n",
    "    \"\"\"\n",
    "    for _, row in table.iterrows():\n",
    "        alpha = 0.8 if row['count'] > 200 else 0.3\n",
    "\n",
    "        plt.plot(row['prevalence'], row[var],\n",
    "                 'o', color=color, alpha=alpha)"
   ]
  },
  {
   "cell_type": "markdown",
   "metadata": {},
   "source": [
    "Here's what the results look like for FPR."
   ]
  },
  {
   "cell_type": "code",
   "execution_count": null,
   "metadata": {},
   "outputs": [],
   "source": [
    "fp_rates.plot(label='Expected FPR, constant CPV',\n",
    "              color='C1')\n",
    "plt.axhline(fpr, linestyle='dotted', \n",
    "            label='Expected FPR, constant FPR', color='gray')\n",
    "\n",
    "for table in tables:\n",
    "    plot_table_var(table, 'actual FPR', 'C1')\n",
    "    \n",
    "decorate(xlabel='Prevalence',\n",
    "         ylabel='Percent',\n",
    "         title='False positive rates by subgroup')"
   ]
  },
  {
   "cell_type": "markdown",
   "metadata": {},
   "source": [
    "In general, groups with higher prevalence have higher false positive rates, but the effect is less extreme than what we would expect from the CPV model.\n",
    "\n",
    "Here are the results for positive predictive value."
   ]
  },
  {
   "cell_type": "code",
   "execution_count": null,
   "metadata": {},
   "outputs": [],
   "source": [
    "ppv_rates.plot(label='Expected PPV, constant FPR', color='C0')\n",
    "plt.axhline(ppv, linestyle='dotted', \n",
    "            label='Expected PPV, constant PPV', color='gray')\n",
    "\n",
    "for table in tables:\n",
    "    plot_table_var(table, 'actual PPV', 'C0')\n",
    "    \n",
    "decorate(xlabel='Prevalence',\n",
    "         ylabel='Rate',\n",
    "         title='Positive predictive value by subgroup')"
   ]
  },
  {
   "cell_type": "markdown",
   "metadata": {},
   "source": [
    "Groups with higher prevalence have higher PPV, but the effect is less extreme than we would expect from the CPV model.\n",
    "\n",
    "Here are the results for false negative rate."
   ]
  },
  {
   "cell_type": "code",
   "execution_count": null,
   "metadata": {},
   "outputs": [],
   "source": [
    "fn_rates.plot(label='Expected FNR, constant CPV',\n",
    "              color='C4')\n",
    "plt.axhline(fnr, linestyle='dotted', \n",
    "            label='Expected FNR, constant FNR', color='gray')\n",
    "\n",
    "for table in tables:\n",
    "    plot_table_var(table, 'actual FNR', 'C4')\n",
    "    \n",
    "decorate(xlabel='Prevalence',\n",
    "         ylabel='Percent',\n",
    "         title='False negative rates by subgroup')"
   ]
  },
  {
   "cell_type": "markdown",
   "metadata": {},
   "source": [
    "Groups with higher prevalence have lower FNR, but the effect is less extreme than we would expect from the CPV model.\n",
    "\n",
    "Here are the results for negative predictive value."
   ]
  },
  {
   "cell_type": "code",
   "execution_count": null,
   "metadata": {},
   "outputs": [],
   "source": [
    "npv_rates.plot(label='Expected NPV, constant FPR', color='C2')\n",
    "plt.axhline(npv, linestyle='dotted', \n",
    "            label='Expected NPV, constant NPV', color='gray')\n",
    "\n",
    "for table in tables:\n",
    "    plot_table_var(table, 'actual NPV', 'C2')\n",
    "    \n",
    "decorate(xlabel='Prevalence',\n",
    "         ylabel='Percent',\n",
    "         title='Negative predictive value by subgroup')"
   ]
  },
  {
   "cell_type": "markdown",
   "metadata": {},
   "source": [
    "Groups with higher prevalence have lower NPV.  In this case, the effect is almost exactly what we would expect from the CPV model."
   ]
  },
  {
   "cell_type": "markdown",
   "metadata": {},
   "source": [
    "### Individual FPR"
   ]
  },
  {
   "cell_type": "code",
   "execution_count": null,
   "metadata": {},
   "outputs": [],
   "source": [
    "from scipy.interpolate import interp1d\n",
    "\n",
    "def crossing(series, value, **options):\n",
    "    \"\"\"Find where a function crosses a value.\n",
    "    \n",
    "    series: Series\n",
    "    value: number\n",
    "    options: passed to interp1d (default is linear interp)\n",
    "    \n",
    "    returns: number\n",
    "    \"\"\"\n",
    "    interp = interp1d(series.values, series.index, **options)\n",
    "    return interp(value)\n",
    "\n",
    "def interpolate(series, value, **options):\n",
    "    \"\"\"Evaluate a function at a value.\n",
    "    \n",
    "    series: Series\n",
    "    value: number\n",
    "    options: passed to interp1d (default is linear interp)\n",
    "    \n",
    "    returns: number\n",
    "    \"\"\"\n",
    "    interp = interp1d(series.index, series.values, **options)\n",
    "    return interp(value)"
   ]
  },
  {
   "cell_type": "code",
   "execution_count": null,
   "metadata": {},
   "outputs": [],
   "source": [
    "cal_all = calibration_curve(cp)\n",
    "cal_all.plot()\n",
    "decorate(ylabel='Probability of recidivism')"
   ]
  },
  {
   "cell_type": "code",
   "execution_count": null,
   "metadata": {},
   "outputs": [],
   "source": [
    "crossing(cal_all, 0.4)"
   ]
  },
  {
   "cell_type": "code",
   "execution_count": null,
   "metadata": {},
   "outputs": [],
   "source": [
    "crossing(cal_all, 0.7)"
   ]
  },
  {
   "cell_type": "code",
   "execution_count": null,
   "metadata": {},
   "outputs": [],
   "source": [
    "interpolate(cal_all, 3.4)"
   ]
  },
  {
   "cell_type": "code",
   "execution_count": null,
   "metadata": {},
   "outputs": [],
   "source": [
    "interpolate(cal_all, 9)"
   ]
  },
  {
   "cell_type": "code",
   "execution_count": null,
   "metadata": {},
   "outputs": [],
   "source": [
    "def make_error_dist(std_dev):\n",
    "    \"\"\"Make a discrete Gaussian distribution.\n",
    "    \n",
    "    std_dev: standard deviation\n",
    "    \n",
    "    returns: Series that maps errors to probabilities\n",
    "    \"\"\"\n",
    "    errors = np.linspace(-3, 3, 21)\n",
    "    prob_error = np.exp(-(errors/std_dev)**2)\n",
    "    prob_error /= np.sum(prob_error)\n",
    "    error_dist = pd.Series(prob_error, index=errors)\n",
    "    return error_dist"
   ]
  },
  {
   "cell_type": "code",
   "execution_count": null,
   "metadata": {},
   "outputs": [],
   "source": [
    "error_dist = make_error_dist(std_dev=2)\n",
    "error_dist.plot(label='')\n",
    "decorate(xlabel='Error (score)',\n",
    "         ylabel='Probability')"
   ]
  },
  {
   "cell_type": "code",
   "execution_count": null,
   "metadata": {},
   "outputs": [],
   "source": [
    "def individual_fpr(actual_prob_recid, cal, thresh, std_dev):\n",
    "    \"\"\"Compute an individual FPR.\n",
    "    \n",
    "    actual_prob_recid: actual probability of recidivism\n",
    "    cal: calibration curve, map from score to prob_recid\n",
    "    thresh: threshold between low and not low risk\n",
    "    std_dev: standard deviation of the error function\n",
    "    \n",
    "    returns: individual FPR\n",
    "    \"\"\"\n",
    "    # look up actual_prob_recid to get correct score\n",
    "    correct_score = crossing(cal, actual_prob_recid)\n",
    "\n",
    "    # make the error distribution\n",
    "    error_dist = make_error_dist(std_dev)\n",
    "\n",
    "    # loop through possible errors\n",
    "    total_prob = 0\n",
    "    for error, prob_error in error_dist.iteritems():\n",
    "        # hypothetical score\n",
    "        score = correct_score+error\n",
    "        score = max(score, 1)\n",
    "        score = min(score, 10)\n",
    "        \n",
    "        # probability of being classified 'not low' | error\n",
    "        prob_positive = 0 if score < thresh else 1\n",
    "\n",
    "        # probability of being a false positive | error\n",
    "        prob_fp = prob_positive * (1-actual_prob_recid)\n",
    "        \n",
    "        total_prob += prob_error * prob_fp\n",
    "    return total_prob"
   ]
  },
  {
   "cell_type": "code",
   "execution_count": null,
   "metadata": {},
   "outputs": [],
   "source": [
    "individual_fpr(0.3, cal_all, 4.5, 2)"
   ]
  },
  {
   "cell_type": "code",
   "execution_count": null,
   "metadata": {},
   "outputs": [],
   "source": [
    "individual_fpr(0.5, cal_all, 4.5, 2)"
   ]
  },
  {
   "cell_type": "code",
   "execution_count": null,
   "metadata": {},
   "outputs": [],
   "source": [
    "individual_fpr(0.7, cal_all, 4.5, 2)"
   ]
  },
  {
   "cell_type": "code",
   "execution_count": null,
   "metadata": {},
   "outputs": [],
   "source": [
    "def compute_fpr_vs_prob_recid(cal, thresh, std_dev):\n",
    "    \"\"\"Computes FPR as a function of probability of recidivism.\n",
    "    \n",
    "    cal: calibration curve, map from score to prob_recid\n",
    "    thresh: threshold between low and not low risk\n",
    "    std_dev: standard deviation of the error function\n",
    "    \n",
    "    returns: Series\n",
    "    \"\"\"\n",
    "    prob_recid_array = np.linspace(min(cal), max(cal), 21)\n",
    "    prob_fpr_series = pd.Series(index=prob_recid_array)\n",
    "    for prob_recid in prob_recid_array:\n",
    "        fpr = individual_fpr(prob_recid, cal, thresh, std_dev)\n",
    "        prob_fpr_series[prob_recid] = fpr\n",
    "    return prob_fpr_series"
   ]
  },
  {
   "cell_type": "code",
   "execution_count": null,
   "metadata": {
    "scrolled": true
   },
   "outputs": [],
   "source": [
    "s = compute_fpr_vs_prob_recid(cal_all, thresh=4.5, std_dev=2)\n",
    "s.plot(label='FPR, std_dev=2')\n",
    "\n",
    "s = compute_fpr_vs_prob_recid(cal_all, thresh=4.5, std_dev=1)\n",
    "s.plot(label='FPR, std_dev=1')\n",
    "\n",
    "decorate(xlabel='Actual probability of recidivism',\n",
    "         ylabel='Probability of false positive')"
   ]
  },
  {
   "cell_type": "code",
   "execution_count": null,
   "metadata": {},
   "outputs": [],
   "source": [
    "def individual_fpr_given_score(actual_score, cal, thresh, std_dev):\n",
    "    \"\"\"Compute an individual FPR.\n",
    "    \n",
    "    actual_score: score assigned\n",
    "    cal: calibration curve, map from score to prob_recid\n",
    "    thresh: threshold between low and high risk\n",
    "    std_dev: standard deviation of the error function\n",
    "    \n",
    "    returns: individual FPR\n",
    "    \"\"\"\n",
    "    # make the error distribution\n",
    "    error_dist = make_error_dist(std_dev)\n",
    "\n",
    "    # loop through possible errors\n",
    "    total_prob = 0\n",
    "    for error, prob_error in error_dist.iteritems():\n",
    "        # correct score\n",
    "        correct_score = actual_score-error\n",
    "        correct_score = max(correct_score, 1)\n",
    "        correct_score = min(correct_score, 10)\n",
    "        \n",
    "        # map from correct score to probability of recidivism.\n",
    "        # if calibration curves are different for different\n",
    "        # groups, this one should be group specific.\n",
    "        correct_prob_recid = interpolate(cal, correct_score)\n",
    "        cond_ifpr = individual_fpr(correct_prob_recid,\n",
    "                                   cal, thresh, std_dev)\n",
    "        \n",
    "        total_prob += prob_error * cond_ifpr\n",
    "    return total_prob"
   ]
  },
  {
   "cell_type": "code",
   "execution_count": null,
   "metadata": {},
   "outputs": [],
   "source": [
    "individual_fpr_given_score(6, cal_all, thresh=4.5, std_dev=2)"
   ]
  },
  {
   "cell_type": "code",
   "execution_count": null,
   "metadata": {},
   "outputs": [],
   "source": [
    "def make_ifpr_series(cal, thresh, std_dev):\n",
    "\n",
    "    scores = np.arange(1, 11)\n",
    "    t = [individual_fpr_given_score(score, cal, thresh, std_dev)\n",
    "         for score in scores]\n",
    "    \n",
    "    ifpr_series = pd.Series(t, scores)\n",
    "    return ifpr_series"
   ]
  },
  {
   "cell_type": "code",
   "execution_count": null,
   "metadata": {
    "scrolled": true
   },
   "outputs": [],
   "source": [
    "thresh = 4.5\n",
    "\n",
    "s = make_ifpr_series(cal_all, thresh, std_dev=2)\n",
    "s.plot(label='FPR, std_dev=2')\n",
    "\n",
    "s = make_ifpr_series(cal_all, thresh, std_dev=1)\n",
    "s.plot(label='FPR, std_dev=1')\n",
    "\n",
    "decorate(xlabel='Score',\n",
    "         ylabel='Probability of false positive')"
   ]
  },
  {
   "cell_type": "code",
   "execution_count": null,
   "metadata": {},
   "outputs": [],
   "source": [
    "def assign_individual_fpr(df, cal, thresh, std_dev):\n",
    "    \"\"\"Assign individual FPRs to defendants.\n",
    "    \n",
    "    df: DataFrame\n",
    "    cal: calibration curve, map from score to prob_recid\n",
    "    thresh: threshold between low and high risk\n",
    "    std_dev: standard deviation of the error function\n",
    "    \"\"\"\n",
    "    # compute the map from score to FPR\n",
    "    ifpr_series = make_ifpr_series(cal, thresh, std_dev)\n",
    "    \n",
    "    # assign FPR to each defendant\n",
    "    df['ifpr'] = [ifpr_series[score] for score in df.decile_score]"
   ]
  },
  {
   "cell_type": "code",
   "execution_count": null,
   "metadata": {},
   "outputs": [],
   "source": [
    "assign_individual_fpr(cp, cal_all, thresh=4.5, std_dev=2)"
   ]
  },
  {
   "cell_type": "code",
   "execution_count": null,
   "metadata": {},
   "outputs": [],
   "source": [
    "def make_cdf(series):\n",
    "    \"\"\"Make a CDF.\"\"\"\n",
    "    counts = series.value_counts().sort_index()\n",
    "    counts /= counts.sum()\n",
    "    return counts.cumsum()\n",
    "\n",
    "def plot_cdf(cdf, **options):\n",
    "    \"\"\"Plot a CDF as a step function.\"\"\"\n",
    "    plt.step(cdf.index, cdf.values, where='post', **options)"
   ]
  },
  {
   "cell_type": "code",
   "execution_count": null,
   "metadata": {},
   "outputs": [],
   "source": [
    "cdf_ifpr = make_cdf(cp.ifpr)"
   ]
  },
  {
   "cell_type": "code",
   "execution_count": null,
   "metadata": {},
   "outputs": [],
   "source": [
    "plot_cdf(cdf_ifpr, label='All')\n",
    "\n",
    "decorate(xlabel='Individual probability of false positive', \n",
    "         ylabel='CDF',\n",
    "         ylim=[0,1])"
   ]
  },
  {
   "cell_type": "code",
   "execution_count": null,
   "metadata": {},
   "outputs": [],
   "source": [
    "black = cp[cp.race=='African-American']\n",
    "white = cp[cp.race=='Caucasian']\n",
    "\n",
    "thresh = 4.5\n",
    "std_dev = 2\n",
    "\n",
    "cal_black = calibration_curve(black)\n",
    "s = make_ifpr_series(cal_black, thresh, std_dev)\n",
    "s.plot(label='FPR, black')\n",
    "\n",
    "cal_white = calibration_curve(white)\n",
    "s = make_ifpr_series(cal_white, thresh, std_dev)\n",
    "s.plot(label='FPR, white')\n",
    "\n",
    "decorate(xlabel='Score',\n",
    "         ylabel='Probability of false positive')"
   ]
  },
  {
   "cell_type": "code",
   "execution_count": null,
   "metadata": {},
   "outputs": [],
   "source": [
    "male = cp[cp.sex=='Male']\n",
    "female = cp[cp.sex=='Female']\n",
    "\n",
    "thresh = 4.5\n",
    "std_dev = 2\n",
    "\n",
    "cal_male = calibration_curve(male)\n",
    "s = make_ifpr_series(cal_male, thresh, std_dev)\n",
    "s.plot(label='FPR, male')\n",
    "\n",
    "cal_female = calibration_curve(female)\n",
    "s = make_ifpr_series(cal_female, thresh, std_dev)\n",
    "s.plot(label='FPR, female')\n",
    "\n",
    "decorate(xlabel='Score',\n",
    "         ylabel='Probability of false positive')"
   ]
  },
  {
   "cell_type": "code",
   "execution_count": null,
   "metadata": {},
   "outputs": [],
   "source": [
    "assign_individual_fpr(cp, cal_all, thresh=4.5, std_dev=2)\n",
    "cp.ifpr.mean()"
   ]
  },
  {
   "cell_type": "code",
   "execution_count": null,
   "metadata": {
    "scrolled": true
   },
   "outputs": [],
   "source": [
    "cp.groupby('race').ifpr.mean()"
   ]
  },
  {
   "cell_type": "code",
   "execution_count": null,
   "metadata": {},
   "outputs": [],
   "source": [
    "assign_individual_fpr(cp, cal_all, thresh=4.5, std_dev=1)\n",
    "cp.ifpr.mean()"
   ]
  },
  {
   "cell_type": "code",
   "execution_count": null,
   "metadata": {
    "scrolled": true
   },
   "outputs": [],
   "source": [
    "cp.groupby('race').ifpr.mean()"
   ]
  },
  {
   "cell_type": "code",
   "execution_count": null,
   "metadata": {},
   "outputs": [],
   "source": [
    "assign_individual_fpr(cp, cal_all, thresh=4.5, std_dev=0.01)\n",
    "cp.ifpr.mean()"
   ]
  },
  {
   "cell_type": "code",
   "execution_count": null,
   "metadata": {},
   "outputs": [],
   "source": [
    "cp.groupby('race').ifpr.mean()"
   ]
  },
  {
   "cell_type": "markdown",
   "metadata": {},
   "source": [
    "### Individual FNR"
   ]
  },
  {
   "cell_type": "code",
   "execution_count": null,
   "metadata": {},
   "outputs": [],
   "source": [
    "cal_all = calibration_curve(cp)\n",
    "cal_all.plot()\n",
    "decorate(ylabel='Probability of recidivism')"
   ]
  },
  {
   "cell_type": "code",
   "execution_count": null,
   "metadata": {},
   "outputs": [],
   "source": [
    "def individual_fnr(actual_prob_recid, cal, thresh, std_dev):\n",
    "    \"\"\"Compute an individual FNR.\n",
    "    \n",
    "    actual_prob_recid: actual probability of recidivism\n",
    "    cal: calibration curve, map from score to prob_recid\n",
    "    thresh: threshold between low and not low risk\n",
    "    std_dev: standard deviation of the error function\n",
    "    \n",
    "    returns: individual FNR\n",
    "    \"\"\"\n",
    "    # look up actual_prob_recid to get correct score\n",
    "    correct_score = crossing(cal, actual_prob_recid)\n",
    "\n",
    "    # make the error distribution\n",
    "    error_dist = make_error_dist(std_dev)\n",
    "\n",
    "    # loop through possible errors\n",
    "    total_prob = 0\n",
    "    for error, prob_error in error_dist.iteritems():\n",
    "        # hypothetical score\n",
    "        score = correct_score+error\n",
    "        score = max(score, 1)\n",
    "        score = min(score, 10)\n",
    "        \n",
    "        # probability of being classified 'low' | error\n",
    "        prob_negative = 0 if score >= thresh else 1\n",
    "\n",
    "        # probability of being a false negative | error\n",
    "        prob_fp = prob_negative * actual_prob_recid\n",
    "        \n",
    "        total_prob += prob_error * prob_fp\n",
    "    return total_prob"
   ]
  },
  {
   "cell_type": "code",
   "execution_count": null,
   "metadata": {},
   "outputs": [],
   "source": [
    "individual_fnr(0.3, cal_all, 4.5, 2)"
   ]
  },
  {
   "cell_type": "code",
   "execution_count": null,
   "metadata": {},
   "outputs": [],
   "source": [
    "individual_fnr(0.5, cal_all, 4.5, 2)"
   ]
  },
  {
   "cell_type": "code",
   "execution_count": null,
   "metadata": {},
   "outputs": [],
   "source": [
    "individual_fnr(0.7, cal_all, 4.5, 2)"
   ]
  },
  {
   "cell_type": "code",
   "execution_count": null,
   "metadata": {},
   "outputs": [],
   "source": [
    "def compute_fnr_vs_prob_recid(cal, thresh, std_dev):\n",
    "    \"\"\"Computes FNR as a function of probability of recidivism.\n",
    "    \n",
    "    cal: calibration curve, map from score to prob_recid\n",
    "    thresh: threshold between low and not low risk\n",
    "    std_dev: standard deviation of the error function\n",
    "    \n",
    "    returns: Series\n",
    "    \"\"\"\n",
    "    prob_recid_array = np.linspace(min(cal), max(cal), 21)\n",
    "    prob_fnr_series = pd.Series(index=prob_recid_array)\n",
    "    for prob_recid in prob_recid_array:\n",
    "        fnr = individual_fnr(prob_recid, cal, thresh, std_dev)\n",
    "        prob_fnr_series[prob_recid] = fnr\n",
    "    return prob_fnr_series"
   ]
  },
  {
   "cell_type": "code",
   "execution_count": null,
   "metadata": {
    "scrolled": true
   },
   "outputs": [],
   "source": [
    "s = compute_fnr_vs_prob_recid(cal_all, thresh=4.5, std_dev=2)\n",
    "s.plot(label='FNR, std_dev=2')\n",
    "\n",
    "s = compute_fnr_vs_prob_recid(cal_all, thresh=4.5, std_dev=1)\n",
    "s.plot(label='FNR, std_dev=1')\n",
    "\n",
    "decorate(xlabel='Actual probability of recidivism',\n",
    "         ylabel='Probability of false negative')"
   ]
  },
  {
   "cell_type": "code",
   "execution_count": null,
   "metadata": {},
   "outputs": [],
   "source": [
    "def individual_fnr_given_score(actual_score, cal, thresh, std_dev):\n",
    "    \"\"\"Compute an individual FNR.\n",
    "    \n",
    "    actual_score: score assigned\n",
    "    cal: calibration curve, map from score to prob_recid\n",
    "    thresh: threshold between low and high risk\n",
    "    std_dev: standard deviation of the error function\n",
    "    \n",
    "    returns: individual FNR\n",
    "    \"\"\"\n",
    "    # make the error distribution\n",
    "    error_dist = make_error_dist(std_dev)\n",
    "\n",
    "    # loop through possible errors\n",
    "    total_prob = 0\n",
    "    for error, prob_error in error_dist.iteritems():\n",
    "        # correct score\n",
    "        correct_score = actual_score-error\n",
    "        correct_score = max(correct_score, 1)\n",
    "        correct_score = min(correct_score, 10)\n",
    "        \n",
    "        # map from correct score to probability of recidivism.\n",
    "        # if calibration curves are different for different\n",
    "        # groups, this one should be group specific.\n",
    "        correct_prob_recid = interpolate(cal, correct_score)\n",
    "        cond_ifnr = individual_fnr(correct_prob_recid,\n",
    "                                   cal, thresh, std_dev)\n",
    "        \n",
    "        total_prob += prob_error * cond_ifnr\n",
    "    return total_prob"
   ]
  },
  {
   "cell_type": "code",
   "execution_count": null,
   "metadata": {},
   "outputs": [],
   "source": [
    "individual_fnr_given_score(6, cal_all, thresh=4.5, std_dev=2)"
   ]
  },
  {
   "cell_type": "code",
   "execution_count": null,
   "metadata": {},
   "outputs": [],
   "source": [
    "def make_ifnr_series(cal, thresh, std_dev):\n",
    "\n",
    "    scores = np.arange(1, 11)\n",
    "    t = [individual_fnr_given_score(score, cal, thresh, std_dev)\n",
    "         for score in scores]\n",
    "    \n",
    "    ifnr_series = pd.Series(t, scores)\n",
    "    return ifnr_series"
   ]
  },
  {
   "cell_type": "code",
   "execution_count": null,
   "metadata": {
    "scrolled": true
   },
   "outputs": [],
   "source": [
    "thresh = 4.5\n",
    "\n",
    "s = make_ifnr_series(cal_all, thresh, std_dev=2)\n",
    "s.plot(label='FNR, std_dev=2')\n",
    "\n",
    "s = make_ifnr_series(cal_all, thresh, std_dev=1)\n",
    "s.plot(label='FNR, std_dev=1')\n",
    "\n",
    "decorate(xlabel='Score',\n",
    "         ylabel='Probability of false negative')"
   ]
  },
  {
   "cell_type": "code",
   "execution_count": null,
   "metadata": {},
   "outputs": [],
   "source": [
    "def assign_individual_fnr(df, cal, thresh, std_dev):\n",
    "    \"\"\"Assign individual FNRs to defendants.\n",
    "    \n",
    "    df: DataFrame\n",
    "    cal: calibration curve, map from score to prob_recid\n",
    "    thresh: threshold between low and high risk\n",
    "    std_dev: standard deviation of the error function\n",
    "    \"\"\"\n",
    "    # compute the map from score to FPR\n",
    "    ifnr_series = make_ifnr_series(cal, thresh, std_dev)\n",
    "    \n",
    "    # assign FPR to each defendant\n",
    "    df['ifnr'] = [ifnr_series[score] for score in df.decile_score]"
   ]
  },
  {
   "cell_type": "code",
   "execution_count": null,
   "metadata": {},
   "outputs": [],
   "source": [
    "assign_individual_fnr(cp, cal_all, thresh=4.5, std_dev=2)"
   ]
  },
  {
   "cell_type": "code",
   "execution_count": null,
   "metadata": {},
   "outputs": [],
   "source": [
    "cdf_ifnr = make_cdf(cp.ifnr)"
   ]
  },
  {
   "cell_type": "code",
   "execution_count": null,
   "metadata": {},
   "outputs": [],
   "source": [
    "plot_cdf(cdf_ifnr, label='All')\n",
    "\n",
    "decorate(xlabel='Individual probability of false negative', \n",
    "         ylabel='CDF',\n",
    "         ylim=[0,1])"
   ]
  },
  {
   "cell_type": "code",
   "execution_count": null,
   "metadata": {},
   "outputs": [],
   "source": [
    "thresh = 4.5\n",
    "std_dev = 2\n",
    "\n",
    "cal_black = calibration_curve(black)\n",
    "s = make_ifnr_series(cal_black, thresh, std_dev)\n",
    "s.plot(label='FNR, black')\n",
    "\n",
    "cal_white = calibration_curve(white)\n",
    "s = make_ifnr_series(cal_white, thresh, std_dev)\n",
    "s.plot(label='FNR, white')\n",
    "\n",
    "decorate(xlabel='Score',\n",
    "         ylabel='Probability of false negative')"
   ]
  },
  {
   "cell_type": "code",
   "execution_count": null,
   "metadata": {},
   "outputs": [],
   "source": [
    "thresh = 4.5\n",
    "std_dev = 2\n",
    "\n",
    "cal_male = calibration_curve(male)\n",
    "s = make_ifnr_series(cal_male, thresh, std_dev)\n",
    "s.plot(label='FNR, male')\n",
    "\n",
    "cal_female = calibration_curve(female)\n",
    "s = make_ifnr_series(cal_female, thresh, std_dev)\n",
    "s.plot(label='FNR, female')\n",
    "\n",
    "decorate(xlabel='Score',\n",
    "         ylabel='Probability of false negative')"
   ]
  },
  {
   "cell_type": "code",
   "execution_count": null,
   "metadata": {},
   "outputs": [],
   "source": [
    "assign_individual_fnr(cp, cal_all, thresh=4.5, std_dev=2)\n",
    "cp.ifnr.mean()"
   ]
  },
  {
   "cell_type": "code",
   "execution_count": null,
   "metadata": {
    "scrolled": true
   },
   "outputs": [],
   "source": [
    "cp.groupby('race').ifnr.mean()"
   ]
  },
  {
   "cell_type": "code",
   "execution_count": null,
   "metadata": {},
   "outputs": [],
   "source": [
    "assign_individual_fnr(cp, cal_all, thresh=4.5, std_dev=1)\n",
    "cp.ifnr.mean()"
   ]
  },
  {
   "cell_type": "code",
   "execution_count": null,
   "metadata": {
    "scrolled": true
   },
   "outputs": [],
   "source": [
    "cp.groupby('race').ifnr.mean()"
   ]
  },
  {
   "cell_type": "code",
   "execution_count": null,
   "metadata": {},
   "outputs": [],
   "source": [
    "assign_individual_fnr(cp, cal_all, thresh=4.5, std_dev=0.01)\n",
    "cp.ifnr.mean()"
   ]
  },
  {
   "cell_type": "code",
   "execution_count": null,
   "metadata": {},
   "outputs": [],
   "source": [
    "cp.groupby('race').ifnr.mean()"
   ]
  },
  {
   "cell_type": "code",
   "execution_count": null,
   "metadata": {},
   "outputs": [],
   "source": []
  },
  {
   "cell_type": "code",
   "execution_count": null,
   "metadata": {},
   "outputs": [],
   "source": []
  },
  {
   "cell_type": "code",
   "execution_count": null,
   "metadata": {},
   "outputs": [],
   "source": []
  },
  {
   "cell_type": "markdown",
   "metadata": {},
   "source": [
    "### What would it take?\n",
    "\n",
    "In this section I explore what it would take to make a test with the same false positive rate for all groups."
   ]
  },
  {
   "cell_type": "code",
   "execution_count": null,
   "metadata": {},
   "outputs": [],
   "source": [
    "def fpr_thresh(df, thresh):\n",
    "    df = df.copy()\n",
    "    df['high'] = df.decile_score >= thresh\n",
    "    matrix_all = crosstab(df, 'two_year_recid', 'high')\n",
    "    fpr, fnr = error_rates(matrix_all)\n",
    "    return fpr"
   ]
  },
  {
   "cell_type": "markdown",
   "metadata": {},
   "source": []
  },
  {
   "cell_type": "code",
   "execution_count": null,
   "metadata": {},
   "outputs": [],
   "source": [
    "fpr_thresh(cp, 5)"
   ]
  },
  {
   "cell_type": "markdown",
   "metadata": {},
   "source": []
  },
  {
   "cell_type": "code",
   "execution_count": null,
   "metadata": {},
   "outputs": [],
   "source": [
    "fpr_thresh(black, 5)"
   ]
  },
  {
   "cell_type": "markdown",
   "metadata": {},
   "source": []
  },
  {
   "cell_type": "code",
   "execution_count": null,
   "metadata": {},
   "outputs": [],
   "source": [
    "fpr_thresh(white, 5)"
   ]
  },
  {
   "cell_type": "markdown",
   "metadata": {},
   "source": []
  },
  {
   "cell_type": "code",
   "execution_count": null,
   "metadata": {},
   "outputs": [],
   "source": [
    "def sweep_thresh(df):\n",
    "    threshes = range(2,10)\n",
    "    sweep = pd.Series(index=threshes)\n",
    "    for thresh in threshes:\n",
    "        sweep[thresh] = fpr_thresh(df, thresh)\n",
    "        \n",
    "    return sweep"
   ]
  },
  {
   "cell_type": "markdown",
   "metadata": {},
   "source": []
  },
  {
   "cell_type": "code",
   "execution_count": null,
   "metadata": {},
   "outputs": [],
   "source": [
    "plt.axhline(32.25, color='gray')\n",
    "sweep_thresh(cp).plot(label='All')\n",
    "sweep_thresh(black).plot(label='Black')\n",
    "sweep_thresh(white).plot(label='White')\n",
    "decorate(xlabel='Threshold',\n",
    "         ylabel='False positive rate')"
   ]
  },
  {
   "cell_type": "markdown",
   "metadata": {},
   "source": []
  },
  {
   "cell_type": "code",
   "execution_count": null,
   "metadata": {},
   "outputs": [],
   "source": []
  },
  {
   "cell_type": "markdown",
   "metadata": {},
   "source": []
  },
  {
   "cell_type": "code",
   "execution_count": null,
   "metadata": {},
   "outputs": [],
   "source": [
    "def find_threshold(group, fpr):\n",
    "    series = sweep_thresh(group)\n",
    "    xs = crossing(series.dropna(), fpr)\n",
    "    return xs"
   ]
  },
  {
   "cell_type": "markdown",
   "metadata": {},
   "source": []
  },
  {
   "cell_type": "code",
   "execution_count": null,
   "metadata": {},
   "outputs": [],
   "source": [
    "all_thresh = find_threshold(cp, 32.35)"
   ]
  },
  {
   "cell_type": "markdown",
   "metadata": {},
   "source": []
  },
  {
   "cell_type": "code",
   "execution_count": null,
   "metadata": {},
   "outputs": [],
   "source": [
    "black_thresh = find_threshold(black, 32.35)"
   ]
  },
  {
   "cell_type": "markdown",
   "metadata": {},
   "source": []
  },
  {
   "cell_type": "code",
   "execution_count": null,
   "metadata": {},
   "outputs": [],
   "source": [
    "white_thresh = find_threshold(white, 32.35)"
   ]
  },
  {
   "cell_type": "markdown",
   "metadata": {},
   "source": []
  },
  {
   "cell_type": "code",
   "execution_count": null,
   "metadata": {},
   "outputs": [],
   "source": []
  },
  {
   "cell_type": "markdown",
   "metadata": {},
   "source": []
  },
  {
   "cell_type": "code",
   "execution_count": null,
   "metadata": {},
   "outputs": [],
   "source": [
    "interpolate(calibration_curve(cp), all_thresh)"
   ]
  },
  {
   "cell_type": "markdown",
   "metadata": {},
   "source": []
  },
  {
   "cell_type": "code",
   "execution_count": null,
   "metadata": {},
   "outputs": [],
   "source": [
    "interpolate(calibration_curve(cp), black_thresh)"
   ]
  },
  {
   "cell_type": "markdown",
   "metadata": {},
   "source": []
  },
  {
   "cell_type": "code",
   "execution_count": null,
   "metadata": {},
   "outputs": [],
   "source": [
    "interpolate(calibration_curve(black), black_thresh)"
   ]
  },
  {
   "cell_type": "markdown",
   "metadata": {},
   "source": []
  },
  {
   "cell_type": "code",
   "execution_count": null,
   "metadata": {},
   "outputs": [],
   "source": [
    "interpolate(calibration_curve(cp), white_thresh)"
   ]
  },
  {
   "cell_type": "markdown",
   "metadata": {},
   "source": []
  },
  {
   "cell_type": "code",
   "execution_count": null,
   "metadata": {},
   "outputs": [],
   "source": [
    "interpolate(calibration_curve(white), white_thresh)"
   ]
  },
  {
   "cell_type": "markdown",
   "metadata": {},
   "source": []
  },
  {
   "cell_type": "code",
   "execution_count": null,
   "metadata": {},
   "outputs": [],
   "source": []
  },
  {
   "cell_type": "markdown",
   "metadata": {},
   "source": []
  },
  {
   "cell_type": "code",
   "execution_count": null,
   "metadata": {},
   "outputs": [],
   "source": []
  },
  {
   "cell_type": "markdown",
   "metadata": {},
   "source": []
  },
  {
   "cell_type": "code",
   "execution_count": null,
   "metadata": {},
   "outputs": [],
   "source": []
  },
  {
   "cell_type": "markdown",
   "metadata": {},
   "source": []
  },
  {
   "cell_type": "code",
   "execution_count": null,
   "metadata": {},
   "outputs": [],
   "source": []
  },
  {
   "cell_type": "markdown",
   "metadata": {},
   "source": []
  },
  {
   "cell_type": "code",
   "execution_count": null,
   "metadata": {},
   "outputs": [],
   "source": []
  },
  {
   "cell_type": "markdown",
   "metadata": {},
   "source": []
  },
  {
   "cell_type": "code",
   "execution_count": null,
   "metadata": {},
   "outputs": [],
   "source": []
  },
  {
   "cell_type": "markdown",
   "metadata": {},
   "source": []
  },
  {
   "cell_type": "code",
   "execution_count": null,
   "metadata": {},
   "outputs": [],
   "source": [
    "black_male = black[black.sex=='Male']\n",
    "black_male.shape"
   ]
  },
  {
   "cell_type": "markdown",
   "metadata": {},
   "source": []
  },
  {
   "cell_type": "code",
   "execution_count": null,
   "metadata": {},
   "outputs": [],
   "source": [
    "black_female = black[black.sex=='Female']\n",
    "black_female.shape"
   ]
  },
  {
   "cell_type": "markdown",
   "metadata": {},
   "source": []
  },
  {
   "cell_type": "code",
   "execution_count": null,
   "metadata": {},
   "outputs": [],
   "source": [
    "old_black_female = black_female[black_female.age_cat=='Greater than 45']\n",
    "old_black_female.shape"
   ]
  },
  {
   "cell_type": "markdown",
   "metadata": {},
   "source": []
  },
  {
   "cell_type": "code",
   "execution_count": null,
   "metadata": {},
   "outputs": [],
   "source": [
    "old_white_female = cp[(cp.age_cat=='Greater than 45') &\n",
    "                      (cp.sex=='Female') &\n",
    "                      (cp.race=='Caucasian')]\n",
    "old_white_female.shape"
   ]
  },
  {
   "cell_type": "markdown",
   "metadata": {},
   "source": []
  },
  {
   "cell_type": "code",
   "execution_count": null,
   "metadata": {},
   "outputs": [],
   "source": [
    "young_black_male = cp[(cp.age_cat=='Less than 25') &\n",
    "                      (cp.sex=='Male') &\n",
    "                      (cp.race=='African-American')]\n",
    "young_black_male.shape"
   ]
  },
  {
   "cell_type": "markdown",
   "metadata": {},
   "source": []
  },
  {
   "cell_type": "code",
   "execution_count": null,
   "metadata": {},
   "outputs": [],
   "source": [
    "fpr_thresh(cp, 5)"
   ]
  },
  {
   "cell_type": "markdown",
   "metadata": {},
   "source": []
  },
  {
   "cell_type": "code",
   "execution_count": null,
   "metadata": {},
   "outputs": [],
   "source": [
    "fpr_thresh(black, 5)"
   ]
  },
  {
   "cell_type": "markdown",
   "metadata": {},
   "source": []
  },
  {
   "cell_type": "code",
   "execution_count": null,
   "metadata": {},
   "outputs": [],
   "source": [
    "fpr_thresh(black_female, 5)"
   ]
  },
  {
   "cell_type": "markdown",
   "metadata": {},
   "source": []
  },
  {
   "cell_type": "code",
   "execution_count": null,
   "metadata": {},
   "outputs": [],
   "source": [
    "fpr_thresh(old_black_female, 5)"
   ]
  },
  {
   "cell_type": "markdown",
   "metadata": {},
   "source": []
  },
  {
   "cell_type": "code",
   "execution_count": null,
   "metadata": {},
   "outputs": [],
   "source": [
    "fpr_thresh(black_male, 5)"
   ]
  },
  {
   "cell_type": "markdown",
   "metadata": {},
   "source": []
  },
  {
   "cell_type": "code",
   "execution_count": null,
   "metadata": {},
   "outputs": [],
   "source": [
    "fpr_thresh(young_black_male, 5)"
   ]
  },
  {
   "cell_type": "markdown",
   "metadata": {},
   "source": []
  },
  {
   "cell_type": "code",
   "execution_count": null,
   "metadata": {},
   "outputs": [],
   "source": [
    "plt.axhline(32.25, color='gray')\n",
    "sweep_thresh(black).plot(label='Black', color='gray')\n",
    "sweep_thresh(black_male).plot(label='Black male')\n",
    "sweep_thresh(young_black_male).plot(label='Young black male')\n",
    "\n",
    "decorate(xlabel='Threshold',\n",
    "         ylabel='False positive rate')"
   ]
  },
  {
   "cell_type": "markdown",
   "metadata": {},
   "source": []
  },
  {
   "cell_type": "code",
   "execution_count": null,
   "metadata": {},
   "outputs": [],
   "source": [
    "plt.axhline(32.25, color='gray')\n",
    "sweep_thresh(black).plot(label='Black', color='gray')\n",
    "sweep_thresh(black_female).plot(label='Black female')\n",
    "sweep_thresh(old_black_female).plot(label='Old black female')\n",
    "\n",
    "decorate(xlabel='Threshold',\n",
    "         ylabel='False positive rate')"
   ]
  },
  {
   "cell_type": "markdown",
   "metadata": {},
   "source": []
  },
  {
   "cell_type": "code",
   "execution_count": null,
   "metadata": {},
   "outputs": [],
   "source": [
    "ybm_thresh = find_threshold(young_black_male, 32.35)"
   ]
  },
  {
   "cell_type": "markdown",
   "metadata": {},
   "source": []
  },
  {
   "cell_type": "code",
   "execution_count": null,
   "metadata": {},
   "outputs": [],
   "source": [
    "obf_thresh = find_threshold(old_black_female, 32.35)"
   ]
  },
  {
   "cell_type": "markdown",
   "metadata": {},
   "source": []
  },
  {
   "cell_type": "code",
   "execution_count": null,
   "metadata": {},
   "outputs": [],
   "source": [
    "interpolate(calibration_curve(cp), ybm_thresh)"
   ]
  },
  {
   "cell_type": "markdown",
   "metadata": {},
   "source": []
  },
  {
   "cell_type": "code",
   "execution_count": null,
   "metadata": {},
   "outputs": [],
   "source": [
    "interpolate(calibration_curve(cp), obf_thresh)"
   ]
  },
  {
   "cell_type": "markdown",
   "metadata": {},
   "source": []
  },
  {
   "cell_type": "code",
   "execution_count": null,
   "metadata": {},
   "outputs": [],
   "source": []
  },
  {
   "cell_type": "markdown",
   "metadata": {},
   "source": [
    "To see what this kind of unfairness looks like, I'll generate the same figure, grouping defendants by sex."
   ]
  },
  {
   "cell_type": "code",
   "execution_count": null,
   "metadata": {},
   "outputs": [],
   "source": [
    "male = (cp['sex'] == 'Male')\n",
    "male.mean()"
   ]
  },
  {
   "cell_type": "code",
   "execution_count": null,
   "metadata": {},
   "outputs": [],
   "source": [
    "female = (cp['sex'] == 'Female')\n",
    "female.mean()"
   ]
  },
  {
   "cell_type": "code",
   "execution_count": null,
   "metadata": {},
   "outputs": [],
   "source": [
    "cal_all = calibration_curve(cp)\n",
    "cal_all.plot(linestyle='dotted', \n",
    "              color='gray',\n",
    "              label='All defendants')\n",
    "\n",
    "cal_male = calibration_curve(cp[male])\n",
    "cal_male.plot(label='Male')\n",
    "\n",
    "cal_female = calibration_curve(cp[female])\n",
    "cal_female.plot(label='Female')\n",
    "\n",
    "decorate(xlabel='Risk score',\n",
    "         ylabel='Prob recidivism',\n",
    "         title='Recivism vs decile score, grouped by sex')\n",
    "plt.legend();"
   ]
  },
  {
   "cell_type": "markdown",
   "metadata": {},
   "source": [
    "For all risk scores, female defendants are substantially less likely to recidivate than male defendants.\n",
    "\n",
    "Or, reading the graph the other way, female defendants are given decile scores 1-2 points higher than male defendants with the same actual risk of recidivism."
   ]
  },
  {
   "cell_type": "markdown",
   "metadata": {},
   "source": [
    "## AUC\n",
    "\n",
    "From [How We Analyzed the COMPAS Recidivism Algorithm](https://www.propublica.org/article/how-we-analyzed-the-compas-recidivism-algorithm)\n",
    "\n",
    "> Both results are lower than what Northpointe describes as a threshold for reliability. “A rule of thumb according to several recent articles is that AUCs of .70 or above typically indicate satisfactory predictive accuracy, and measures between .60 and .70 suggest low to moderate predictive accuracy,” the company says in its study."
   ]
  },
  {
   "cell_type": "markdown",
   "metadata": {},
   "source": [
    "## ROC\n",
    "\n",
    "One way to do that is to adjust the threshold so the error rates are the same in both groups.\n",
    "\n",
    "The following function loops through the possible threshold for the low and high risk groups.  For each threshold, it makes the confusion matrix and computes sensitivity and specificity."
   ]
  },
  {
   "cell_type": "code",
   "execution_count": null,
   "metadata": {},
   "outputs": [],
   "source": [
    "thresholds = range(1, 10)\n",
    "for threshold in thresholds:\n",
    "    matrix = make_matrix(cp, white, threshold)\n",
    "    t = sens_spec(matrix)\n",
    "    print(threshold, t)"
   ]
  },
  {
   "cell_type": "markdown",
   "metadata": {},
   "source": [
    "When the threshold is low, almost everyone is in the high risk group; in that case:\n",
    "\n",
    "* Sensitivity is high because most recidivists are in the high risk group, but \n",
    "\n",
    "* Specificity is low because most non-recidivists are *also* in the high risk group.\n",
    "\n",
    "When the threshold is high, almost everyone is in the low risk group, and the metrics are the other way around:\n",
    "\n",
    "* Sensitivity is low because most recidivists are in the low risk group, but\n",
    "\n",
    "* Specificity is high because most non-recidivists are *also* in the low risk group.\n",
    "\n",
    "One way to visualize these results is to plot sensitivity versus FPR (which is the complement of specificity) for a range of thresholds.  For historical reasons, the result is called a [receiver operating characteristic (ROC) curve](https://en.wikipedia.org/wiki/Receiver_operating_characteristic).\n",
    "\n",
    "The following function computes the ROC curve for a given subset of the data:"
   ]
  },
  {
   "cell_type": "code",
   "execution_count": null,
   "metadata": {},
   "outputs": [],
   "source": [
    "def make_roc(cp, group):\n",
    "\n",
    "    thresholds = range(1, 10)\n",
    "    roc = pd.DataFrame(index=thresholds, \n",
    "                   columns=['sens', 'spec'])\n",
    "\n",
    "    for threshold in thresholds:\n",
    "        matrix = make_matrix(cp, group, threshold)\n",
    "        roc.loc[threshold] = sens_spec(matrix)\n",
    "    \n",
    "    roc['fpr'] = 100 - roc['spec']\n",
    "    \n",
    "    return roc"
   ]
  },
  {
   "cell_type": "code",
   "execution_count": null,
   "metadata": {},
   "outputs": [],
   "source": [
    "roc_white = make_roc(cp, white)\n",
    "roc_white"
   ]
  },
  {
   "cell_type": "code",
   "execution_count": null,
   "metadata": {},
   "outputs": [],
   "source": [
    "roc_black = make_roc(cp, black)\n",
    "roc_black"
   ]
  },
  {
   "cell_type": "code",
   "execution_count": null,
   "metadata": {},
   "outputs": [],
   "source": [
    "def plot_roc(roc):\n",
    "    plt.plot(roc['fpr'], roc['sens'])"
   ]
  },
  {
   "cell_type": "code",
   "execution_count": null,
   "metadata": {
    "scrolled": true
   },
   "outputs": [],
   "source": [
    "plot_roc(roc_white)\n",
    "plot_roc(roc_black)"
   ]
  }
 ],
 "metadata": {
  "kernelspec": {
   "display_name": "Python 3",
   "language": "python",
   "name": "python3"
  },
  "language_info": {
   "codemirror_mode": {
    "name": "ipython",
    "version": 3
   },
   "file_extension": ".py",
   "mimetype": "text/x-python",
   "name": "python",
   "nbconvert_exporter": "python",
   "pygments_lexer": "ipython3",
   "version": "3.7.4"
  }
 },
 "nbformat": 4,
 "nbformat_minor": 4
}
