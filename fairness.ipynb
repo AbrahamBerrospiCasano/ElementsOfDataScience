{
 "cells": [
  {
   "cell_type": "markdown",
   "metadata": {},
   "source": [
    "# Fairness\n",
    "\n",
    "Elements of Data Science\n",
    "\n",
    "by [Allen Downey](https://allendowney.com)\n",
    "\n",
    "[MIT License](https://opensource.org/licenses/MIT)\n",
    "\n",
    "## Review\n",
    "\n",
    "This is the third notebook in a series that explains the statistical arguments presented in two articles from 2016:\n",
    "\n",
    "* \"[Machine Bias](https://www.propublica.org/article/machine-bias-risk-assessments-in-criminal-sentencing)\", by Julia Angwin, Jeff Larson, Surya Mattu and Lauren Kirchner, and published by [ProPublica](https://www.propublica.org) in May 2016.\n",
    "\n",
    "* A response by Sam Corbett-Davies, Emma Pierson, Avi Feller and Sharad Goel: \"[A computer program used for bail and sentencing decisions was labeled biased against blacks. It’s actually not that clear.](https://www.washingtonpost.com/news/monkey-cage/wp/2016/10/17/can-an-algorithm-be-racist-our-analysis-is-more-cautious-than-propublicas/)\", published in the Washington Post.\n",
    "\n",
    "I strongly encourage you to read both articles before you go on.\n",
    "\n",
    "Both articles are about COMPAS, a statistical tool used in the justice system to assign defendants a \"risk score\" that is intended to reflect the risk that they will commit another crime if releases.\n",
    "\n",
    "The ProPublica article evaluates COMPAS as a binary classifier, and compares its accuracy for black and white defendants.\n",
    "\n",
    "In response, the Washington Post article also focuses on comparisons of black and white defendants.\n",
    "\n",
    "In this notebook I replicate the analyses in both article, focusing on differences between male and female defendants.\n"
   ]
  },
  {
   "cell_type": "code",
   "execution_count": 2,
   "metadata": {},
   "outputs": [],
   "source": [
    "import pandas as pd\n",
    "import numpy as np\n",
    "import matplotlib.pyplot as plt"
   ]
  },
  {
   "cell_type": "markdown",
   "metadata": {},
   "source": [
    "## Data\n",
    "\n",
    "Thank you to ProPublica and the authors of \"Machine Bias\" for making their data and analysis freely available.\n",
    "\n",
    "[Their repository](https://github.com/propublica/compas-analysis) contains the data and analysis pipeline described [this supplementary article](https://www.propublica.org/article/how-we-analyzed-the-compas-recidivism-algorithm).\n",
    "\n",
    "The terms of use for the data [are here](https://www.propublica.org/datastore/terms).  In compliance with those terms, I am not redistributing the data.\n",
    "\n",
    "The following cell downloads the data file we'll use directly from their repository."
   ]
  },
  {
   "cell_type": "code",
   "execution_count": 3,
   "metadata": {},
   "outputs": [],
   "source": [
    "import os\n",
    "\n",
    "if not os.path.exists('compas-scores-two-years.csv'):\n",
    "    !wget https://github.com/propublica/compas-analysis/raw/master/compas-scores-two-years.csv"
   ]
  },
  {
   "cell_type": "markdown",
   "metadata": {},
   "source": [
    "The following cell reads the data file:"
   ]
  },
  {
   "cell_type": "code",
   "execution_count": 4,
   "metadata": {},
   "outputs": [
    {
     "data": {
      "text/plain": [
       "(7214, 53)"
      ]
     },
     "execution_count": 4,
     "metadata": {},
     "output_type": "execute_result"
    }
   ],
   "source": [
    "cp = pd.read_csv(\"compas-scores-two-years.csv\")\n",
    "cp.shape"
   ]
  },
  {
   "cell_type": "markdown",
   "metadata": {},
   "source": [
    "## Code\n",
    "\n",
    "Here are some functions from previous notebooks that we will need again."
   ]
  },
  {
   "cell_type": "code",
   "execution_count": 8,
   "metadata": {},
   "outputs": [],
   "source": [
    "def make_matrix(cp, subgroup=slice(None), threshold=4):\n",
    "    \"\"\"Make a confusion matrix.\n",
    "    \n",
    "    cp: DataFrame\n",
    "    subgroup: Boolean Series, default is all rows\n",
    "    threshold: default is 4\n",
    "    \n",
    "    returns: DataFrame containing the confusion matrix\n",
    "    \"\"\"\n",
    "    a = np.where(cp['decile_score'] > threshold, \n",
    "                 'Positive', \n",
    "                 'Negative')\n",
    "    high_risk = pd.Series(a, name='Predicted')\n",
    "    \n",
    "    a = np.where(cp['two_year_recid'] == 1, \n",
    "                 'Condition', \n",
    "                 'No Condition')\n",
    "    new_charge_2 = pd.Series(a, name='Actual')\n",
    "\n",
    "    matrix = pd.crosstab(high_risk[subgroup], new_charge_2[subgroup])\n",
    "    matrix.sort_index(axis=0, ascending=False, inplace=True)\n",
    "    \n",
    "    return matrix"
   ]
  },
  {
   "cell_type": "code",
   "execution_count": 9,
   "metadata": {},
   "outputs": [],
   "source": [
    "def percent(x, y):\n",
    "    \"\"\"Compute the percentage `x/(x+y)*100`.\n",
    "    \"\"\"\n",
    "    return x / (x+y) * 100"
   ]
  },
  {
   "cell_type": "code",
   "execution_count": 10,
   "metadata": {},
   "outputs": [],
   "source": [
    "def predictive_value(m):\n",
    "    \"\"\"Compute positive and negative predictive value.\n",
    "    \n",
    "    m: confusion matrix\n",
    "    \"\"\"\n",
    "    tp, fp, fn, tn = m.to_numpy().flatten()\n",
    "    ppv = percent(tp, fp)\n",
    "    npv = percent(tn, fn)\n",
    "    return ppv, npv"
   ]
  },
  {
   "cell_type": "code",
   "execution_count": 11,
   "metadata": {},
   "outputs": [],
   "source": [
    "def sens_spec(m):\n",
    "    \"\"\"Compute sensitivity and specificity.\n",
    "    \n",
    "    m: confusion matrix\n",
    "    \"\"\"\n",
    "    tp, fp, fn, tn = m.to_numpy().flatten()\n",
    "    sens = percent(tp, fn)\n",
    "    spec = percent(tn, fp)\n",
    "    return sens, spec"
   ]
  },
  {
   "cell_type": "code",
   "execution_count": 12,
   "metadata": {},
   "outputs": [],
   "source": [
    "def error_rates(m):\n",
    "    \"\"\"Compute false positive and false negative rate.\n",
    "    \n",
    "    m: confusion matrix\n",
    "    \"\"\"\n",
    "    tp, fp, fn, tn = m.to_numpy().flatten()\n",
    "    fpr = percent(fp, tn)\n",
    "    fnr = percent(fn, tp)\n",
    "    return fpr, fnr"
   ]
  },
  {
   "cell_type": "code",
   "execution_count": 13,
   "metadata": {},
   "outputs": [],
   "source": [
    "def prevalence(df):\n",
    "    \"\"\"Compute prevalence.\n",
    "    \n",
    "    m: confusion matrix\n",
    "    \"\"\"\n",
    "    tp, fp, fn, tn = df.to_numpy().flatten()\n",
    "    prevalence = percent(tp+fn, tn+fp)\n",
    "    return prevalence"
   ]
  },
  {
   "cell_type": "code",
   "execution_count": 14,
   "metadata": {},
   "outputs": [],
   "source": [
    "def compute_metrics(m, name=''):\n",
    "    \"\"\"Compute all metrics.\n",
    "    \n",
    "    m: confusion matrix\n",
    "    \n",
    "    returns: DataFrame\n",
    "    \"\"\"\n",
    "    fpr, fnr = error_rates(m)\n",
    "    ppv, npv = predictive_value(m)\n",
    "    prev = prevalence(m)\n",
    "    \n",
    "    index = ['FP rate', 'FN rate', 'PPV', 'NPV', 'Prevalence']\n",
    "    df = pd.DataFrame(index=index, columns=['Percent'])\n",
    "    df.Percent = fpr, fnr, ppv, npv, prev\n",
    "    df.index.name = name\n",
    "    return df"
   ]
  },
  {
   "cell_type": "code",
   "execution_count": 15,
   "metadata": {},
   "outputs": [],
   "source": [
    "def calibration_curve(df):\n",
    "    \"\"\"Compute probability of recidivism by decile score.\n",
    "    \n",
    "    df: DataFrame\n",
    "    \n",
    "    returns: Series\n",
    "    \"\"\"\n",
    "    grouped = df.groupby('decile_score')\n",
    "    return grouped['two_year_recid'].mean()"
   ]
  },
  {
   "cell_type": "code",
   "execution_count": 16,
   "metadata": {},
   "outputs": [],
   "source": [
    "def decorate(**options):\n",
    "    \"\"\"Decorate the current axes.\n",
    "    \n",
    "    Call decorate with keyword arguments like\n",
    "    decorate(title='Title',\n",
    "             xlabel='x',\n",
    "             ylabel='y')\n",
    "             \n",
    "    The keyword arguments can be any of the axis properties\n",
    "    https://matplotlib.org/api/axes_api.html\n",
    "    \"\"\"\n",
    "    plt.gca().set(**options)\n",
    "    plt.tight_layout()"
   ]
  },
  {
   "cell_type": "markdown",
   "metadata": {},
   "source": [
    "## Male and female defendants\n",
    "\n",
    "In this dataset, about 81% of defendants are male."
   ]
  },
  {
   "cell_type": "code",
   "execution_count": 17,
   "metadata": {},
   "outputs": [
    {
     "data": {
      "text/plain": [
       "0.8066260049902967"
      ]
     },
     "execution_count": 17,
     "metadata": {},
     "output_type": "execute_result"
    }
   ],
   "source": [
    "male = (cp['sex'] == 'Male')\n",
    "male.mean()"
   ]
  },
  {
   "cell_type": "code",
   "execution_count": 18,
   "metadata": {},
   "outputs": [
    {
     "data": {
      "text/plain": [
       "0.19337399500970334"
      ]
     },
     "execution_count": 18,
     "metadata": {},
     "output_type": "execute_result"
    }
   ],
   "source": [
    "female = (cp['sex'] == 'Female')\n",
    "female.mean()"
   ]
  },
  {
   "cell_type": "markdown",
   "metadata": {},
   "source": [
    "Here are the confusion matrices for male and female defendants."
   ]
  },
  {
   "cell_type": "code",
   "execution_count": 19,
   "metadata": {},
   "outputs": [
    {
     "data": {
      "text/html": [
       "<div>\n",
       "<style scoped>\n",
       "    .dataframe tbody tr th:only-of-type {\n",
       "        vertical-align: middle;\n",
       "    }\n",
       "\n",
       "    .dataframe tbody tr th {\n",
       "        vertical-align: top;\n",
       "    }\n",
       "\n",
       "    .dataframe thead th {\n",
       "        text-align: right;\n",
       "    }\n",
       "</style>\n",
       "<table border=\"1\" class=\"dataframe\">\n",
       "  <thead>\n",
       "    <tr style=\"text-align: right;\">\n",
       "      <th>Actual</th>\n",
       "      <th>Condition</th>\n",
       "      <th>No Condition</th>\n",
       "    </tr>\n",
       "    <tr>\n",
       "      <th>Predicted</th>\n",
       "      <th></th>\n",
       "      <th></th>\n",
       "    </tr>\n",
       "  </thead>\n",
       "  <tbody>\n",
       "    <tr>\n",
       "      <td>Positive</td>\n",
       "      <td>1732</td>\n",
       "      <td>994</td>\n",
       "    </tr>\n",
       "    <tr>\n",
       "      <td>Negative</td>\n",
       "      <td>1021</td>\n",
       "      <td>2072</td>\n",
       "    </tr>\n",
       "  </tbody>\n",
       "</table>\n",
       "</div>"
      ],
      "text/plain": [
       "Actual     Condition  No Condition\n",
       "Predicted                         \n",
       "Positive        1732           994\n",
       "Negative        1021          2072"
      ]
     },
     "execution_count": 19,
     "metadata": {},
     "output_type": "execute_result"
    }
   ],
   "source": [
    "matrix_male = make_matrix(cp, male)\n",
    "matrix_male"
   ]
  },
  {
   "cell_type": "code",
   "execution_count": 20,
   "metadata": {
    "scrolled": true
   },
   "outputs": [
    {
     "data": {
      "text/html": [
       "<div>\n",
       "<style scoped>\n",
       "    .dataframe tbody tr th:only-of-type {\n",
       "        vertical-align: middle;\n",
       "    }\n",
       "\n",
       "    .dataframe tbody tr th {\n",
       "        vertical-align: top;\n",
       "    }\n",
       "\n",
       "    .dataframe thead th {\n",
       "        text-align: right;\n",
       "    }\n",
       "</style>\n",
       "<table border=\"1\" class=\"dataframe\">\n",
       "  <thead>\n",
       "    <tr style=\"text-align: right;\">\n",
       "      <th>Actual</th>\n",
       "      <th>Condition</th>\n",
       "      <th>No Condition</th>\n",
       "    </tr>\n",
       "    <tr>\n",
       "      <th>Predicted</th>\n",
       "      <th></th>\n",
       "      <th></th>\n",
       "    </tr>\n",
       "  </thead>\n",
       "  <tbody>\n",
       "    <tr>\n",
       "      <td>Positive</td>\n",
       "      <td>303</td>\n",
       "      <td>288</td>\n",
       "    </tr>\n",
       "    <tr>\n",
       "      <td>Negative</td>\n",
       "      <td>195</td>\n",
       "      <td>609</td>\n",
       "    </tr>\n",
       "  </tbody>\n",
       "</table>\n",
       "</div>"
      ],
      "text/plain": [
       "Actual     Condition  No Condition\n",
       "Predicted                         \n",
       "Positive         303           288\n",
       "Negative         195           609"
      ]
     },
     "execution_count": 20,
     "metadata": {},
     "output_type": "execute_result"
    }
   ],
   "source": [
    "matrix_female = make_matrix(cp, female)\n",
    "matrix_female"
   ]
  },
  {
   "cell_type": "markdown",
   "metadata": {},
   "source": [
    "And here are the metrics:"
   ]
  },
  {
   "cell_type": "code",
   "execution_count": 21,
   "metadata": {
    "scrolled": true
   },
   "outputs": [
    {
     "data": {
      "text/html": [
       "<div>\n",
       "<style scoped>\n",
       "    .dataframe tbody tr th:only-of-type {\n",
       "        vertical-align: middle;\n",
       "    }\n",
       "\n",
       "    .dataframe tbody tr th {\n",
       "        vertical-align: top;\n",
       "    }\n",
       "\n",
       "    .dataframe thead th {\n",
       "        text-align: right;\n",
       "    }\n",
       "</style>\n",
       "<table border=\"1\" class=\"dataframe\">\n",
       "  <thead>\n",
       "    <tr style=\"text-align: right;\">\n",
       "      <th></th>\n",
       "      <th>Percent</th>\n",
       "    </tr>\n",
       "    <tr>\n",
       "      <th>Male defendants</th>\n",
       "      <th></th>\n",
       "    </tr>\n",
       "  </thead>\n",
       "  <tbody>\n",
       "    <tr>\n",
       "      <td>FP rate</td>\n",
       "      <td>32.420091</td>\n",
       "    </tr>\n",
       "    <tr>\n",
       "      <td>FN rate</td>\n",
       "      <td>37.086814</td>\n",
       "    </tr>\n",
       "    <tr>\n",
       "      <td>PPV</td>\n",
       "      <td>63.536317</td>\n",
       "    </tr>\n",
       "    <tr>\n",
       "      <td>NPV</td>\n",
       "      <td>66.989977</td>\n",
       "    </tr>\n",
       "    <tr>\n",
       "      <td>Prevalence</td>\n",
       "      <td>47.310534</td>\n",
       "    </tr>\n",
       "  </tbody>\n",
       "</table>\n",
       "</div>"
      ],
      "text/plain": [
       "                   Percent\n",
       "Male defendants           \n",
       "FP rate          32.420091\n",
       "FN rate          37.086814\n",
       "PPV              63.536317\n",
       "NPV              66.989977\n",
       "Prevalence       47.310534"
      ]
     },
     "execution_count": 21,
     "metadata": {},
     "output_type": "execute_result"
    }
   ],
   "source": [
    "metrics_male = compute_metrics(matrix_male, \n",
    "                                'Male defendants')\n",
    "metrics_male"
   ]
  },
  {
   "cell_type": "code",
   "execution_count": 22,
   "metadata": {},
   "outputs": [
    {
     "data": {
      "text/html": [
       "<div>\n",
       "<style scoped>\n",
       "    .dataframe tbody tr th:only-of-type {\n",
       "        vertical-align: middle;\n",
       "    }\n",
       "\n",
       "    .dataframe tbody tr th {\n",
       "        vertical-align: top;\n",
       "    }\n",
       "\n",
       "    .dataframe thead th {\n",
       "        text-align: right;\n",
       "    }\n",
       "</style>\n",
       "<table border=\"1\" class=\"dataframe\">\n",
       "  <thead>\n",
       "    <tr style=\"text-align: right;\">\n",
       "      <th></th>\n",
       "      <th>Percent</th>\n",
       "    </tr>\n",
       "    <tr>\n",
       "      <th>Female defendants</th>\n",
       "      <th></th>\n",
       "    </tr>\n",
       "  </thead>\n",
       "  <tbody>\n",
       "    <tr>\n",
       "      <td>FP rate</td>\n",
       "      <td>32.107023</td>\n",
       "    </tr>\n",
       "    <tr>\n",
       "      <td>FN rate</td>\n",
       "      <td>39.156627</td>\n",
       "    </tr>\n",
       "    <tr>\n",
       "      <td>PPV</td>\n",
       "      <td>51.269036</td>\n",
       "    </tr>\n",
       "    <tr>\n",
       "      <td>NPV</td>\n",
       "      <td>75.746269</td>\n",
       "    </tr>\n",
       "    <tr>\n",
       "      <td>Prevalence</td>\n",
       "      <td>35.698925</td>\n",
       "    </tr>\n",
       "  </tbody>\n",
       "</table>\n",
       "</div>"
      ],
      "text/plain": [
       "                     Percent\n",
       "Female defendants           \n",
       "FP rate            32.107023\n",
       "FN rate            39.156627\n",
       "PPV                51.269036\n",
       "NPV                75.746269\n",
       "Prevalence         35.698925"
      ]
     },
     "execution_count": 22,
     "metadata": {},
     "output_type": "execute_result"
    }
   ],
   "source": [
    "metrics_female = compute_metrics(matrix_female, \n",
    "                                'Female defendants')\n",
    "metrics_female"
   ]
  },
  {
   "cell_type": "markdown",
   "metadata": {},
   "source": [
    "The fraction of defendants charged with another crime (prevalence) is substantially higher for male defendants (47% vs 36%).\n",
    "\n",
    "Nevertheless, the error rates for the two groups are about the same.\n",
    "\n",
    "As a result, the predictive values for the two groups are substantially different:\n",
    "\n",
    "* PPV: Women classified as high risk are less likely to be charged with another crime, compared to high-risk men (51% vs 64%).\n",
    "\n",
    "* NPV: Women classified as low risk are more likely to \"survive\" two years without a new charge, compared to low-risk men (76% vs 67%).\n",
    "\n",
    "The difference in predictive values implies that COMPAS is not calibrated for men and women.  In the next section we'll campare the calibration curves."
   ]
  },
  {
   "cell_type": "markdown",
   "metadata": {},
   "source": [
    "## Calibration for male and female defendants\n",
    "\n",
    "Here are the calibration curves for male and female defendants."
   ]
  },
  {
   "cell_type": "code",
   "execution_count": 23,
   "metadata": {},
   "outputs": [
    {
     "data": {
      "image/png": "[encoded data removed]",
      "text/plain": [
       "<Figure size 432x288 with 1 Axes>"
      ]
     },
     "metadata": {
      "needs_background": "light"
     },
     "output_type": "display_data"
    }
   ],
   "source": [
    "cal_all = calibration_curve(cp)\n",
    "cal_all.plot(linestyle='dotted', \n",
    "              color='gray',\n",
    "              label='All defendants')\n",
    "\n",
    "cal_male = calibration_curve(cp[male])\n",
    "cal_male.plot(label='Male')\n",
    "\n",
    "cal_female = calibration_curve(cp[female])\n",
    "cal_female.plot(label='Female')\n",
    "\n",
    "decorate(xlabel='Risk score',\n",
    "         ylabel='Fraction charged with new crime',\n",
    "         title='Recivism vs risk score, grouped by sex')\n",
    "plt.legend();"
   ]
  },
  {
   "cell_type": "markdown",
   "metadata": {},
   "source": [
    "For all risk scores, female defendants are substantially less likely to be charged with another crime.\n",
    "\n",
    "Or, reading the graph the other way, female defendants are given risk scores 1-2 points higher than male defendants with the same actual risk of recidivism.\n",
    "\n",
    "To the degree that COMPAS scores are used to decide which defendants are incarcerated, those decisions:\n",
    "\n",
    "* Are unfair to women.\n",
    "\n",
    "* Are less effective than they could be, if they incarcerate lower-risk women while allowing higher-risk men to go free.\n",
    "\n",
    "To understand these results, I will apply to these groups the same analyses we used in the previous notebook for black and white defendants."
   ]
  },
  {
   "cell_type": "markdown",
   "metadata": {},
   "source": [
    "## Constant predictive value model\n",
    "\n",
    "If two groups have difference prevalence, a binary classifier can have the same predictive values (PPV and NPV) for both groups, or the same error rates (FPR and FNR), but not both at the same time.\n",
    "\n",
    "* If we are given predictive values, we can compute error rates for any prevalence.  I call this is the constant predictive value (CPV) model.\n",
    "\n",
    "* If we are given error rates, we can compute predictive values for any prevalence.  I call this the constant error rate (CER) model.\n",
    "\n",
    "In the previous notebook, we saw that COMPAS does not follow either model with respect to black and white defendants.  Instead it seems to be \"tempered\", which means that when we compare groups with lower or higher prevalence:\n",
    "\n",
    "* Error rates do not vary as much as the CPV model predicts.\n",
    "\n",
    "* Predictive values do not vary as much as the CER model predicts.\n",
    "\n",
    "The algorithms COMPAS uses are kept secret, so we can't tell whether this behavior is deliberate.\n",
    "\n",
    "But we can get a clue by using the same analysis to compare other groups."
   ]
  },
  {
   "cell_type": "markdown",
   "metadata": {},
   "source": [
    "The following function takes `ppv`, `npv`, and `prev` and computes a confusion matrix with those metrics."
   ]
  },
  {
   "cell_type": "code",
   "execution_count": 28,
   "metadata": {},
   "outputs": [],
   "source": [
    "def constant_predictive_value(ppv, npv, prev):\n",
    "    \"\"\"Make a confusion matrix with given metrics.\n",
    "    \n",
    "    ppv: positive predictive value\n",
    "    npv: negative predictive value\n",
    "    prev: prevalence\n",
    "    \n",
    "    returns: confusion matrix\n",
    "    \"\"\"\n",
    "    ppv /= 100\n",
    "    npv /= 100\n",
    "    prev /= 100\n",
    "    a = np.array((ppv*(npv + prev - 1)/(npv + ppv - 1),\n",
    "                -(ppv - 1)*(npv + prev - 1)/(npv + ppv - 1),\n",
    "                -(npv - 1)*(ppv - prev)/(npv + ppv - 1),\n",
    "                npv*(ppv - prev)/(npv + ppv - 1)))\n",
    "    \n",
    "    return pd.DataFrame(a.reshape((2, 2)))"
   ]
  },
  {
   "cell_type": "markdown",
   "metadata": {},
   "source": [
    "First I'll compute predictive values for all defendants."
   ]
  },
  {
   "cell_type": "code",
   "execution_count": 29,
   "metadata": {},
   "outputs": [
    {
     "data": {
      "text/plain": [
       "(61.350618028338864, 68.79651013600206)"
      ]
     },
     "execution_count": 29,
     "metadata": {},
     "output_type": "execute_result"
    }
   ],
   "source": [
    "matrix_all = make_matrix(cp)\n",
    "\n",
    "ppv, npv = predictive_value(matrix_all)\n",
    "ppv, npv"
   ]
  },
  {
   "cell_type": "markdown",
   "metadata": {},
   "source": [
    "The I'll use the CPV model to predict error rates for a range of prevalences."
   ]
  },
  {
   "cell_type": "code",
   "execution_count": 30,
   "metadata": {},
   "outputs": [
    {
     "data": {
      "text/html": [
       "<div>\n",
       "<style scoped>\n",
       "    .dataframe tbody tr th:only-of-type {\n",
       "        vertical-align: middle;\n",
       "    }\n",
       "\n",
       "    .dataframe tbody tr th {\n",
       "        vertical-align: top;\n",
       "    }\n",
       "\n",
       "    .dataframe thead th {\n",
       "        text-align: right;\n",
       "    }\n",
       "</style>\n",
       "<table border=\"1\" class=\"dataframe\">\n",
       "  <thead>\n",
       "    <tr style=\"text-align: right;\">\n",
       "      <th></th>\n",
       "      <th>fpr</th>\n",
       "      <th>fnr</th>\n",
       "    </tr>\n",
       "  </thead>\n",
       "  <tbody>\n",
       "    <tr>\n",
       "      <td>35.0</td>\n",
       "      <td>7.488034</td>\n",
       "      <td>77.925569</td>\n",
       "    </tr>\n",
       "    <tr>\n",
       "      <td>37.0</td>\n",
       "      <td>11.795671</td>\n",
       "      <td>68.118564</td>\n",
       "    </tr>\n",
       "    <tr>\n",
       "      <td>39.0</td>\n",
       "      <td>16.385776</td>\n",
       "      <td>59.317406</td>\n",
       "    </tr>\n",
       "    <tr>\n",
       "      <td>41.0</td>\n",
       "      <td>21.287075</td>\n",
       "      <td>51.374897</td>\n",
       "    </tr>\n",
       "    <tr>\n",
       "      <td>43.0</td>\n",
       "      <td>26.532324</td>\n",
       "      <td>44.171227</td>\n",
       "    </tr>\n",
       "    <tr>\n",
       "      <td>45.0</td>\n",
       "      <td>32.159046</td>\n",
       "      <td>37.607882</td>\n",
       "    </tr>\n",
       "    <tr>\n",
       "      <td>47.0</td>\n",
       "      <td>38.210427</td>\n",
       "      <td>31.603121</td>\n",
       "    </tr>\n",
       "    <tr>\n",
       "      <td>49.0</td>\n",
       "      <td>44.736425</td>\n",
       "      <td>26.088543</td>\n",
       "    </tr>\n",
       "    <tr>\n",
       "      <td>51.0</td>\n",
       "      <td>51.795158</td>\n",
       "      <td>21.006482</td>\n",
       "    </tr>\n",
       "    <tr>\n",
       "      <td>53.0</td>\n",
       "      <td>59.454634</td>\n",
       "      <td>16.307973</td>\n",
       "    </tr>\n",
       "    <tr>\n",
       "      <td>55.0</td>\n",
       "      <td>67.794953</td>\n",
       "      <td>11.951173</td>\n",
       "    </tr>\n",
       "  </tbody>\n",
       "</table>\n",
       "</div>"
      ],
      "text/plain": [
       "            fpr        fnr\n",
       "35.0   7.488034  77.925569\n",
       "37.0  11.795671  68.118564\n",
       "39.0  16.385776  59.317406\n",
       "41.0  21.287075  51.374897\n",
       "43.0  26.532324  44.171227\n",
       "45.0  32.159046  37.607882\n",
       "47.0  38.210427  31.603121\n",
       "49.0  44.736425  26.088543\n",
       "51.0  51.795158  21.006482\n",
       "53.0  59.454634  16.307973\n",
       "55.0  67.794953  11.951173"
      ]
     },
     "execution_count": 30,
     "metadata": {},
     "output_type": "execute_result"
    }
   ],
   "source": [
    "prevalences = np.linspace(35, 55, 11)\n",
    "\n",
    "pred_er = pd.DataFrame(columns=['fpr', 'fnr'])\n",
    "\n",
    "for prev in prevalences:\n",
    "    m = constant_predictive_value(ppv, npv, prev)\n",
    "    pred_er.loc[prev] = error_rates(m)\n",
    "    \n",
    "pred_er"
   ]
  },
  {
   "cell_type": "markdown",
   "metadata": {},
   "source": [
    "We'll compare the model with actual error rates for female and male defendants."
   ]
  },
  {
   "cell_type": "code",
   "execution_count": 31,
   "metadata": {},
   "outputs": [
    {
     "data": {
      "text/html": [
       "<div>\n",
       "<style scoped>\n",
       "    .dataframe tbody tr th:only-of-type {\n",
       "        vertical-align: middle;\n",
       "    }\n",
       "\n",
       "    .dataframe tbody tr th {\n",
       "        vertical-align: top;\n",
       "    }\n",
       "\n",
       "    .dataframe thead th {\n",
       "        text-align: right;\n",
       "    }\n",
       "</style>\n",
       "<table border=\"1\" class=\"dataframe\">\n",
       "  <thead>\n",
       "    <tr style=\"text-align: right;\">\n",
       "      <th></th>\n",
       "      <th>fpr</th>\n",
       "      <th>fnr</th>\n",
       "    </tr>\n",
       "  </thead>\n",
       "  <tbody>\n",
       "    <tr>\n",
       "      <td>35.698925</td>\n",
       "      <td>32.107023</td>\n",
       "      <td>39.156627</td>\n",
       "    </tr>\n",
       "    <tr>\n",
       "      <td>45.065151</td>\n",
       "      <td>32.349230</td>\n",
       "      <td>37.403876</td>\n",
       "    </tr>\n",
       "    <tr>\n",
       "      <td>47.310534</td>\n",
       "      <td>32.420091</td>\n",
       "      <td>37.086814</td>\n",
       "    </tr>\n",
       "  </tbody>\n",
       "</table>\n",
       "</div>"
      ],
      "text/plain": [
       "                 fpr        fnr\n",
       "35.698925  32.107023  39.156627\n",
       "45.065151  32.349230  37.403876\n",
       "47.310534  32.420091  37.086814"
      ]
     },
     "execution_count": 31,
     "metadata": {},
     "output_type": "execute_result"
    }
   ],
   "source": [
    "actual_er = pd.DataFrame(columns=['fpr', 'fnr'])\n",
    "\n",
    "for m in (matrix_female, matrix_all, matrix_male):\n",
    "    prev = prevalence(m)\n",
    "    actual_er.loc[prev] = error_rates(m)\n",
    "    \n",
    "actual_er"
   ]
  },
  {
   "cell_type": "markdown",
   "metadata": {},
   "source": [
    "The following figure compares predictions from the CPV model to actual error rates for female defendants (on the left), all defendants (in the middle), and male defendants (on the right)."
   ]
  },
  {
   "cell_type": "code",
   "execution_count": 32,
   "metadata": {},
   "outputs": [],
   "source": [
    "def plot_cpv_model(pred_er):\n",
    "    \"\"\"Plot error rates with constant predictive values.\n",
    "    \n",
    "    pred_er: DataFrame of predicted error rates\n",
    "    \"\"\"\n",
    "    pred_er['fpr'].plot(label='Predicted FPR', color='C2')\n",
    "    pred_er['fnr'].plot(label='Predicted FNR', color='C4')\n",
    "    decorate(xlabel='Prevalence', ylabel='Percent',\n",
    "             title='Error rates, constant predictive value')"
   ]
  },
  {
   "cell_type": "code",
   "execution_count": 33,
   "metadata": {},
   "outputs": [
    {
     "data": {
      "image/png": "[encoded data removed]",
      "text/plain": [
       "<Figure size 432x288 with 1 Axes>"
      ]
     },
     "metadata": {
      "needs_background": "light"
     },
     "output_type": "display_data"
    }
   ],
   "source": [
    "plot_cpv_model(pred_er)\n",
    "\n",
    "actual_er['fpr'].plot(marker='o', linestyle='dotted', color='C2',\n",
    "                      label='COMPAS FPR')\n",
    "\n",
    "actual_er['fnr'].plot(marker='o', linestyle='dotted', color='C4',\n",
    "                      label='COMPAS FNR')\n",
    "\n",
    "plt.legend();"
   ]
  },
  {
   "cell_type": "markdown",
   "metadata": {},
   "source": [
    "Although male and female defendants have very difference prevalences (rates of recidivism), their error rates are almost the same.\n",
    "\n",
    "This is the \"natural\" behavior we should expect from a test that does not depend on sex.\n",
    "\n",
    "If we look again at the definition of FPR and FNR, using this diagram from [Wikipedia](https://en.wikipedia.org/wiki/Confusion_matrix)\n",
    "\n",
    "<img width=800, src='https://raw.githubusercontent.com/AllenDowney/ElementsOfDataScience/master/confusion_matrix2.png'>\n",
    "\n",
    "We see that FNR depends only on people in the positive condition (people who will recidivate) and FPR depends only on people in the negative condition (people who will \"survive\" without being charged with another crime).\n",
    "\n",
    "Neither error rate depends on how many people are in each condition, so if the test is sex blind, it should have the same error rates for both sexes, regardless of prevalence."
   ]
  },
  {
   "cell_type": "markdown",
   "metadata": {},
   "source": [
    "## Constant error rate model\n",
    "\n",
    "The previous section shows the COMPAS has the same error rates for male and female defendants, even though they have substantially difference prevalences.\n",
    "\n",
    "So we expected the test to have different predictive values for these groups.  To confirm that I'll compute the actual predictive values and compare them to the CER model."
   ]
  },
  {
   "cell_type": "markdown",
   "metadata": {},
   "source": [
    "The following function takes prevalence and error rates and returns a confusion matrix."
   ]
  },
  {
   "cell_type": "code",
   "execution_count": 34,
   "metadata": {},
   "outputs": [],
   "source": [
    "def constant_error_rates(fpr, fnr, prev):\n",
    "    \"\"\"Make a confusion matrix with given metrics.\n",
    "    \n",
    "    fpr: false positive rate\n",
    "    fnr: false negative rate\n",
    "    prev: prevalence\n",
    "    \n",
    "    returns: confusion matrix\n",
    "    \"\"\"\n",
    "    prev /= 100\n",
    "    fpr /= 100\n",
    "    fnr /= 100\n",
    "    a = [[prev*(1 - fnr),  fpr*(1 - prev)],\n",
    "         [fnr*prev,       (fpr - 1)*(prev - 1)]]\n",
    "    \n",
    "    return pd.DataFrame(a)"
   ]
  },
  {
   "cell_type": "markdown",
   "metadata": {},
   "source": [
    "Again, I'll use the error rates for all defendants:"
   ]
  },
  {
   "cell_type": "code",
   "execution_count": null,
   "metadata": {},
   "outputs": [],
   "source": [
    "fpr, fnr = error_rates(matrix_all)"
   ]
  },
  {
   "cell_type": "markdown",
   "metadata": {},
   "source": [
    "The I'll use the CER model to compute PPV and NPV for a range of prevalences."
   ]
  },
  {
   "cell_type": "code",
   "execution_count": 28,
   "metadata": {},
   "outputs": [
    {
     "data": {
      "text/html": [
       "<div>\n",
       "<style scoped>\n",
       "    .dataframe tbody tr th:only-of-type {\n",
       "        vertical-align: middle;\n",
       "    }\n",
       "\n",
       "    .dataframe tbody tr th {\n",
       "        vertical-align: top;\n",
       "    }\n",
       "\n",
       "    .dataframe thead th {\n",
       "        text-align: right;\n",
       "    }\n",
       "</style>\n",
       "<table border=\"1\" class=\"dataframe\">\n",
       "  <thead>\n",
       "    <tr style=\"text-align: right;\">\n",
       "      <th></th>\n",
       "      <th>ppv</th>\n",
       "      <th>npv</th>\n",
       "    </tr>\n",
       "  </thead>\n",
       "  <tbody>\n",
       "    <tr>\n",
       "      <td>35.0</td>\n",
       "      <td>51.026704</td>\n",
       "      <td>77.058610</td>\n",
       "    </tr>\n",
       "    <tr>\n",
       "      <td>38.0</td>\n",
       "      <td>54.253815</td>\n",
       "      <td>74.689735</td>\n",
       "    </tr>\n",
       "    <tr>\n",
       "      <td>41.0</td>\n",
       "      <td>57.350053</td>\n",
       "      <td>72.243048</td>\n",
       "    </tr>\n",
       "    <tr>\n",
       "      <td>44.0</td>\n",
       "      <td>60.323222</td>\n",
       "      <td>69.714652</td>\n",
       "    </tr>\n",
       "    <tr>\n",
       "      <td>47.0</td>\n",
       "      <td>63.180516</td>\n",
       "      <td>67.100383</td>\n",
       "    </tr>\n",
       "    <tr>\n",
       "      <td>50.0</td>\n",
       "      <td>65.928580</td>\n",
       "      <td>64.395791</td>\n",
       "    </tr>\n",
       "    <tr>\n",
       "      <td>53.0</td>\n",
       "      <td>68.573560</td>\n",
       "      <td>61.596113</td>\n",
       "    </tr>\n",
       "    <tr>\n",
       "      <td>56.0</td>\n",
       "      <td>71.121148</td>\n",
       "      <td>58.696245</td>\n",
       "    </tr>\n",
       "    <tr>\n",
       "      <td>59.0</td>\n",
       "      <td>73.576628</td>\n",
       "      <td>55.690711</td>\n",
       "    </tr>\n",
       "    <tr>\n",
       "      <td>62.0</td>\n",
       "      <td>75.944906</td>\n",
       "      <td>52.573628</td>\n",
       "    </tr>\n",
       "    <tr>\n",
       "      <td>65.0</td>\n",
       "      <td>78.230545</td>\n",
       "      <td>49.338668</td>\n",
       "    </tr>\n",
       "  </tbody>\n",
       "</table>\n",
       "</div>"
      ],
      "text/plain": [
       "            ppv        npv\n",
       "35.0  51.026704  77.058610\n",
       "38.0  54.253815  74.689735\n",
       "41.0  57.350053  72.243048\n",
       "44.0  60.323222  69.714652\n",
       "47.0  63.180516  67.100383\n",
       "50.0  65.928580  64.395791\n",
       "53.0  68.573560  61.596113\n",
       "56.0  71.121148  58.696245\n",
       "59.0  73.576628  55.690711\n",
       "62.0  75.944906  52.573628\n",
       "65.0  78.230545  49.338668"
      ]
     },
     "execution_count": 28,
     "metadata": {},
     "output_type": "execute_result"
    }
   ],
   "source": [
    "prevalences = np.linspace(35, 65, 11)\n",
    "\n",
    "pred_pv = pd.DataFrame(columns=['ppv', 'npv'])\n",
    "\n",
    "for prev in prevalences:\n",
    "    m = constant_error_rates(fpr, fnr, prev)\n",
    "    pred_pv.loc[prev] = predictive_value(m)\n",
    "    \n",
    "pred_pv"
   ]
  },
  {
   "cell_type": "markdown",
   "metadata": {},
   "source": [
    "Here are the actual values for male and female defendants."
   ]
  },
  {
   "cell_type": "code",
   "execution_count": 29,
   "metadata": {},
   "outputs": [
    {
     "data": {
      "text/html": [
       "<div>\n",
       "<style scoped>\n",
       "    .dataframe tbody tr th:only-of-type {\n",
       "        vertical-align: middle;\n",
       "    }\n",
       "\n",
       "    .dataframe tbody tr th {\n",
       "        vertical-align: top;\n",
       "    }\n",
       "\n",
       "    .dataframe thead th {\n",
       "        text-align: right;\n",
       "    }\n",
       "</style>\n",
       "<table border=\"1\" class=\"dataframe\">\n",
       "  <thead>\n",
       "    <tr style=\"text-align: right;\">\n",
       "      <th></th>\n",
       "      <th>ppv</th>\n",
       "      <th>npv</th>\n",
       "    </tr>\n",
       "  </thead>\n",
       "  <tbody>\n",
       "    <tr>\n",
       "      <td>35.698925</td>\n",
       "      <td>51.269036</td>\n",
       "      <td>75.746269</td>\n",
       "    </tr>\n",
       "    <tr>\n",
       "      <td>45.065151</td>\n",
       "      <td>61.350618</td>\n",
       "      <td>68.796510</td>\n",
       "    </tr>\n",
       "    <tr>\n",
       "      <td>47.310534</td>\n",
       "      <td>63.536317</td>\n",
       "      <td>66.989977</td>\n",
       "    </tr>\n",
       "  </tbody>\n",
       "</table>\n",
       "</div>"
      ],
      "text/plain": [
       "                 ppv        npv\n",
       "35.698925  51.269036  75.746269\n",
       "45.065151  61.350618  68.796510\n",
       "47.310534  63.536317  66.989977"
      ]
     },
     "execution_count": 29,
     "metadata": {},
     "output_type": "execute_result"
    }
   ],
   "source": [
    "actual_pv = pd.DataFrame(columns=['ppv', 'npv'])\n",
    "\n",
    "for m in (matrix_female, matrix_all, matrix_male):\n",
    "    prev = prevalence(m)\n",
    "    actual_pv.loc[prev] = predictive_value(m)\n",
    "    \n",
    "actual_pv"
   ]
  },
  {
   "cell_type": "markdown",
   "metadata": {},
   "source": [
    "The following figure compares the actual values to the CER model."
   ]
  },
  {
   "cell_type": "code",
   "execution_count": 30,
   "metadata": {},
   "outputs": [],
   "source": [
    "def plot_cer_model(pred_pv):\n",
    "    \"\"\"Plot error rates with constant predictive values.\n",
    "    \n",
    "    pred_er: DataFrame of predicted error rates\n",
    "    \"\"\"\n",
    "    pred_pv['ppv'].plot(label='Predicted PPV', color='C3')\n",
    "    pred_pv['npv'].plot(label='Predicted NPV', color='C9')\n",
    "    decorate(xlabel='Prevalence', ylabel='Percent',\n",
    "             title='Predictive value, constant error rates')"
   ]
  },
  {
   "cell_type": "code",
   "execution_count": 31,
   "metadata": {},
   "outputs": [
    {
     "data": {
      "image/png": "[encoded data removed]",
      "text/plain": [
       "<Figure size 432x288 with 1 Axes>"
      ]
     },
     "metadata": {
      "needs_background": "light"
     },
     "output_type": "display_data"
    }
   ],
   "source": [
    "plot_cer_model(pred_pv)\n",
    "\n",
    "actual_pv['ppv'].plot(marker='o', linestyle='dotted', color='C3',\n",
    "                      label='COMPAS PPV')\n",
    "\n",
    "actual_pv['npv'].plot(marker='o', linestyle='dotted', color='C9',\n",
    "                      label='COMPAS NPV')\n",
    "\n",
    "plt.legend();"
   ]
  },
  {
   "cell_type": "markdown",
   "metadata": {},
   "source": [
    "The results agree with the CER model, which implies that COMPAS is sex-blind.  That is:\n",
    "\n",
    "* The error rates (FPR and FNR) are nearly identical for male and female defendants.\n",
    "\n",
    "* As a result, the predictive values (PPV and NPV) are substantially different.\n",
    "\n",
    "Also, as we saw in a previous section, the calibration curves are substantially different:\n",
    "\n",
    "* At every risk level, male subjects are more likely to be charged with another crime.\n",
    "\n",
    "* If a male and female defendant have the same probability of recidivism, the female defendant is given a risk score 1-2 points higher, on average.\n",
    "\n",
    "With respect to sex, COMPAS is fair by the criterion posed by the ProPublica article: it has the same error rates for groups with different prevalence.\n",
    "\n",
    "As a result, it is entirely unfair by the criteria of the WaPo article, which argues:\n",
    "\n",
    "> A risk score of seven for black defendants should mean the same thing as a score of seven for white defendants. Imagine if that were not so, and we systematically assigned whites higher risk scores than equally risky black defendants with the goal of mitigating ProPublica’s criticism. We would consider that a violation of the fundamental tenet of equal treatment.\n",
    "\n",
    "With respect to male and female defendants, COMPAS violates this tenet.\n",
    "\n",
    "So who's right?  We have two competing definitions of fairness, and it is literally impossible to satisfy them both.  Is it better to have equal error rates for all groups, as COMPAS does for men and women?  Or is it better to be calibrated, which implies equal predictive values?  Or, since we can't have both, should the test be \"tempered\", allowing both error rates and predictive values to depend on prevalence?\n",
    "\n",
    "In the next notebook, I will propose a possible answer to these questions."
   ]
  },
  {
   "cell_type": "markdown",
   "metadata": {},
   "source": [
    "## ROC\n",
    "\n",
    "**Note:** This section is a leftover for now.  Since the ProPublica article mentions AUC, I computes ROC curves for various groups.  I'll come back to this later.\n",
    "\n",
    "From [How We Analyzed the COMPAS Recidivism Algorithm](https://www.propublica.org/article/how-we-analyzed-the-compas-recidivism-algorithm)\n",
    "\n",
    "> Both results are lower than what Northpointe describes as a threshold for reliability. “A rule of thumb according to several recent articles is that AUCs of .70 or above typically indicate satisfactory predictive accuracy, and measures between .60 and .70 suggest low to moderate predictive accuracy,” the company says in its study."
   ]
  },
  {
   "cell_type": "markdown",
   "metadata": {},
   "source": [
    "The following function loops through possible thresholds for the low and high risk groups.  For each threshold, it makes the confusion matrix and computes sensitivity and specificity."
   ]
  },
  {
   "cell_type": "code",
   "execution_count": 32,
   "metadata": {},
   "outputs": [
    {
     "name": "stdout",
     "output_type": "stream",
     "text": [
      "1 (90.73737740646567, 29.158512720156555)\n",
      "2 (81.5474028332728, 45.00978473581213)\n",
      "3 (73.1202324736651, 56.360078277886494)\n",
      "4 (62.91318561569197, 67.57990867579909)\n",
      "5 (53.25099891027969, 76.15786040443575)\n",
      "6 (42.71703596077007, 82.87671232876713)\n",
      "7 (32.11042499091899, 89.26940639269407)\n",
      "8 (20.886305848165637, 93.50945857795173)\n",
      "9 (9.44424264438794, 97.71689497716895)\n"
     ]
    }
   ],
   "source": [
    "thresholds = range(1, 10)\n",
    "for threshold in thresholds:\n",
    "    matrix = make_matrix(cp, male, threshold)\n",
    "    t = sens_spec(matrix)\n",
    "    print(threshold, t)"
   ]
  },
  {
   "cell_type": "markdown",
   "metadata": {},
   "source": [
    "When the threshold is low, almost everyone is in the high risk group; in that case:\n",
    "\n",
    "* Sensitivity is high because most recidivists are in the high risk group, but \n",
    "\n",
    "* Specificity is low because most non-recidivists are *also* in the high risk group.\n",
    "\n",
    "When the threshold is high, almost everyone is in the low risk group, and the metrics are the other way around:\n",
    "\n",
    "* Sensitivity is low because most recidivists are in the low risk group, but\n",
    "\n",
    "* Specificity is high because most non-recidivists are *also* in the low risk group.\n",
    "\n",
    "One way to visualize these results is to plot sensitivity versus FPR (which is the complement of specificity) for a range of thresholds.  For historical reasons, the result is called a [receiver operating characteristic (ROC) curve](https://en.wikipedia.org/wiki/Receiver_operating_characteristic).\n",
    "\n",
    "The following function computes the ROC curve for a given subset of the data:"
   ]
  },
  {
   "cell_type": "code",
   "execution_count": 33,
   "metadata": {},
   "outputs": [],
   "source": [
    "def make_roc(cp, group):\n",
    "\n",
    "    thresholds = range(1, 10)\n",
    "    roc = pd.DataFrame(index=thresholds, \n",
    "                   columns=['sens', 'spec'])\n",
    "\n",
    "    for threshold in thresholds:\n",
    "        matrix = make_matrix(cp, group, threshold)\n",
    "        roc.loc[threshold] = sens_spec(matrix)\n",
    "    \n",
    "    roc['fpr'] = 100 - roc['spec']\n",
    "    \n",
    "    return roc"
   ]
  },
  {
   "cell_type": "code",
   "execution_count": 34,
   "metadata": {},
   "outputs": [
    {
     "data": {
      "text/html": [
       "<div>\n",
       "<style scoped>\n",
       "    .dataframe tbody tr th:only-of-type {\n",
       "        vertical-align: middle;\n",
       "    }\n",
       "\n",
       "    .dataframe tbody tr th {\n",
       "        vertical-align: top;\n",
       "    }\n",
       "\n",
       "    .dataframe thead th {\n",
       "        text-align: right;\n",
       "    }\n",
       "</style>\n",
       "<table border=\"1\" class=\"dataframe\">\n",
       "  <thead>\n",
       "    <tr style=\"text-align: right;\">\n",
       "      <th></th>\n",
       "      <th>sens</th>\n",
       "      <th>spec</th>\n",
       "      <th>fpr</th>\n",
       "    </tr>\n",
       "  </thead>\n",
       "  <tbody>\n",
       "    <tr>\n",
       "      <td>1</td>\n",
       "      <td>90.7374</td>\n",
       "      <td>29.1585</td>\n",
       "      <td>70.8415</td>\n",
       "    </tr>\n",
       "    <tr>\n",
       "      <td>2</td>\n",
       "      <td>81.5474</td>\n",
       "      <td>45.0098</td>\n",
       "      <td>54.9902</td>\n",
       "    </tr>\n",
       "    <tr>\n",
       "      <td>3</td>\n",
       "      <td>73.1202</td>\n",
       "      <td>56.3601</td>\n",
       "      <td>43.6399</td>\n",
       "    </tr>\n",
       "    <tr>\n",
       "      <td>4</td>\n",
       "      <td>62.9132</td>\n",
       "      <td>67.5799</td>\n",
       "      <td>32.4201</td>\n",
       "    </tr>\n",
       "    <tr>\n",
       "      <td>5</td>\n",
       "      <td>53.251</td>\n",
       "      <td>76.1579</td>\n",
       "      <td>23.8421</td>\n",
       "    </tr>\n",
       "    <tr>\n",
       "      <td>6</td>\n",
       "      <td>42.717</td>\n",
       "      <td>82.8767</td>\n",
       "      <td>17.1233</td>\n",
       "    </tr>\n",
       "    <tr>\n",
       "      <td>7</td>\n",
       "      <td>32.1104</td>\n",
       "      <td>89.2694</td>\n",
       "      <td>10.7306</td>\n",
       "    </tr>\n",
       "    <tr>\n",
       "      <td>8</td>\n",
       "      <td>20.8863</td>\n",
       "      <td>93.5095</td>\n",
       "      <td>6.49054</td>\n",
       "    </tr>\n",
       "    <tr>\n",
       "      <td>9</td>\n",
       "      <td>9.44424</td>\n",
       "      <td>97.7169</td>\n",
       "      <td>2.28311</td>\n",
       "    </tr>\n",
       "  </tbody>\n",
       "</table>\n",
       "</div>"
      ],
      "text/plain": [
       "      sens     spec      fpr\n",
       "1  90.7374  29.1585  70.8415\n",
       "2  81.5474  45.0098  54.9902\n",
       "3  73.1202  56.3601  43.6399\n",
       "4  62.9132  67.5799  32.4201\n",
       "5   53.251  76.1579  23.8421\n",
       "6   42.717  82.8767  17.1233\n",
       "7  32.1104  89.2694  10.7306\n",
       "8  20.8863  93.5095  6.49054\n",
       "9  9.44424  97.7169  2.28311"
      ]
     },
     "execution_count": 34,
     "metadata": {},
     "output_type": "execute_result"
    }
   ],
   "source": [
    "roc_male = make_roc(cp, male)\n",
    "roc_male"
   ]
  },
  {
   "cell_type": "code",
   "execution_count": 35,
   "metadata": {},
   "outputs": [
    {
     "data": {
      "text/html": [
       "<div>\n",
       "<style scoped>\n",
       "    .dataframe tbody tr th:only-of-type {\n",
       "        vertical-align: middle;\n",
       "    }\n",
       "\n",
       "    .dataframe tbody tr th {\n",
       "        vertical-align: top;\n",
       "    }\n",
       "\n",
       "    .dataframe thead th {\n",
       "        text-align: right;\n",
       "    }\n",
       "</style>\n",
       "<table border=\"1\" class=\"dataframe\">\n",
       "  <thead>\n",
       "    <tr style=\"text-align: right;\">\n",
       "      <th></th>\n",
       "      <th>sens</th>\n",
       "      <th>spec</th>\n",
       "      <th>fpr</th>\n",
       "    </tr>\n",
       "  </thead>\n",
       "  <tbody>\n",
       "    <tr>\n",
       "      <td>1</td>\n",
       "      <td>89.3574</td>\n",
       "      <td>26.5329</td>\n",
       "      <td>73.4671</td>\n",
       "    </tr>\n",
       "    <tr>\n",
       "      <td>2</td>\n",
       "      <td>81.3253</td>\n",
       "      <td>44.5931</td>\n",
       "      <td>55.4069</td>\n",
       "    </tr>\n",
       "    <tr>\n",
       "      <td>3</td>\n",
       "      <td>71.4859</td>\n",
       "      <td>57.748</td>\n",
       "      <td>42.252</td>\n",
       "    </tr>\n",
       "    <tr>\n",
       "      <td>4</td>\n",
       "      <td>60.8434</td>\n",
       "      <td>67.893</td>\n",
       "      <td>32.107</td>\n",
       "    </tr>\n",
       "    <tr>\n",
       "      <td>5</td>\n",
       "      <td>48.7952</td>\n",
       "      <td>78.1494</td>\n",
       "      <td>21.8506</td>\n",
       "    </tr>\n",
       "    <tr>\n",
       "      <td>6</td>\n",
       "      <td>35.1406</td>\n",
       "      <td>86.7336</td>\n",
       "      <td>13.2664</td>\n",
       "    </tr>\n",
       "    <tr>\n",
       "      <td>7</td>\n",
       "      <td>23.494</td>\n",
       "      <td>91.8618</td>\n",
       "      <td>8.13824</td>\n",
       "    </tr>\n",
       "    <tr>\n",
       "      <td>8</td>\n",
       "      <td>15.261</td>\n",
       "      <td>95.4292</td>\n",
       "      <td>4.57079</td>\n",
       "    </tr>\n",
       "    <tr>\n",
       "      <td>9</td>\n",
       "      <td>7.22892</td>\n",
       "      <td>98.1048</td>\n",
       "      <td>1.89521</td>\n",
       "    </tr>\n",
       "  </tbody>\n",
       "</table>\n",
       "</div>"
      ],
      "text/plain": [
       "      sens     spec      fpr\n",
       "1  89.3574  26.5329  73.4671\n",
       "2  81.3253  44.5931  55.4069\n",
       "3  71.4859   57.748   42.252\n",
       "4  60.8434   67.893   32.107\n",
       "5  48.7952  78.1494  21.8506\n",
       "6  35.1406  86.7336  13.2664\n",
       "7   23.494  91.8618  8.13824\n",
       "8   15.261  95.4292  4.57079\n",
       "9  7.22892  98.1048  1.89521"
      ]
     },
     "execution_count": 35,
     "metadata": {},
     "output_type": "execute_result"
    }
   ],
   "source": [
    "roc_female = make_roc(cp, female)\n",
    "roc_female"
   ]
  },
  {
   "cell_type": "code",
   "execution_count": 36,
   "metadata": {},
   "outputs": [],
   "source": [
    "def plot_roc(roc):\n",
    "    plt.plot(roc['fpr'], roc['sens'])"
   ]
  },
  {
   "cell_type": "code",
   "execution_count": 38,
   "metadata": {
    "scrolled": false
   },
   "outputs": [
    {
     "data": {
      "image/png": "[encoded data removed]",
      "text/plain": [
       "<Figure size 432x288 with 1 Axes>"
      ]
     },
     "metadata": {
      "needs_background": "light"
     },
     "output_type": "display_data"
    }
   ],
   "source": [
    "plot_roc(roc_male)\n",
    "plot_roc(roc_female)"
   ]
  },
  {
   "cell_type": "code",
   "execution_count": 41,
   "metadata": {},
   "outputs": [
    {
     "data": {
      "text/html": [
       "<div>\n",
       "<style scoped>\n",
       "    .dataframe tbody tr th:only-of-type {\n",
       "        vertical-align: middle;\n",
       "    }\n",
       "\n",
       "    .dataframe tbody tr th {\n",
       "        vertical-align: top;\n",
       "    }\n",
       "\n",
       "    .dataframe thead th {\n",
       "        text-align: right;\n",
       "    }\n",
       "</style>\n",
       "<table border=\"1\" class=\"dataframe\">\n",
       "  <thead>\n",
       "    <tr style=\"text-align: right;\">\n",
       "      <th></th>\n",
       "      <th>sens</th>\n",
       "      <th>spec</th>\n",
       "      <th>fpr</th>\n",
       "    </tr>\n",
       "  </thead>\n",
       "  <tbody>\n",
       "    <tr>\n",
       "      <td>1</td>\n",
       "      <td>85.3002</td>\n",
       "      <td>36.2231</td>\n",
       "      <td>63.7769</td>\n",
       "    </tr>\n",
       "    <tr>\n",
       "      <td>2</td>\n",
       "      <td>73.6025</td>\n",
       "      <td>52.8898</td>\n",
       "      <td>47.1102</td>\n",
       "    </tr>\n",
       "    <tr>\n",
       "      <td>3</td>\n",
       "      <td>63.9752</td>\n",
       "      <td>64.9866</td>\n",
       "      <td>35.0134</td>\n",
       "    </tr>\n",
       "    <tr>\n",
       "      <td>4</td>\n",
       "      <td>52.2774</td>\n",
       "      <td>76.5457</td>\n",
       "      <td>23.4543</td>\n",
       "    </tr>\n",
       "    <tr>\n",
       "      <td>5</td>\n",
       "      <td>40.7867</td>\n",
       "      <td>85.2823</td>\n",
       "      <td>14.7177</td>\n",
       "    </tr>\n",
       "    <tr>\n",
       "      <td>6</td>\n",
       "      <td>29.2961</td>\n",
       "      <td>90.8602</td>\n",
       "      <td>9.13978</td>\n",
       "    </tr>\n",
       "    <tr>\n",
       "      <td>7</td>\n",
       "      <td>20.1863</td>\n",
       "      <td>94.5565</td>\n",
       "      <td>5.44355</td>\n",
       "    </tr>\n",
       "    <tr>\n",
       "      <td>8</td>\n",
       "      <td>11.6977</td>\n",
       "      <td>96.707</td>\n",
       "      <td>3.29301</td>\n",
       "    </tr>\n",
       "    <tr>\n",
       "      <td>9</td>\n",
       "      <td>4.65839</td>\n",
       "      <td>98.7231</td>\n",
       "      <td>1.27688</td>\n",
       "    </tr>\n",
       "  </tbody>\n",
       "</table>\n",
       "</div>"
      ],
      "text/plain": [
       "      sens     spec      fpr\n",
       "1  85.3002  36.2231  63.7769\n",
       "2  73.6025  52.8898  47.1102\n",
       "3  63.9752  64.9866  35.0134\n",
       "4  52.2774  76.5457  23.4543\n",
       "5  40.7867  85.2823  14.7177\n",
       "6  29.2961  90.8602  9.13978\n",
       "7  20.1863  94.5565  5.44355\n",
       "8  11.6977   96.707  3.29301\n",
       "9  4.65839  98.7231  1.27688"
      ]
     },
     "execution_count": 41,
     "metadata": {},
     "output_type": "execute_result"
    }
   ],
   "source": [
    "white = (cp.race=='Caucasian')\n",
    "roc_white = make_roc(cp, white)\n",
    "roc_white"
   ]
  },
  {
   "cell_type": "code",
   "execution_count": 42,
   "metadata": {},
   "outputs": [
    {
     "data": {
      "text/html": [
       "<div>\n",
       "<style scoped>\n",
       "    .dataframe tbody tr th:only-of-type {\n",
       "        vertical-align: middle;\n",
       "    }\n",
       "\n",
       "    .dataframe tbody tr th {\n",
       "        vertical-align: top;\n",
       "    }\n",
       "\n",
       "    .dataframe thead th {\n",
       "        text-align: right;\n",
       "    }\n",
       "</style>\n",
       "<table border=\"1\" class=\"dataframe\">\n",
       "  <thead>\n",
       "    <tr style=\"text-align: right;\">\n",
       "      <th></th>\n",
       "      <th>sens</th>\n",
       "      <th>spec</th>\n",
       "      <th>fpr</th>\n",
       "    </tr>\n",
       "  </thead>\n",
       "  <tbody>\n",
       "    <tr>\n",
       "      <td>1</td>\n",
       "      <td>95.213</td>\n",
       "      <td>17.1031</td>\n",
       "      <td>82.8969</td>\n",
       "    </tr>\n",
       "    <tr>\n",
       "      <td>2</td>\n",
       "      <td>88.9532</td>\n",
       "      <td>32.3677</td>\n",
       "      <td>67.6323</td>\n",
       "    </tr>\n",
       "    <tr>\n",
       "      <td>3</td>\n",
       "      <td>81.3256</td>\n",
       "      <td>43.5655</td>\n",
       "      <td>56.4345</td>\n",
       "    </tr>\n",
       "    <tr>\n",
       "      <td>4</td>\n",
       "      <td>72.0147</td>\n",
       "      <td>55.1532</td>\n",
       "      <td>44.8468</td>\n",
       "    </tr>\n",
       "    <tr>\n",
       "      <td>5</td>\n",
       "      <td>62.7564</td>\n",
       "      <td>65.6825</td>\n",
       "      <td>34.3175</td>\n",
       "    </tr>\n",
       "    <tr>\n",
       "      <td>6</td>\n",
       "      <td>51.4466</td>\n",
       "      <td>75.0975</td>\n",
       "      <td>24.9025</td>\n",
       "    </tr>\n",
       "    <tr>\n",
       "      <td>7</td>\n",
       "      <td>38.9795</td>\n",
       "      <td>84.1783</td>\n",
       "      <td>15.8217</td>\n",
       "    </tr>\n",
       "    <tr>\n",
       "      <td>8</td>\n",
       "      <td>26.0915</td>\n",
       "      <td>90.5292</td>\n",
       "      <td>9.47075</td>\n",
       "    </tr>\n",
       "    <tr>\n",
       "      <td>9</td>\n",
       "      <td>11.9411</td>\n",
       "      <td>96.7131</td>\n",
       "      <td>3.28691</td>\n",
       "    </tr>\n",
       "  </tbody>\n",
       "</table>\n",
       "</div>"
      ],
      "text/plain": [
       "      sens     spec      fpr\n",
       "1   95.213  17.1031  82.8969\n",
       "2  88.9532  32.3677  67.6323\n",
       "3  81.3256  43.5655  56.4345\n",
       "4  72.0147  55.1532  44.8468\n",
       "5  62.7564  65.6825  34.3175\n",
       "6  51.4466  75.0975  24.9025\n",
       "7  38.9795  84.1783  15.8217\n",
       "8  26.0915  90.5292  9.47075\n",
       "9  11.9411  96.7131  3.28691"
      ]
     },
     "execution_count": 42,
     "metadata": {},
     "output_type": "execute_result"
    }
   ],
   "source": [
    "black = (cp.race=='African-American')\n",
    "roc_black = make_roc(cp, black)\n",
    "roc_black"
   ]
  },
  {
   "cell_type": "code",
   "execution_count": 44,
   "metadata": {
    "scrolled": true
   },
   "outputs": [
    {
     "data": {
      "image/png": "[encoded data removed]",
      "text/plain": [
       "<Figure size 432x288 with 1 Axes>"
      ]
     },
     "metadata": {
      "needs_background": "light"
     },
     "output_type": "display_data"
    }
   ],
   "source": [
    "plot_roc(roc_white)\n",
    "plot_roc(roc_black)"
   ]
  },
  {
   "cell_type": "code",
   "execution_count": null,
   "metadata": {},
   "outputs": [],
   "source": []
  }
 ],
 "metadata": {
  "kernelspec": {
   "display_name": "Python 3",
   "language": "python",
   "name": "python3"
  },
  "language_info": {
   "codemirror_mode": {
    "name": "ipython",
    "version": 3
   },
   "file_extension": ".py",
   "mimetype": "text/x-python",
   "name": "python",
   "nbconvert_exporter": "python",
   "pygments_lexer": "ipython3",
   "version": "3.7.4"
  }
 },
 "nbformat": 4,
 "nbformat_minor": 4
}
